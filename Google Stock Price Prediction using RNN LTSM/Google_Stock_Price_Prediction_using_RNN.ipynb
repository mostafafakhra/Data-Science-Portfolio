{
  "cells": [
    {
      "cell_type": "markdown",
      "metadata": {
        "id": "_4eNM-h8uGUz"
      },
      "source": [
        "# Google Stock Price Prediction using RNN LTSM"
      ]
    },
    {
      "cell_type": "markdown",
      "metadata": {
        "id": "qIayuhPrzNlD"
      },
      "source": [
        "This dataset has been downloaded from Google Stock. The prices are based on 2017 to 2021. The goal of this project is to predict the prices of January 2022. The prediction will be done by using the Recurrent Neural Network."
      ]
    },
    {
      "cell_type": "markdown",
      "metadata": {
        "id": "3FKotik_0cQk"
      },
      "source": [
        "# Part 1 - Data Preprocessing"
      ]
    },
    {
      "cell_type": "markdown",
      "metadata": {
        "id": "yVjuh1OQuQEN"
      },
      "source": [
        "## Importing Essential Libraries"
      ]
    },
    {
      "cell_type": "code",
      "execution_count": 1,
      "metadata": {
        "id": "sb58pU7ctlsd"
      },
      "outputs": [],
      "source": [
        "import numpy as np\n",
        "import matplotlib.pyplot as plt\n",
        "import pandas as pd"
      ]
    },
    {
      "cell_type": "markdown",
      "metadata": {
        "id": "CjL7jhD8uckK"
      },
      "source": [
        "## Importing the Training dataset"
      ]
    },
    {
      "cell_type": "code",
      "execution_count": 2,
      "metadata": {
        "colab": {
          "base_uri": "https://localhost:8080/",
          "height": 206
        },
        "id": "w1-IE5R7zaFx",
        "outputId": "8709b69d-3e6f-4194-e51b-bb1f2e68cffa"
      },
      "outputs": [
        {
          "output_type": "execute_result",
          "data": {
            "text/plain": [
              "       Date        Open        High         Low       Close   Adj Close  \\\n",
              "0  1/3/2017  778.809998  789.630005  775.799988  786.140015  786.140015   \n",
              "1  1/4/2017  788.359985  791.340027  783.159973  786.900024  786.900024   \n",
              "2  1/5/2017  786.080017  794.479980  785.020020  794.020020  794.020020   \n",
              "3  1/6/2017  795.260010  807.900024  792.203979  806.150024  806.150024   \n",
              "4  1/9/2017  806.400024  809.966003  802.830017  806.650024  806.650024   \n",
              "\n",
              "    Volume  \n",
              "0  1657300  \n",
              "1  1073000  \n",
              "2  1335200  \n",
              "3  1640200  \n",
              "4  1274600  "
            ],
            "text/html": [
              "\n",
              "  <div id=\"df-d80f740a-35ca-417c-90eb-86455166ef51\">\n",
              "    <div class=\"colab-df-container\">\n",
              "      <div>\n",
              "<style scoped>\n",
              "    .dataframe tbody tr th:only-of-type {\n",
              "        vertical-align: middle;\n",
              "    }\n",
              "\n",
              "    .dataframe tbody tr th {\n",
              "        vertical-align: top;\n",
              "    }\n",
              "\n",
              "    .dataframe thead th {\n",
              "        text-align: right;\n",
              "    }\n",
              "</style>\n",
              "<table border=\"1\" class=\"dataframe\">\n",
              "  <thead>\n",
              "    <tr style=\"text-align: right;\">\n",
              "      <th></th>\n",
              "      <th>Date</th>\n",
              "      <th>Open</th>\n",
              "      <th>High</th>\n",
              "      <th>Low</th>\n",
              "      <th>Close</th>\n",
              "      <th>Adj Close</th>\n",
              "      <th>Volume</th>\n",
              "    </tr>\n",
              "  </thead>\n",
              "  <tbody>\n",
              "    <tr>\n",
              "      <th>0</th>\n",
              "      <td>1/3/2017</td>\n",
              "      <td>778.809998</td>\n",
              "      <td>789.630005</td>\n",
              "      <td>775.799988</td>\n",
              "      <td>786.140015</td>\n",
              "      <td>786.140015</td>\n",
              "      <td>1657300</td>\n",
              "    </tr>\n",
              "    <tr>\n",
              "      <th>1</th>\n",
              "      <td>1/4/2017</td>\n",
              "      <td>788.359985</td>\n",
              "      <td>791.340027</td>\n",
              "      <td>783.159973</td>\n",
              "      <td>786.900024</td>\n",
              "      <td>786.900024</td>\n",
              "      <td>1073000</td>\n",
              "    </tr>\n",
              "    <tr>\n",
              "      <th>2</th>\n",
              "      <td>1/5/2017</td>\n",
              "      <td>786.080017</td>\n",
              "      <td>794.479980</td>\n",
              "      <td>785.020020</td>\n",
              "      <td>794.020020</td>\n",
              "      <td>794.020020</td>\n",
              "      <td>1335200</td>\n",
              "    </tr>\n",
              "    <tr>\n",
              "      <th>3</th>\n",
              "      <td>1/6/2017</td>\n",
              "      <td>795.260010</td>\n",
              "      <td>807.900024</td>\n",
              "      <td>792.203979</td>\n",
              "      <td>806.150024</td>\n",
              "      <td>806.150024</td>\n",
              "      <td>1640200</td>\n",
              "    </tr>\n",
              "    <tr>\n",
              "      <th>4</th>\n",
              "      <td>1/9/2017</td>\n",
              "      <td>806.400024</td>\n",
              "      <td>809.966003</td>\n",
              "      <td>802.830017</td>\n",
              "      <td>806.650024</td>\n",
              "      <td>806.650024</td>\n",
              "      <td>1274600</td>\n",
              "    </tr>\n",
              "  </tbody>\n",
              "</table>\n",
              "</div>\n",
              "      <button class=\"colab-df-convert\" onclick=\"convertToInteractive('df-d80f740a-35ca-417c-90eb-86455166ef51')\"\n",
              "              title=\"Convert this dataframe to an interactive table.\"\n",
              "              style=\"display:none;\">\n",
              "        \n",
              "  <svg xmlns=\"http://www.w3.org/2000/svg\" height=\"24px\"viewBox=\"0 0 24 24\"\n",
              "       width=\"24px\">\n",
              "    <path d=\"M0 0h24v24H0V0z\" fill=\"none\"/>\n",
              "    <path d=\"M18.56 5.44l.94 2.06.94-2.06 2.06-.94-2.06-.94-.94-2.06-.94 2.06-2.06.94zm-11 1L8.5 8.5l.94-2.06 2.06-.94-2.06-.94L8.5 2.5l-.94 2.06-2.06.94zm10 10l.94 2.06.94-2.06 2.06-.94-2.06-.94-.94-2.06-.94 2.06-2.06.94z\"/><path d=\"M17.41 7.96l-1.37-1.37c-.4-.4-.92-.59-1.43-.59-.52 0-1.04.2-1.43.59L10.3 9.45l-7.72 7.72c-.78.78-.78 2.05 0 2.83L4 21.41c.39.39.9.59 1.41.59.51 0 1.02-.2 1.41-.59l7.78-7.78 2.81-2.81c.8-.78.8-2.07 0-2.86zM5.41 20L4 18.59l7.72-7.72 1.47 1.35L5.41 20z\"/>\n",
              "  </svg>\n",
              "      </button>\n",
              "      \n",
              "  <style>\n",
              "    .colab-df-container {\n",
              "      display:flex;\n",
              "      flex-wrap:wrap;\n",
              "      gap: 12px;\n",
              "    }\n",
              "\n",
              "    .colab-df-convert {\n",
              "      background-color: #E8F0FE;\n",
              "      border: none;\n",
              "      border-radius: 50%;\n",
              "      cursor: pointer;\n",
              "      display: none;\n",
              "      fill: #1967D2;\n",
              "      height: 32px;\n",
              "      padding: 0 0 0 0;\n",
              "      width: 32px;\n",
              "    }\n",
              "\n",
              "    .colab-df-convert:hover {\n",
              "      background-color: #E2EBFA;\n",
              "      box-shadow: 0px 1px 2px rgba(60, 64, 67, 0.3), 0px 1px 3px 1px rgba(60, 64, 67, 0.15);\n",
              "      fill: #174EA6;\n",
              "    }\n",
              "\n",
              "    [theme=dark] .colab-df-convert {\n",
              "      background-color: #3B4455;\n",
              "      fill: #D2E3FC;\n",
              "    }\n",
              "\n",
              "    [theme=dark] .colab-df-convert:hover {\n",
              "      background-color: #434B5C;\n",
              "      box-shadow: 0px 1px 3px 1px rgba(0, 0, 0, 0.15);\n",
              "      filter: drop-shadow(0px 1px 2px rgba(0, 0, 0, 0.3));\n",
              "      fill: #FFFFFF;\n",
              "    }\n",
              "  </style>\n",
              "\n",
              "      <script>\n",
              "        const buttonEl =\n",
              "          document.querySelector('#df-d80f740a-35ca-417c-90eb-86455166ef51 button.colab-df-convert');\n",
              "        buttonEl.style.display =\n",
              "          google.colab.kernel.accessAllowed ? 'block' : 'none';\n",
              "\n",
              "        async function convertToInteractive(key) {\n",
              "          const element = document.querySelector('#df-d80f740a-35ca-417c-90eb-86455166ef51');\n",
              "          const dataTable =\n",
              "            await google.colab.kernel.invokeFunction('convertToInteractive',\n",
              "                                                     [key], {});\n",
              "          if (!dataTable) return;\n",
              "\n",
              "          const docLinkHtml = 'Like what you see? Visit the ' +\n",
              "            '<a target=\"_blank\" href=https://colab.research.google.com/notebooks/data_table.ipynb>data table notebook</a>'\n",
              "            + ' to learn more about interactive tables.';\n",
              "          element.innerHTML = '';\n",
              "          dataTable['output_type'] = 'display_data';\n",
              "          await google.colab.output.renderOutput(dataTable, element);\n",
              "          const docLink = document.createElement('div');\n",
              "          docLink.innerHTML = docLinkHtml;\n",
              "          element.appendChild(docLink);\n",
              "        }\n",
              "      </script>\n",
              "    </div>\n",
              "  </div>\n",
              "  "
            ]
          },
          "metadata": {},
          "execution_count": 2
        }
      ],
      "source": [
        "dataset_train = pd.read_csv('Google 2017 to 2021 - Train Data.csv')\n",
        "dataset_train.head()"
      ]
    },
    {
      "cell_type": "markdown",
      "metadata": {
        "id": "Dv1rIECF0QkG"
      },
      "source": [
        "We will need only the first two columns."
      ]
    },
    {
      "cell_type": "code",
      "execution_count": 3,
      "metadata": {
        "id": "WLWNH8xe0JvF"
      },
      "outputs": [],
      "source": [
        "training_set = dataset_train.iloc[:, 1:2].values"
      ]
    },
    {
      "cell_type": "markdown",
      "metadata": {
        "id": "AqnB3VJ5zqNV"
      },
      "source": [
        "## Features Scaling"
      ]
    },
    {
      "cell_type": "markdown",
      "metadata": {
        "id": "db2EHIg72qg_"
      },
      "source": [
        "Features Scaling can be done by: \n",
        "* Standardization = (x-mean(x)) / standard deviation(x)\n",
        "*   Normalization = (x-min(x)) / (max(x)-min(x))\n",
        "\n",
        "It is recommended for this case to use normalization because our RNN model will be using the \"sigmoid\" function in the output RNN layer.\n",
        "Thus, we will use MinMaxScaler class. The feature range (0, 1) means that all the new scale stock prices will be between 0 & 1 in addition to the fact that the normalization is based on the max minus min where max is larger than min.\n"
      ]
    },
    {
      "cell_type": "code",
      "execution_count": 4,
      "metadata": {
        "id": "Z_QfmfjGzt1j"
      },
      "outputs": [],
      "source": [
        "from sklearn.preprocessing import MinMaxScaler\n",
        "sc = MinMaxScaler(feature_range = (0, 1))\n",
        "training_set_scaled = sc.fit_transform(training_set)"
      ]
    },
    {
      "cell_type": "markdown",
      "metadata": {
        "id": "pz1OGqUC1DNm"
      },
      "source": [
        "## Creating a data structure with 60 timesteps and 1 output"
      ]
    },
    {
      "cell_type": "markdown",
      "metadata": {
        "id": "hmX6bjQXAzo0"
      },
      "source": [
        "60 time steps means that at each time T, the RNN is going to look at the 60 stock prices before time T, that is the stock prices between 60 days before time T and time T.\n",
        "\n",
        "Based on the trends it is capturing during these 60 previous timesteps, it will try to predict the next output.\n",
        "\n",
        "So 60 timesteps of the past information from which our RNN is gonna try to learn and understand some correlations, or some trends, and based on its understanding, it's going to try to predict the next output.\n",
        "\n",
        "Trying timestep:\n",
        "* 1 timestep will cause overfitting. \n",
        "* 20 timesteps wasn't enough to capture all of the trends.\n",
        "* 30 & 40 were good but I ended up with 60 which led to the best results.\n",
        "60 timesteps correspond to three months. So that means that each day we're gonna look at the three previous month to try to predict the stock price the next day."
      ]
    },
    {
      "cell_type": "code",
      "execution_count": 5,
      "metadata": {
        "id": "fzLvDyOm1D2p"
      },
      "outputs": [],
      "source": [
        "X_train = []\n",
        "y_train = []\n",
        "for i in range(60, 1258):\n",
        "    X_train.append(training_set_scaled[i-60:i, 0])\n",
        "    y_train.append(training_set_scaled[i, 0])\n",
        "X_train, y_train = np.array(X_train), np.array(y_train)"
      ]
    },
    {
      "cell_type": "markdown",
      "metadata": {
        "id": "clxIggGN1G_Q"
      },
      "source": [
        "## Reshaping"
      ]
    },
    {
      "cell_type": "code",
      "execution_count": 6,
      "metadata": {
        "id": "m-9ERnw51LEi"
      },
      "outputs": [],
      "source": [
        "X_train = np.reshape(X_train, (X_train.shape[0], X_train.shape[1], 1))"
      ]
    },
    {
      "cell_type": "markdown",
      "metadata": {
        "id": "ajVj9jm21N-G"
      },
      "source": [
        "# Part 2 - Building and Training the RNN"
      ]
    },
    {
      "cell_type": "markdown",
      "metadata": {
        "id": "OZhhvDXC1ReD"
      },
      "source": [
        "## Importing the Keras libraries and packages"
      ]
    },
    {
      "cell_type": "code",
      "execution_count": 7,
      "metadata": {
        "id": "5-SCujco1P6d"
      },
      "outputs": [],
      "source": [
        "from keras.models import Sequential\n",
        "from keras.layers import Dense\n",
        "from keras.layers import LSTM\n",
        "from keras.layers import Dropout # This is essential to add some dropout regularization"
      ]
    },
    {
      "cell_type": "markdown",
      "metadata": {
        "id": "5Q8OBpK31U6w"
      },
      "source": [
        "## Initialising the RNN"
      ]
    },
    {
      "cell_type": "markdown",
      "metadata": {
        "id": "FeoJqzgVcTmB"
      },
      "source": [
        "We will initialize our RNN model as a sequence of layers.\n",
        "The object is called regressor because in this model we are predicting a continuous output."
      ]
    },
    {
      "cell_type": "code",
      "execution_count": 8,
      "metadata": {
        "id": "pgNMYiUO1Xig"
      },
      "outputs": [],
      "source": [
        "regressor = Sequential()"
      ]
    },
    {
      "cell_type": "markdown",
      "metadata": {
        "id": "pDyjJ0Px1Y0t"
      },
      "source": [
        "## Adding the first LSTM layer and some Dropout regularization"
      ]
    },
    {
      "cell_type": "markdown",
      "metadata": {
        "id": "2sHW9GPRejDD"
      },
      "source": [
        "Dropout layer is important to help in avoiding overfitting.\n",
        "The parameters are as following:\n",
        "* units = is the number of LTSM cells we want to have in this layer. This must be a big relevant number because we want to have a high dimensionality in each of the multiple LSTM layers.\n",
        "* return_sequence = this is set to True because we are building a stacked LSTM which therefore will have several LTSM layers. \n",
        "We will be adding later on more layers after this layer.\n",
        "Therefore will have several LSTM layers and when we add another LSTM layer.\n",
        "After the one we are creating right now, we have to set the return sequences argument to true.\n",
        "Once we are done with our LSTM layers, we are not gonna add another one after that, so we will set it equal to false,\n",
        "* input_shape = this is the shape of the input containing that we created in the last step of the preprocessing part which is in the shape of 3D array.\n",
        "\n",
        "\n",
        "Dropout refers to the number of neurons we want to drop to regularize our model. The typical and most recommended rate is to use 0.2 which means 20% of our neurons in this layer will be ignored in the training.\n"
      ]
    },
    {
      "cell_type": "code",
      "execution_count": 9,
      "metadata": {
        "id": "_FAeTiJ_1bjt"
      },
      "outputs": [],
      "source": [
        "regressor.add(LSTM(units = 256, return_sequences = True, input_shape = (X_train.shape[1], 1)))\n",
        "regressor.add(Dropout(0.1))"
      ]
    },
    {
      "cell_type": "markdown",
      "metadata": {
        "id": "PGF3XPrR1erK"
      },
      "source": [
        "## Adding a second LSTM layer and some Dropout regularization"
      ]
    },
    {
      "cell_type": "markdown",
      "metadata": {
        "id": "9xFo6Bb_1hpp"
      },
      "source": [
        "## Adding a third LSTM layer and some Dropout regularization\n",
        "\n",
        "---\n",
        "\n"
      ]
    },
    {
      "cell_type": "code",
      "source": [
        "regressor.add(LSTM(units = 128, return_sequences = True))\n",
        "regressor.add(Dropout(0.1))"
      ],
      "metadata": {
        "id": "RevaAg_b2PiQ"
      },
      "execution_count": 10,
      "outputs": []
    },
    {
      "cell_type": "code",
      "source": [
        "regressor.add(LSTM(units = 128, return_sequences = True))\n",
        "regressor.add(Dropout(0.1))"
      ],
      "metadata": {
        "id": "bQBBP0pyIV51"
      },
      "execution_count": 11,
      "outputs": []
    },
    {
      "cell_type": "code",
      "execution_count": 12,
      "metadata": {
        "id": "5UFyZElpVNZp"
      },
      "outputs": [],
      "source": [
        "regressor.add(LSTM(units = 64))\n",
        "regressor.add(Dropout(0.1))"
      ]
    },
    {
      "cell_type": "markdown",
      "metadata": {
        "id": "b0fq3-YO1oVH"
      },
      "source": [
        "## Adding the output layer"
      ]
    },
    {
      "cell_type": "markdown",
      "metadata": {
        "id": "Go9k15NYjf-j"
      },
      "source": [
        "The units is = 1 because the output we want is one which is the predicted price."
      ]
    },
    {
      "cell_type": "code",
      "execution_count": 13,
      "metadata": {
        "id": "SYmI88071qE-"
      },
      "outputs": [],
      "source": [
        "regressor.add(Dense(units = 1))"
      ]
    },
    {
      "cell_type": "markdown",
      "metadata": {
        "id": "KO89ti7C1rRq"
      },
      "source": [
        "## Compiling the RNN"
      ]
    },
    {
      "cell_type": "markdown",
      "metadata": {
        "id": "Dn14TSj4kZjR"
      },
      "source": [
        "The Adam optimizer is always a safe choice. It's always a good choice because it is very powerful and it always performs some relevant updates of the weights.\n",
        "The loss is \"mean_sqiared_error\" because this is a regression problem."
      ]
    },
    {
      "cell_type": "code",
      "execution_count": 14,
      "metadata": {
        "id": "QZyUkQp81svb"
      },
      "outputs": [],
      "source": [
        "regressor.compile(optimizer = 'adam', loss = 'mean_squared_error')"
      ]
    },
    {
      "cell_type": "markdown",
      "metadata": {
        "id": "VZTcHf1U1t6Z"
      },
      "source": [
        "## Fitting the RNN to the Training set"
      ]
    },
    {
      "cell_type": "markdown",
      "metadata": {
        "id": "q7cYDfWqleVl"
      },
      "source": [
        "* epochs = is the number of training times that we want to take place. The loss rate should not be very low or too high in order to reach into the highest accuracy possible and this is based on the epochs number.\n",
        "* batch_size = means that our network will be built on batches of observations that is batches of stock prices going into the neural network."
      ]
    },
    {
      "cell_type": "code",
      "execution_count": 15,
      "metadata": {
        "colab": {
          "base_uri": "https://localhost:8080/"
        },
        "id": "hBcd_ErV1vtL",
        "outputId": "c4c15367-31cc-4a4c-9204-1de83eedfa3e"
      },
      "outputs": [
        {
          "output_type": "stream",
          "name": "stdout",
          "text": [
            "Epoch 1/100\n",
            "38/38 [==============================] - 41s 613ms/step - loss: 0.0151\n",
            "Epoch 2/100\n",
            "38/38 [==============================] - 16s 416ms/step - loss: 0.0017\n",
            "Epoch 3/100\n",
            "38/38 [==============================] - 16s 414ms/step - loss: 0.0015\n",
            "Epoch 4/100\n",
            "38/38 [==============================] - 16s 414ms/step - loss: 0.0015\n",
            "Epoch 5/100\n",
            "38/38 [==============================] - 16s 416ms/step - loss: 0.0016\n",
            "Epoch 6/100\n",
            "38/38 [==============================] - 16s 417ms/step - loss: 0.0014\n",
            "Epoch 7/100\n",
            "38/38 [==============================] - 17s 439ms/step - loss: 0.0015\n",
            "Epoch 8/100\n",
            "38/38 [==============================] - 16s 419ms/step - loss: 0.0018\n",
            "Epoch 9/100\n",
            "38/38 [==============================] - 17s 449ms/step - loss: 0.0013\n",
            "Epoch 10/100\n",
            "38/38 [==============================] - 16s 419ms/step - loss: 0.0012\n",
            "Epoch 11/100\n",
            "38/38 [==============================] - 16s 416ms/step - loss: 0.0013\n",
            "Epoch 12/100\n",
            "38/38 [==============================] - 16s 413ms/step - loss: 0.0014\n",
            "Epoch 13/100\n",
            "38/38 [==============================] - 17s 446ms/step - loss: 0.0012\n",
            "Epoch 14/100\n",
            "38/38 [==============================] - 16s 416ms/step - loss: 0.0011\n",
            "Epoch 15/100\n",
            "38/38 [==============================] - 16s 414ms/step - loss: 0.0011\n",
            "Epoch 16/100\n",
            "38/38 [==============================] - 16s 418ms/step - loss: 0.0014\n",
            "Epoch 17/100\n",
            "38/38 [==============================] - 16s 413ms/step - loss: 0.0011\n",
            "Epoch 18/100\n",
            "38/38 [==============================] - 16s 419ms/step - loss: 0.0011\n",
            "Epoch 19/100\n",
            "38/38 [==============================] - 16s 419ms/step - loss: 0.0010\n",
            "Epoch 20/100\n",
            "38/38 [==============================] - 17s 448ms/step - loss: 8.9630e-04\n",
            "Epoch 21/100\n",
            "38/38 [==============================] - 16s 424ms/step - loss: 0.0010\n",
            "Epoch 22/100\n",
            "38/38 [==============================] - 16s 413ms/step - loss: 9.6690e-04\n",
            "Epoch 23/100\n",
            "38/38 [==============================] - 16s 418ms/step - loss: 0.0011\n",
            "Epoch 24/100\n",
            "38/38 [==============================] - 16s 420ms/step - loss: 0.0012\n",
            "Epoch 25/100\n",
            "38/38 [==============================] - 16s 422ms/step - loss: 9.6513e-04\n",
            "Epoch 26/100\n",
            "38/38 [==============================] - 16s 420ms/step - loss: 9.5035e-04\n",
            "Epoch 27/100\n",
            "38/38 [==============================] - 16s 426ms/step - loss: 9.4669e-04\n",
            "Epoch 28/100\n",
            "38/38 [==============================] - 16s 425ms/step - loss: 0.0011\n",
            "Epoch 29/100\n",
            "38/38 [==============================] - 16s 424ms/step - loss: 9.5662e-04\n",
            "Epoch 30/100\n",
            "38/38 [==============================] - 17s 460ms/step - loss: 8.0872e-04\n",
            "Epoch 31/100\n",
            "38/38 [==============================] - 17s 446ms/step - loss: 8.9197e-04\n",
            "Epoch 32/100\n",
            "38/38 [==============================] - 16s 420ms/step - loss: 0.0010\n",
            "Epoch 33/100\n",
            "38/38 [==============================] - 16s 417ms/step - loss: 9.5948e-04\n",
            "Epoch 34/100\n",
            "38/38 [==============================] - 16s 416ms/step - loss: 8.2456e-04\n",
            "Epoch 35/100\n",
            "38/38 [==============================] - 16s 414ms/step - loss: 9.5275e-04\n",
            "Epoch 36/100\n",
            "38/38 [==============================] - 16s 411ms/step - loss: 7.9448e-04\n",
            "Epoch 37/100\n",
            "38/38 [==============================] - 16s 416ms/step - loss: 0.0010\n",
            "Epoch 38/100\n",
            "38/38 [==============================] - 16s 416ms/step - loss: 9.5483e-04\n",
            "Epoch 39/100\n",
            "38/38 [==============================] - 16s 415ms/step - loss: 7.6132e-04\n",
            "Epoch 40/100\n",
            "38/38 [==============================] - 16s 418ms/step - loss: 7.5641e-04\n",
            "Epoch 41/100\n",
            "38/38 [==============================] - 16s 421ms/step - loss: 6.3474e-04\n",
            "Epoch 42/100\n",
            "38/38 [==============================] - 16s 420ms/step - loss: 9.9955e-04\n",
            "Epoch 43/100\n",
            "38/38 [==============================] - 17s 451ms/step - loss: 7.7629e-04\n",
            "Epoch 44/100\n",
            "38/38 [==============================] - 16s 421ms/step - loss: 7.7782e-04\n",
            "Epoch 45/100\n",
            "38/38 [==============================] - 16s 425ms/step - loss: 6.5364e-04\n",
            "Epoch 46/100\n",
            "38/38 [==============================] - 16s 424ms/step - loss: 8.5639e-04\n",
            "Epoch 47/100\n",
            "38/38 [==============================] - 16s 418ms/step - loss: 8.2689e-04\n",
            "Epoch 48/100\n",
            "38/38 [==============================] - 16s 422ms/step - loss: 6.9223e-04\n",
            "Epoch 49/100\n",
            "38/38 [==============================] - 16s 420ms/step - loss: 6.7475e-04\n",
            "Epoch 50/100\n",
            "38/38 [==============================] - 16s 424ms/step - loss: 7.6889e-04\n",
            "Epoch 51/100\n",
            "38/38 [==============================] - 16s 432ms/step - loss: 7.5492e-04\n",
            "Epoch 52/100\n",
            "38/38 [==============================] - 16s 428ms/step - loss: 6.6279e-04\n",
            "Epoch 53/100\n",
            "38/38 [==============================] - 18s 467ms/step - loss: 5.3510e-04\n",
            "Epoch 54/100\n",
            "38/38 [==============================] - 16s 432ms/step - loss: 6.4340e-04\n",
            "Epoch 55/100\n",
            "38/38 [==============================] - 16s 423ms/step - loss: 6.6879e-04\n",
            "Epoch 56/100\n",
            "38/38 [==============================] - 16s 416ms/step - loss: 9.3659e-04\n",
            "Epoch 57/100\n",
            "38/38 [==============================] - 16s 423ms/step - loss: 8.7053e-04\n",
            "Epoch 58/100\n",
            "38/38 [==============================] - 16s 422ms/step - loss: 6.9603e-04\n",
            "Epoch 59/100\n",
            "38/38 [==============================] - 16s 421ms/step - loss: 6.4444e-04\n",
            "Epoch 60/100\n",
            "38/38 [==============================] - 16s 427ms/step - loss: 6.5182e-04\n",
            "Epoch 61/100\n",
            "38/38 [==============================] - 16s 417ms/step - loss: 6.3269e-04\n",
            "Epoch 62/100\n",
            "38/38 [==============================] - 16s 419ms/step - loss: 5.7380e-04\n",
            "Epoch 63/100\n",
            "38/38 [==============================] - 16s 419ms/step - loss: 5.9919e-04\n",
            "Epoch 64/100\n",
            "38/38 [==============================] - 17s 444ms/step - loss: 6.2845e-04\n",
            "Epoch 65/100\n",
            "38/38 [==============================] - 16s 422ms/step - loss: 7.6122e-04\n",
            "Epoch 66/100\n",
            "38/38 [==============================] - 16s 424ms/step - loss: 6.1484e-04\n",
            "Epoch 67/100\n",
            "38/38 [==============================] - 17s 441ms/step - loss: 6.3235e-04\n",
            "Epoch 68/100\n",
            "38/38 [==============================] - 17s 435ms/step - loss: 5.5778e-04\n",
            "Epoch 69/100\n",
            "38/38 [==============================] - 16s 432ms/step - loss: 5.3648e-04\n",
            "Epoch 70/100\n",
            "38/38 [==============================] - 16s 430ms/step - loss: 6.5110e-04\n",
            "Epoch 71/100\n",
            "38/38 [==============================] - 16s 422ms/step - loss: 6.0961e-04\n",
            "Epoch 72/100\n",
            "38/38 [==============================] - 16s 420ms/step - loss: 6.2865e-04\n",
            "Epoch 73/100\n",
            "38/38 [==============================] - 16s 422ms/step - loss: 4.9258e-04\n",
            "Epoch 74/100\n",
            "38/38 [==============================] - 17s 449ms/step - loss: 5.7708e-04\n",
            "Epoch 75/100\n",
            "38/38 [==============================] - 16s 423ms/step - loss: 5.0206e-04\n",
            "Epoch 76/100\n",
            "38/38 [==============================] - 16s 420ms/step - loss: 5.6226e-04\n",
            "Epoch 77/100\n",
            "38/38 [==============================] - 16s 419ms/step - loss: 5.1455e-04\n",
            "Epoch 78/100\n",
            "38/38 [==============================] - 16s 418ms/step - loss: 5.1570e-04\n",
            "Epoch 79/100\n",
            "38/38 [==============================] - 16s 416ms/step - loss: 5.8524e-04\n",
            "Epoch 80/100\n",
            "38/38 [==============================] - 16s 416ms/step - loss: 4.8481e-04\n",
            "Epoch 81/100\n",
            "38/38 [==============================] - 16s 416ms/step - loss: 5.9411e-04\n",
            "Epoch 82/100\n",
            "38/38 [==============================] - 16s 413ms/step - loss: 5.9221e-04\n",
            "Epoch 83/100\n",
            "38/38 [==============================] - 16s 414ms/step - loss: 8.4763e-04\n",
            "Epoch 84/100\n",
            "38/38 [==============================] - 16s 415ms/step - loss: 5.6193e-04\n",
            "Epoch 85/100\n",
            "38/38 [==============================] - 17s 444ms/step - loss: 5.0039e-04\n",
            "Epoch 86/100\n",
            "38/38 [==============================] - 16s 411ms/step - loss: 5.9126e-04\n",
            "Epoch 87/100\n",
            "38/38 [==============================] - 16s 413ms/step - loss: 6.9232e-04\n",
            "Epoch 88/100\n",
            "38/38 [==============================] - 16s 410ms/step - loss: 5.8588e-04\n",
            "Epoch 89/100\n",
            "38/38 [==============================] - 16s 413ms/step - loss: 4.5816e-04\n",
            "Epoch 90/100\n",
            "38/38 [==============================] - 16s 414ms/step - loss: 5.2641e-04\n",
            "Epoch 91/100\n",
            "38/38 [==============================] - 16s 412ms/step - loss: 4.4681e-04\n",
            "Epoch 92/100\n",
            "38/38 [==============================] - 16s 411ms/step - loss: 4.8015e-04\n",
            "Epoch 93/100\n",
            "38/38 [==============================] - 16s 411ms/step - loss: 4.5362e-04\n",
            "Epoch 94/100\n",
            "38/38 [==============================] - 16s 412ms/step - loss: 6.1061e-04\n",
            "Epoch 95/100\n",
            "38/38 [==============================] - 16s 414ms/step - loss: 5.3324e-04\n",
            "Epoch 96/100\n",
            "38/38 [==============================] - 16s 411ms/step - loss: 4.4141e-04\n",
            "Epoch 97/100\n",
            "38/38 [==============================] - 16s 412ms/step - loss: 5.7299e-04\n",
            "Epoch 98/100\n",
            "38/38 [==============================] - 17s 440ms/step - loss: 6.2766e-04\n",
            "Epoch 99/100\n",
            "38/38 [==============================] - 16s 409ms/step - loss: 6.0431e-04\n",
            "Epoch 100/100\n",
            "38/38 [==============================] - 16s 413ms/step - loss: 4.8050e-04\n"
          ]
        },
        {
          "output_type": "execute_result",
          "data": {
            "text/plain": [
              "<keras.callbacks.History at 0x7f36ce929350>"
            ]
          },
          "metadata": {},
          "execution_count": 15
        }
      ],
      "source": [
        "regressor.fit(X_train, y_train, epochs = 100, batch_size = 32)"
      ]
    },
    {
      "cell_type": "markdown",
      "metadata": {
        "id": "tPZ6ZA891wv4"
      },
      "source": [
        "# Part 3 - Making the predictions and visualising the results"
      ]
    },
    {
      "cell_type": "markdown",
      "metadata": {
        "id": "rXjdEUSr1z_Z"
      },
      "source": [
        "## Getting the real stock price of Jan 2022\n"
      ]
    },
    {
      "cell_type": "code",
      "execution_count": 16,
      "metadata": {
        "id": "1qxnDRdR10Fp"
      },
      "outputs": [],
      "source": [
        "dataset_test = pd.read_csv('Google Jan 2022 - Test Data.csv')\n",
        "real_stock_price = dataset_test.iloc[:, 1:2].values"
      ]
    },
    {
      "cell_type": "markdown",
      "metadata": {
        "id": "F-XJXZKoZtFc"
      },
      "source": [
        "## Getting the predicted stock price of Jan 2022"
      ]
    },
    {
      "cell_type": "code",
      "execution_count": 17,
      "metadata": {
        "id": "rUqYbF6QZvGy"
      },
      "outputs": [],
      "source": [
        "dataset_total = pd.concat((dataset_train['Open'], dataset_test['Open']), axis = 0)\n",
        "inputs = dataset_total[len(dataset_total) - len(dataset_test) - 60:].values\n",
        "inputs = inputs.reshape(-1,1)\n",
        "inputs = sc.transform(inputs)\n",
        "X_test = []\n",
        "for i in range(60, 79):\n",
        "    X_test.append(inputs[i-60:i, 0])\n",
        "X_test = np.array(X_test)\n",
        "X_test = np.reshape(X_test, (X_test.shape[0], X_test.shape[1], 1))\n",
        "predicted_stock_price = regressor.predict(X_test)\n",
        "predicted_stock_price = sc.inverse_transform(predicted_stock_price)"
      ]
    },
    {
      "cell_type": "markdown",
      "metadata": {
        "id": "ClWdEV4FZwVp"
      },
      "source": [
        "## Visualising the results"
      ]
    },
    {
      "cell_type": "code",
      "execution_count": 21,
      "metadata": {
        "id": "OcVIbV8_ZyeN",
        "colab": {
          "base_uri": "https://localhost:8080/",
          "height": 295
        },
        "outputId": "ee52804f-20e1-4a12-da95-3d55c4b32355"
      },
      "outputs": [
        {
          "output_type": "display_data",
          "data": {
            "text/plain": [
              "<Figure size 432x288 with 1 Axes>"
            ],
            "image/png": "[encoded data removed]"
          },
          "metadata": {
            "needs_background": "light"
          }
        }
      ],
      "source": [
        "plt.plot(real_stock_price, color = 'red', label = 'Real Google Stock Price')\n",
        "plt.plot(predicted_stock_price, color = 'blue', label = 'Predicted Google Stock Price')\n",
        "plt.title('Google Stock Price Prediction')\n",
        "plt.xlabel('Time')\n",
        "plt.ylabel('Google Stock Price')\n",
        "plt.legend()\n",
        "plt.show()"
      ]
    },
    {
      "cell_type": "markdown",
      "metadata": {
        "id": "gw1HmbgkzAJd"
      },
      "source": [
        "## Computing RMSE for our Stock Price Prediction Problem"
      ]
    },
    {
      "cell_type": "code",
      "execution_count": 19,
      "metadata": {
        "id": "8N3FnPltzIRe"
      },
      "outputs": [],
      "source": [
        "import math\n",
        "from sklearn.metrics import mean_squared_error\n",
        "rmse = math.sqrt(mean_squared_error(real_stock_price, predicted_stock_price))"
      ]
    },
    {
      "cell_type": "code",
      "execution_count": 20,
      "metadata": {
        "id": "6h4jNBYZzU1n",
        "colab": {
          "base_uri": "https://localhost:8080/"
        },
        "outputId": "664812ef-3ddc-465f-b2f4-c62b3586dc30"
      },
      "outputs": [
        {
          "output_type": "execute_result",
          "data": {
            "text/plain": [
              "90.74202268040484"
            ]
          },
          "metadata": {},
          "execution_count": 20
        }
      ],
      "source": [
        "rmse"
      ]
    }
  ],
  "metadata": {
    "colab": {
      "collapsed_sections": [],
      "name": "Google Stock Price Prediction using RNN.ipynb",
      "provenance": []
    },
    "kernelspec": {
      "display_name": "Python 3",
      "name": "python3"
    },
    "language_info": {
      "name": "python"
    }
  },
  "nbformat": 4,
  "nbformat_minor": 0
}