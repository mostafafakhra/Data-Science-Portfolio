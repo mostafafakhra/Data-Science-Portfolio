{
 "cells": [
  {
   "cell_type": "markdown",
   "id": "04b08828",
   "metadata": {},
   "source": [
    "# The Movies Dataset"
   ]
  },
  {
   "cell_type": "markdown",
   "id": "8dc4e208",
   "metadata": {},
   "source": [
    "* Data source: The movies database, for ~45K movies in movielens data\n",
    "* Data + kernel on kaggle datasets:  https://www.kaggle.com/rounakbanik/the-movies-dataset\n",
    "       "
   ]
  },
  {
   "cell_type": "markdown",
   "id": "097f7c69",
   "metadata": {},
   "source": [
    "This notebook is about my first data science for Movies dataset from Kaggle using Clustering Kmeans algorithm."
   ]
  },
  {
   "cell_type": "markdown",
   "id": "c6401e68",
   "metadata": {},
   "source": [
    "# Data Description\n",
    "The content of the data is as following:\n",
    "* movies_metadata.csv: The main Movies Metadata file. Contains information on 45,000 movies featured in the Full MovieLens dataset. Features include posters, backdrops, budget, revenue, release dates, languages, production countries and companies.\n",
    "\n",
    "* keywords.csv: Contains the movie plot keywords for our MovieLens movies. Available in the form of a stringified JSON Object.\n",
    "\n",
    "* credits.csv: Consists of Cast and Crew Information for all our movies. Available in the form of a stringified JSON Object.\n",
    "\n",
    "* links.csv: The file that contains the TMDB and IMDB IDs of all the movies featured in the Full MovieLens dataset.\n",
    "\n",
    "\n",
    "The Movie Links and Ratings have been obtained from the Official GroupLens website. The files are a part of the dataset available here: https://grouplens.org/datasets/movielens/latest/"
   ]
  },
  {
   "cell_type": "code",
   "execution_count": 162,
   "id": "54019aaa",
   "metadata": {},
   "outputs": [],
   "source": [
    "import numpy as np # linear algebra\n",
    "import pandas as pd # data processing, CSV file I/O (e.g. pd.read_csv)\n",
    "import matplotlib.pyplot as plt #import visualization tools\n",
    "import seaborn as sns  # import seaborn visualization tool\n",
    "import pylab as pl\n",
    "from sklearn.cluster import KMeans\n",
    "from sklearn.decomposition import PCA\n",
    "%matplotlib inline"
   ]
  },
  {
   "cell_type": "code",
   "execution_count": 163,
   "id": "81ca3cc2",
   "metadata": {},
   "outputs": [
    {
     "name": "stdout",
     "output_type": "stream",
     "text": [
      "                                                    cast  \\\n",
      "0      [{'cast_id': 14, 'character': 'Woody (voice)',...   \n",
      "1      [{'cast_id': 1, 'character': 'Alan Parrish', '...   \n",
      "2      [{'cast_id': 2, 'character': 'Max Goldman', 'c...   \n",
      "3      [{'cast_id': 1, 'character': \"Savannah 'Vannah...   \n",
      "4      [{'cast_id': 1, 'character': 'George Banks', '...   \n",
      "...                                                  ...   \n",
      "45471  [{'cast_id': 0, 'character': '', 'credit_id': ...   \n",
      "45472  [{'cast_id': 1002, 'character': 'Sister Angela...   \n",
      "45473  [{'cast_id': 6, 'character': 'Emily Shaw', 'cr...   \n",
      "45474  [{'cast_id': 2, 'character': '', 'credit_id': ...   \n",
      "45475                                                 []   \n",
      "\n",
      "                                                    crew      id  \n",
      "0      [{'credit_id': '52fe4284c3a36847f8024f49', 'de...     862  \n",
      "1      [{'credit_id': '52fe44bfc3a36847f80a7cd1', 'de...    8844  \n",
      "2      [{'credit_id': '52fe466a9251416c75077a89', 'de...   15602  \n",
      "3      [{'credit_id': '52fe44779251416c91011acb', 'de...   31357  \n",
      "4      [{'credit_id': '52fe44959251416c75039ed7', 'de...   11862  \n",
      "...                                                  ...     ...  \n",
      "45471  [{'credit_id': '5894a97d925141426c00818c', 'de...  439050  \n",
      "45472  [{'credit_id': '52fe4af1c3a36847f81e9b15', 'de...  111109  \n",
      "45473  [{'credit_id': '52fe4776c3a368484e0c8387', 'de...   67758  \n",
      "45474  [{'credit_id': '533bccebc3a36844cf0011a7', 'de...  227506  \n",
      "45475  [{'credit_id': '593e676c92514105b702e68e', 'de...  461257  \n",
      "\n",
      "[45476 rows x 3 columns]\n"
     ]
    }
   ],
   "source": [
    "df_credits = pd.read_csv(r\"C:\\Users\\mosta\\Desktop\\the-movies-dataset\\credits.csv\")\n",
    "print(df_credits)"
   ]
  },
  {
   "cell_type": "code",
   "execution_count": 164,
   "id": "eb38bdd6",
   "metadata": {},
   "outputs": [
    {
     "data": {
      "text/html": [
       "<div>\n",
       "<style scoped>\n",
       "    .dataframe tbody tr th:only-of-type {\n",
       "        vertical-align: middle;\n",
       "    }\n",
       "\n",
       "    .dataframe tbody tr th {\n",
       "        vertical-align: top;\n",
       "    }\n",
       "\n",
       "    .dataframe thead th {\n",
       "        text-align: right;\n",
       "    }\n",
       "</style>\n",
       "<table border=\"1\" class=\"dataframe\">\n",
       "  <thead>\n",
       "    <tr style=\"text-align: right;\">\n",
       "      <th></th>\n",
       "      <th>cast</th>\n",
       "      <th>crew</th>\n",
       "      <th>id</th>\n",
       "    </tr>\n",
       "  </thead>\n",
       "  <tbody>\n",
       "    <tr>\n",
       "      <th>0</th>\n",
       "      <td>[{'cast_id': 14, 'character': 'Woody (voice)',...</td>\n",
       "      <td>[{'credit_id': '52fe4284c3a36847f8024f49', 'de...</td>\n",
       "      <td>862</td>\n",
       "    </tr>\n",
       "    <tr>\n",
       "      <th>1</th>\n",
       "      <td>[{'cast_id': 1, 'character': 'Alan Parrish', '...</td>\n",
       "      <td>[{'credit_id': '52fe44bfc3a36847f80a7cd1', 'de...</td>\n",
       "      <td>8844</td>\n",
       "    </tr>\n",
       "    <tr>\n",
       "      <th>2</th>\n",
       "      <td>[{'cast_id': 2, 'character': 'Max Goldman', 'c...</td>\n",
       "      <td>[{'credit_id': '52fe466a9251416c75077a89', 'de...</td>\n",
       "      <td>15602</td>\n",
       "    </tr>\n",
       "    <tr>\n",
       "      <th>3</th>\n",
       "      <td>[{'cast_id': 1, 'character': \"Savannah 'Vannah...</td>\n",
       "      <td>[{'credit_id': '52fe44779251416c91011acb', 'de...</td>\n",
       "      <td>31357</td>\n",
       "    </tr>\n",
       "    <tr>\n",
       "      <th>4</th>\n",
       "      <td>[{'cast_id': 1, 'character': 'George Banks', '...</td>\n",
       "      <td>[{'credit_id': '52fe44959251416c75039ed7', 'de...</td>\n",
       "      <td>11862</td>\n",
       "    </tr>\n",
       "  </tbody>\n",
       "</table>\n",
       "</div>"
      ],
      "text/plain": [
       "                                                cast  \\\n",
       "0  [{'cast_id': 14, 'character': 'Woody (voice)',...   \n",
       "1  [{'cast_id': 1, 'character': 'Alan Parrish', '...   \n",
       "2  [{'cast_id': 2, 'character': 'Max Goldman', 'c...   \n",
       "3  [{'cast_id': 1, 'character': \"Savannah 'Vannah...   \n",
       "4  [{'cast_id': 1, 'character': 'George Banks', '...   \n",
       "\n",
       "                                                crew     id  \n",
       "0  [{'credit_id': '52fe4284c3a36847f8024f49', 'de...    862  \n",
       "1  [{'credit_id': '52fe44bfc3a36847f80a7cd1', 'de...   8844  \n",
       "2  [{'credit_id': '52fe466a9251416c75077a89', 'de...  15602  \n",
       "3  [{'credit_id': '52fe44779251416c91011acb', 'de...  31357  \n",
       "4  [{'credit_id': '52fe44959251416c75039ed7', 'de...  11862  "
      ]
     },
     "execution_count": 164,
     "metadata": {},
     "output_type": "execute_result"
    }
   ],
   "source": [
    "df_credits.head()"
   ]
  },
  {
   "cell_type": "code",
   "execution_count": 165,
   "id": "7bd1ad3d",
   "metadata": {},
   "outputs": [
    {
     "ename": "PermissionError",
     "evalue": "[Errno 13] Permission denied: 'C:\\\\Users\\\\mosta\\\\Desktop\\\\the-movies-dataset'",
     "output_type": "error",
     "traceback": [
      "\u001b[1;31m---------------------------------------------------------------------------\u001b[0m",
      "\u001b[1;31mPermissionError\u001b[0m                           Traceback (most recent call last)",
      "\u001b[1;32m~\\AppData\\Local\\Temp/ipykernel_7444/3249647936.py\u001b[0m in \u001b[0;36m<module>\u001b[1;34m\u001b[0m\n\u001b[1;32m----> 1\u001b[1;33m \u001b[0mdf\u001b[0m \u001b[1;33m=\u001b[0m \u001b[0mpd\u001b[0m\u001b[1;33m.\u001b[0m\u001b[0mread_csv\u001b[0m\u001b[1;33m(\u001b[0m\u001b[1;34mr'C:\\Users\\mosta\\Desktop\\the-movies-dataset'\u001b[0m\u001b[1;33m)\u001b[0m\u001b[1;33m\u001b[0m\u001b[1;33m\u001b[0m\u001b[0m\n\u001b[0m\u001b[0;32m      2\u001b[0m \u001b[0mdf\u001b[0m\u001b[1;33m.\u001b[0m\u001b[0mhead\u001b[0m\u001b[1;33m(\u001b[0m\u001b[1;33m)\u001b[0m\u001b[1;33m\u001b[0m\u001b[1;33m\u001b[0m\u001b[0m\n",
      "\u001b[1;32m~\\anaconda3\\lib\\site-packages\\pandas\\util\\_decorators.py\u001b[0m in \u001b[0;36mwrapper\u001b[1;34m(*args, **kwargs)\u001b[0m\n\u001b[0;32m    309\u001b[0m                     \u001b[0mstacklevel\u001b[0m\u001b[1;33m=\u001b[0m\u001b[0mstacklevel\u001b[0m\u001b[1;33m,\u001b[0m\u001b[1;33m\u001b[0m\u001b[1;33m\u001b[0m\u001b[0m\n\u001b[0;32m    310\u001b[0m                 )\n\u001b[1;32m--> 311\u001b[1;33m             \u001b[1;32mreturn\u001b[0m \u001b[0mfunc\u001b[0m\u001b[1;33m(\u001b[0m\u001b[1;33m*\u001b[0m\u001b[0margs\u001b[0m\u001b[1;33m,\u001b[0m \u001b[1;33m**\u001b[0m\u001b[0mkwargs\u001b[0m\u001b[1;33m)\u001b[0m\u001b[1;33m\u001b[0m\u001b[1;33m\u001b[0m\u001b[0m\n\u001b[0m\u001b[0;32m    312\u001b[0m \u001b[1;33m\u001b[0m\u001b[0m\n\u001b[0;32m    313\u001b[0m         \u001b[1;32mreturn\u001b[0m \u001b[0mwrapper\u001b[0m\u001b[1;33m\u001b[0m\u001b[1;33m\u001b[0m\u001b[0m\n",
      "\u001b[1;32m~\\anaconda3\\lib\\site-packages\\pandas\\io\\parsers\\readers.py\u001b[0m in \u001b[0;36mread_csv\u001b[1;34m(filepath_or_buffer, sep, delimiter, header, names, index_col, usecols, squeeze, prefix, mangle_dupe_cols, dtype, engine, converters, true_values, false_values, skipinitialspace, skiprows, skipfooter, nrows, na_values, keep_default_na, na_filter, verbose, skip_blank_lines, parse_dates, infer_datetime_format, keep_date_col, date_parser, dayfirst, cache_dates, iterator, chunksize, compression, thousands, decimal, lineterminator, quotechar, quoting, doublequote, escapechar, comment, encoding, encoding_errors, dialect, error_bad_lines, warn_bad_lines, on_bad_lines, delim_whitespace, low_memory, memory_map, float_precision, storage_options)\u001b[0m\n\u001b[0;32m    584\u001b[0m     \u001b[0mkwds\u001b[0m\u001b[1;33m.\u001b[0m\u001b[0mupdate\u001b[0m\u001b[1;33m(\u001b[0m\u001b[0mkwds_defaults\u001b[0m\u001b[1;33m)\u001b[0m\u001b[1;33m\u001b[0m\u001b[1;33m\u001b[0m\u001b[0m\n\u001b[0;32m    585\u001b[0m \u001b[1;33m\u001b[0m\u001b[0m\n\u001b[1;32m--> 586\u001b[1;33m     \u001b[1;32mreturn\u001b[0m \u001b[0m_read\u001b[0m\u001b[1;33m(\u001b[0m\u001b[0mfilepath_or_buffer\u001b[0m\u001b[1;33m,\u001b[0m \u001b[0mkwds\u001b[0m\u001b[1;33m)\u001b[0m\u001b[1;33m\u001b[0m\u001b[1;33m\u001b[0m\u001b[0m\n\u001b[0m\u001b[0;32m    587\u001b[0m \u001b[1;33m\u001b[0m\u001b[0m\n\u001b[0;32m    588\u001b[0m \u001b[1;33m\u001b[0m\u001b[0m\n",
      "\u001b[1;32m~\\anaconda3\\lib\\site-packages\\pandas\\io\\parsers\\readers.py\u001b[0m in \u001b[0;36m_read\u001b[1;34m(filepath_or_buffer, kwds)\u001b[0m\n\u001b[0;32m    480\u001b[0m \u001b[1;33m\u001b[0m\u001b[0m\n\u001b[0;32m    481\u001b[0m     \u001b[1;31m# Create the parser.\u001b[0m\u001b[1;33m\u001b[0m\u001b[1;33m\u001b[0m\u001b[0m\n\u001b[1;32m--> 482\u001b[1;33m     \u001b[0mparser\u001b[0m \u001b[1;33m=\u001b[0m \u001b[0mTextFileReader\u001b[0m\u001b[1;33m(\u001b[0m\u001b[0mfilepath_or_buffer\u001b[0m\u001b[1;33m,\u001b[0m \u001b[1;33m**\u001b[0m\u001b[0mkwds\u001b[0m\u001b[1;33m)\u001b[0m\u001b[1;33m\u001b[0m\u001b[1;33m\u001b[0m\u001b[0m\n\u001b[0m\u001b[0;32m    483\u001b[0m \u001b[1;33m\u001b[0m\u001b[0m\n\u001b[0;32m    484\u001b[0m     \u001b[1;32mif\u001b[0m \u001b[0mchunksize\u001b[0m \u001b[1;32mor\u001b[0m \u001b[0miterator\u001b[0m\u001b[1;33m:\u001b[0m\u001b[1;33m\u001b[0m\u001b[1;33m\u001b[0m\u001b[0m\n",
      "\u001b[1;32m~\\anaconda3\\lib\\site-packages\\pandas\\io\\parsers\\readers.py\u001b[0m in \u001b[0;36m__init__\u001b[1;34m(self, f, engine, **kwds)\u001b[0m\n\u001b[0;32m    809\u001b[0m             \u001b[0mself\u001b[0m\u001b[1;33m.\u001b[0m\u001b[0moptions\u001b[0m\u001b[1;33m[\u001b[0m\u001b[1;34m\"has_index_names\"\u001b[0m\u001b[1;33m]\u001b[0m \u001b[1;33m=\u001b[0m \u001b[0mkwds\u001b[0m\u001b[1;33m[\u001b[0m\u001b[1;34m\"has_index_names\"\u001b[0m\u001b[1;33m]\u001b[0m\u001b[1;33m\u001b[0m\u001b[1;33m\u001b[0m\u001b[0m\n\u001b[0;32m    810\u001b[0m \u001b[1;33m\u001b[0m\u001b[0m\n\u001b[1;32m--> 811\u001b[1;33m         \u001b[0mself\u001b[0m\u001b[1;33m.\u001b[0m\u001b[0m_engine\u001b[0m \u001b[1;33m=\u001b[0m \u001b[0mself\u001b[0m\u001b[1;33m.\u001b[0m\u001b[0m_make_engine\u001b[0m\u001b[1;33m(\u001b[0m\u001b[0mself\u001b[0m\u001b[1;33m.\u001b[0m\u001b[0mengine\u001b[0m\u001b[1;33m)\u001b[0m\u001b[1;33m\u001b[0m\u001b[1;33m\u001b[0m\u001b[0m\n\u001b[0m\u001b[0;32m    812\u001b[0m \u001b[1;33m\u001b[0m\u001b[0m\n\u001b[0;32m    813\u001b[0m     \u001b[1;32mdef\u001b[0m \u001b[0mclose\u001b[0m\u001b[1;33m(\u001b[0m\u001b[0mself\u001b[0m\u001b[1;33m)\u001b[0m\u001b[1;33m:\u001b[0m\u001b[1;33m\u001b[0m\u001b[1;33m\u001b[0m\u001b[0m\n",
      "\u001b[1;32m~\\anaconda3\\lib\\site-packages\\pandas\\io\\parsers\\readers.py\u001b[0m in \u001b[0;36m_make_engine\u001b[1;34m(self, engine)\u001b[0m\n\u001b[0;32m   1038\u001b[0m             )\n\u001b[0;32m   1039\u001b[0m         \u001b[1;31m# error: Too many arguments for \"ParserBase\"\u001b[0m\u001b[1;33m\u001b[0m\u001b[1;33m\u001b[0m\u001b[0m\n\u001b[1;32m-> 1040\u001b[1;33m         \u001b[1;32mreturn\u001b[0m \u001b[0mmapping\u001b[0m\u001b[1;33m[\u001b[0m\u001b[0mengine\u001b[0m\u001b[1;33m]\u001b[0m\u001b[1;33m(\u001b[0m\u001b[0mself\u001b[0m\u001b[1;33m.\u001b[0m\u001b[0mf\u001b[0m\u001b[1;33m,\u001b[0m \u001b[1;33m**\u001b[0m\u001b[0mself\u001b[0m\u001b[1;33m.\u001b[0m\u001b[0moptions\u001b[0m\u001b[1;33m)\u001b[0m  \u001b[1;31m# type: ignore[call-arg]\u001b[0m\u001b[1;33m\u001b[0m\u001b[1;33m\u001b[0m\u001b[0m\n\u001b[0m\u001b[0;32m   1041\u001b[0m \u001b[1;33m\u001b[0m\u001b[0m\n\u001b[0;32m   1042\u001b[0m     \u001b[1;32mdef\u001b[0m \u001b[0m_failover_to_python\u001b[0m\u001b[1;33m(\u001b[0m\u001b[0mself\u001b[0m\u001b[1;33m)\u001b[0m\u001b[1;33m:\u001b[0m\u001b[1;33m\u001b[0m\u001b[1;33m\u001b[0m\u001b[0m\n",
      "\u001b[1;32m~\\anaconda3\\lib\\site-packages\\pandas\\io\\parsers\\c_parser_wrapper.py\u001b[0m in \u001b[0;36m__init__\u001b[1;34m(self, src, **kwds)\u001b[0m\n\u001b[0;32m     49\u001b[0m \u001b[1;33m\u001b[0m\u001b[0m\n\u001b[0;32m     50\u001b[0m         \u001b[1;31m# open handles\u001b[0m\u001b[1;33m\u001b[0m\u001b[1;33m\u001b[0m\u001b[0m\n\u001b[1;32m---> 51\u001b[1;33m         \u001b[0mself\u001b[0m\u001b[1;33m.\u001b[0m\u001b[0m_open_handles\u001b[0m\u001b[1;33m(\u001b[0m\u001b[0msrc\u001b[0m\u001b[1;33m,\u001b[0m \u001b[0mkwds\u001b[0m\u001b[1;33m)\u001b[0m\u001b[1;33m\u001b[0m\u001b[1;33m\u001b[0m\u001b[0m\n\u001b[0m\u001b[0;32m     52\u001b[0m         \u001b[1;32massert\u001b[0m \u001b[0mself\u001b[0m\u001b[1;33m.\u001b[0m\u001b[0mhandles\u001b[0m \u001b[1;32mis\u001b[0m \u001b[1;32mnot\u001b[0m \u001b[1;32mNone\u001b[0m\u001b[1;33m\u001b[0m\u001b[1;33m\u001b[0m\u001b[0m\n\u001b[0;32m     53\u001b[0m \u001b[1;33m\u001b[0m\u001b[0m\n",
      "\u001b[1;32m~\\anaconda3\\lib\\site-packages\\pandas\\io\\parsers\\base_parser.py\u001b[0m in \u001b[0;36m_open_handles\u001b[1;34m(self, src, kwds)\u001b[0m\n\u001b[0;32m    220\u001b[0m         \u001b[0mLet\u001b[0m \u001b[0mthe\u001b[0m \u001b[0mreaders\u001b[0m \u001b[0mopen\u001b[0m \u001b[0mIOHandles\u001b[0m \u001b[0mafter\u001b[0m \u001b[0mthey\u001b[0m \u001b[0mare\u001b[0m \u001b[0mdone\u001b[0m \u001b[1;32mwith\u001b[0m \u001b[0mtheir\u001b[0m \u001b[0mpotential\u001b[0m \u001b[0mraises\u001b[0m\u001b[1;33m.\u001b[0m\u001b[1;33m\u001b[0m\u001b[1;33m\u001b[0m\u001b[0m\n\u001b[0;32m    221\u001b[0m         \"\"\"\n\u001b[1;32m--> 222\u001b[1;33m         self.handles = get_handle(\n\u001b[0m\u001b[0;32m    223\u001b[0m             \u001b[0msrc\u001b[0m\u001b[1;33m,\u001b[0m\u001b[1;33m\u001b[0m\u001b[1;33m\u001b[0m\u001b[0m\n\u001b[0;32m    224\u001b[0m             \u001b[1;34m\"r\"\u001b[0m\u001b[1;33m,\u001b[0m\u001b[1;33m\u001b[0m\u001b[1;33m\u001b[0m\u001b[0m\n",
      "\u001b[1;32m~\\anaconda3\\lib\\site-packages\\pandas\\io\\common.py\u001b[0m in \u001b[0;36mget_handle\u001b[1;34m(path_or_buf, mode, encoding, compression, memory_map, is_text, errors, storage_options)\u001b[0m\n\u001b[0;32m    700\u001b[0m         \u001b[1;32mif\u001b[0m \u001b[0mioargs\u001b[0m\u001b[1;33m.\u001b[0m\u001b[0mencoding\u001b[0m \u001b[1;32mand\u001b[0m \u001b[1;34m\"b\"\u001b[0m \u001b[1;32mnot\u001b[0m \u001b[1;32min\u001b[0m \u001b[0mioargs\u001b[0m\u001b[1;33m.\u001b[0m\u001b[0mmode\u001b[0m\u001b[1;33m:\u001b[0m\u001b[1;33m\u001b[0m\u001b[1;33m\u001b[0m\u001b[0m\n\u001b[0;32m    701\u001b[0m             \u001b[1;31m# Encoding\u001b[0m\u001b[1;33m\u001b[0m\u001b[1;33m\u001b[0m\u001b[0m\n\u001b[1;32m--> 702\u001b[1;33m             handle = open(\n\u001b[0m\u001b[0;32m    703\u001b[0m                 \u001b[0mhandle\u001b[0m\u001b[1;33m,\u001b[0m\u001b[1;33m\u001b[0m\u001b[1;33m\u001b[0m\u001b[0m\n\u001b[0;32m    704\u001b[0m                 \u001b[0mioargs\u001b[0m\u001b[1;33m.\u001b[0m\u001b[0mmode\u001b[0m\u001b[1;33m,\u001b[0m\u001b[1;33m\u001b[0m\u001b[1;33m\u001b[0m\u001b[0m\n",
      "\u001b[1;31mPermissionError\u001b[0m: [Errno 13] Permission denied: 'C:\\\\Users\\\\mosta\\\\Desktop\\\\the-movies-dataset'"
     ]
    }
   ],
   "source": [
    "df = pd.read_csv(r'C:\\Users\\mosta\\Desktop\\the-movies-dataset')\n",
    "df.head()"
   ]
  },
  {
   "cell_type": "code",
   "execution_count": null,
   "id": "2f9e033c",
   "metadata": {},
   "outputs": [],
   "source": [
    "df[[\"id\",\"imdb_id\"]].dtypes"
   ]
  },
  {
   "cell_type": "code",
   "execution_count": null,
   "id": "61d64409",
   "metadata": {},
   "outputs": [],
   "source": [
    "df.isnull().sum()"
   ]
  },
  {
   "cell_type": "code",
   "execution_count": null,
   "id": "2a0d5554",
   "metadata": {},
   "outputs": [],
   "source": [
    "df.head()"
   ]
  },
  {
   "cell_type": "code",
   "execution_count": null,
   "id": "a20b22cc",
   "metadata": {},
   "outputs": [],
   "source": [
    "df.shape"
   ]
  },
  {
   "cell_type": "code",
   "execution_count": null,
   "id": "ccfecac4",
   "metadata": {},
   "outputs": [],
   "source": [
    "df.dropna(subset=[\"imdb_id\"]).shape"
   ]
  },
  {
   "cell_type": "code",
   "execution_count": null,
   "id": "1d4b8ca1",
   "metadata": {},
   "outputs": [],
   "source": [
    "df.describe()"
   ]
  },
  {
   "cell_type": "code",
   "execution_count": null,
   "id": "9c572602",
   "metadata": {},
   "outputs": [],
   "source": [
    "df.corr()"
   ]
  },
  {
   "cell_type": "code",
   "execution_count": null,
   "id": "57ce3d1e",
   "metadata": {},
   "outputs": [],
   "source": [
    "#correlation map\n",
    "f,ax = plt.subplots(figsize=(8, 8))\n",
    "sns.heatmap(df.corr(), annot=True, linewidths=.5, fmt= '.1f',ax=ax)\n",
    "plt.show()"
   ]
  },
  {
   "cell_type": "code",
   "execution_count": null,
   "id": "5793ee6c",
   "metadata": {},
   "outputs": [],
   "source": [
    "df.drop(df.index[19730],inplace=True)\n",
    "df.drop(df.index[29502],inplace=True)\n",
    "df.drop(df.index[35585],inplace=True)"
   ]
  },
  {
   "cell_type": "code",
   "execution_count": null,
   "id": "df9cb618",
   "metadata": {},
   "outputs": [],
   "source": [
    "df_numeric = df[['budget','popularity','revenue','runtime','vote_average','vote_count','title']]"
   ]
  },
  {
   "cell_type": "code",
   "execution_count": 166,
   "id": "1957b662",
   "metadata": {},
   "outputs": [
    {
     "data": {
      "text/html": [
       "<div>\n",
       "<style scoped>\n",
       "    .dataframe tbody tr th:only-of-type {\n",
       "        vertical-align: middle;\n",
       "    }\n",
       "\n",
       "    .dataframe tbody tr th {\n",
       "        vertical-align: top;\n",
       "    }\n",
       "\n",
       "    .dataframe thead th {\n",
       "        text-align: right;\n",
       "    }\n",
       "</style>\n",
       "<table border=\"1\" class=\"dataframe\">\n",
       "  <thead>\n",
       "    <tr style=\"text-align: right;\">\n",
       "      <th></th>\n",
       "      <th>budget</th>\n",
       "      <th>popularity</th>\n",
       "      <th>revenue</th>\n",
       "      <th>runtime</th>\n",
       "      <th>vote_average</th>\n",
       "      <th>vote_count</th>\n",
       "      <th>title</th>\n",
       "      <th>cluster</th>\n",
       "    </tr>\n",
       "  </thead>\n",
       "  <tbody>\n",
       "    <tr>\n",
       "      <th>0</th>\n",
       "      <td>30000000</td>\n",
       "      <td>21.946943</td>\n",
       "      <td>373554033.0</td>\n",
       "      <td>81.0</td>\n",
       "      <td>7.7</td>\n",
       "      <td>5415.0</td>\n",
       "      <td>Toy Story</td>\n",
       "      <td>1</td>\n",
       "    </tr>\n",
       "    <tr>\n",
       "      <th>1</th>\n",
       "      <td>65000000</td>\n",
       "      <td>17.015539</td>\n",
       "      <td>262797249.0</td>\n",
       "      <td>104.0</td>\n",
       "      <td>6.9</td>\n",
       "      <td>2413.0</td>\n",
       "      <td>Jumanji</td>\n",
       "      <td>2</td>\n",
       "    </tr>\n",
       "    <tr>\n",
       "      <th>2</th>\n",
       "      <td>0</td>\n",
       "      <td>11.7129</td>\n",
       "      <td>0.0</td>\n",
       "      <td>101.0</td>\n",
       "      <td>6.5</td>\n",
       "      <td>92.0</td>\n",
       "      <td>Grumpier Old Men</td>\n",
       "      <td>3</td>\n",
       "    </tr>\n",
       "    <tr>\n",
       "      <th>3</th>\n",
       "      <td>16000000</td>\n",
       "      <td>3.859495</td>\n",
       "      <td>81452156.0</td>\n",
       "      <td>127.0</td>\n",
       "      <td>6.1</td>\n",
       "      <td>34.0</td>\n",
       "      <td>Waiting to Exhale</td>\n",
       "      <td>3</td>\n",
       "    </tr>\n",
       "    <tr>\n",
       "      <th>4</th>\n",
       "      <td>0</td>\n",
       "      <td>8.387519</td>\n",
       "      <td>76578911.0</td>\n",
       "      <td>106.0</td>\n",
       "      <td>5.7</td>\n",
       "      <td>173.0</td>\n",
       "      <td>Father of the Bride Part II</td>\n",
       "      <td>3</td>\n",
       "    </tr>\n",
       "  </tbody>\n",
       "</table>\n",
       "</div>"
      ],
      "text/plain": [
       "     budget popularity      revenue  runtime  vote_average  vote_count  \\\n",
       "0  30000000  21.946943  373554033.0     81.0           7.7      5415.0   \n",
       "1  65000000  17.015539  262797249.0    104.0           6.9      2413.0   \n",
       "2         0    11.7129          0.0    101.0           6.5        92.0   \n",
       "3  16000000   3.859495   81452156.0    127.0           6.1        34.0   \n",
       "4         0   8.387519   76578911.0    106.0           5.7       173.0   \n",
       "\n",
       "                         title  cluster  \n",
       "0                    Toy Story        1  \n",
       "1                      Jumanji        2  \n",
       "2             Grumpier Old Men        3  \n",
       "3            Waiting to Exhale        3  \n",
       "4  Father of the Bride Part II        3  "
      ]
     },
     "execution_count": 166,
     "metadata": {},
     "output_type": "execute_result"
    }
   ],
   "source": [
    "df_numeric.head()"
   ]
  },
  {
   "cell_type": "code",
   "execution_count": 167,
   "id": "cab8b8d0",
   "metadata": {},
   "outputs": [
    {
     "data": {
      "text/plain": [
       "count    12177.000000\n",
       "mean       387.971011\n",
       "std        890.795312\n",
       "min         31.000000\n",
       "25%         50.000000\n",
       "50%         99.000000\n",
       "75%        299.000000\n",
       "max      14075.000000\n",
       "Name: vote_count, dtype: float64"
      ]
     },
     "execution_count": 167,
     "metadata": {},
     "output_type": "execute_result"
    }
   ],
   "source": [
    "df_numeric['vote_count'].describe()"
   ]
  },
  {
   "cell_type": "code",
   "execution_count": 168,
   "id": "0036a50b",
   "metadata": {},
   "outputs": [
    {
     "data": {
      "text/plain": [
       "0.74     283.00\n",
       "0.75     299.00\n",
       "0.76     317.00\n",
       "0.77     335.00\n",
       "0.78     356.00\n",
       "0.79     375.00\n",
       "0.80     396.00\n",
       "0.81     425.00\n",
       "0.82     454.00\n",
       "0.83     494.16\n",
       "0.84     533.00\n",
       "0.85     574.00\n",
       "0.86     628.00\n",
       "0.87     685.12\n",
       "0.88     752.88\n",
       "0.89     839.64\n",
       "0.90     924.00\n",
       "0.91    1020.16\n",
       "0.92    1147.84\n",
       "0.93    1316.04\n",
       "0.94    1517.44\n",
       "0.95    1729.20\n",
       "0.96    2082.88\n",
       "0.97    2549.16\n",
       "0.98    3291.92\n",
       "0.99    4729.00\n",
       "Name: vote_count, dtype: float64"
      ]
     },
     "execution_count": 168,
     "metadata": {},
     "output_type": "execute_result"
    }
   ],
   "source": [
    "df_numeric['vote_count'].quantile(np.arange(.74,1,0.01))"
   ]
  },
  {
   "cell_type": "code",
   "execution_count": 169,
   "id": "0b0fc369",
   "metadata": {},
   "outputs": [],
   "source": [
    "df_numeric = df_numeric[df_numeric['vote_count']>30]"
   ]
  },
  {
   "cell_type": "code",
   "execution_count": 170,
   "id": "1a6de9f7",
   "metadata": {},
   "outputs": [
    {
     "data": {
      "text/plain": [
       "(12177, 8)"
      ]
     },
     "execution_count": 170,
     "metadata": {},
     "output_type": "execute_result"
    }
   ],
   "source": [
    "df_numeric.shape"
   ]
  },
  {
   "cell_type": "markdown",
   "id": "ed198b49",
   "metadata": {},
   "source": [
    "# Normalize Data"
   ]
  },
  {
   "cell_type": "code",
   "execution_count": 171,
   "id": "02859ea6",
   "metadata": {},
   "outputs": [],
   "source": [
    "from sklearn import preprocessing"
   ]
  },
  {
   "cell_type": "code",
   "execution_count": 172,
   "id": "75034405",
   "metadata": {},
   "outputs": [],
   "source": [
    "minmax_processed = preprocessing.MinMaxScaler().fit_transform(df_numeric.drop('title',axis=1))"
   ]
  },
  {
   "cell_type": "code",
   "execution_count": 173,
   "id": "92ad4e7c",
   "metadata": {},
   "outputs": [],
   "source": [
    "df_numeric_scaled = pd.DataFrame(minmax_processed, index=df_numeric.index, columns=df_numeric.columns[:-1])"
   ]
  },
  {
   "cell_type": "code",
   "execution_count": 174,
   "id": "4567e3e4",
   "metadata": {},
   "outputs": [
    {
     "data": {
      "text/html": [
       "<div>\n",
       "<style scoped>\n",
       "    .dataframe tbody tr th:only-of-type {\n",
       "        vertical-align: middle;\n",
       "    }\n",
       "\n",
       "    .dataframe tbody tr th {\n",
       "        vertical-align: top;\n",
       "    }\n",
       "\n",
       "    .dataframe thead th {\n",
       "        text-align: right;\n",
       "    }\n",
       "</style>\n",
       "<table border=\"1\" class=\"dataframe\">\n",
       "  <thead>\n",
       "    <tr style=\"text-align: right;\">\n",
       "      <th></th>\n",
       "      <th>budget</th>\n",
       "      <th>popularity</th>\n",
       "      <th>revenue</th>\n",
       "      <th>runtime</th>\n",
       "      <th>vote_average</th>\n",
       "      <th>vote_count</th>\n",
       "      <th>title</th>\n",
       "    </tr>\n",
       "  </thead>\n",
       "  <tbody>\n",
       "    <tr>\n",
       "      <th>0</th>\n",
       "      <td>0.078947</td>\n",
       "      <td>0.040082</td>\n",
       "      <td>0.133988</td>\n",
       "      <td>0.092360</td>\n",
       "      <td>0.810526</td>\n",
       "      <td>0.383367</td>\n",
       "      <td>0.25</td>\n",
       "    </tr>\n",
       "    <tr>\n",
       "      <th>1</th>\n",
       "      <td>0.171053</td>\n",
       "      <td>0.031075</td>\n",
       "      <td>0.094261</td>\n",
       "      <td>0.118586</td>\n",
       "      <td>0.726316</td>\n",
       "      <td>0.169610</td>\n",
       "      <td>0.50</td>\n",
       "    </tr>\n",
       "    <tr>\n",
       "      <th>2</th>\n",
       "      <td>0.000000</td>\n",
       "      <td>0.021389</td>\n",
       "      <td>0.000000</td>\n",
       "      <td>0.115165</td>\n",
       "      <td>0.684211</td>\n",
       "      <td>0.004343</td>\n",
       "      <td>0.75</td>\n",
       "    </tr>\n",
       "    <tr>\n",
       "      <th>3</th>\n",
       "      <td>0.042105</td>\n",
       "      <td>0.007045</td>\n",
       "      <td>0.029216</td>\n",
       "      <td>0.144812</td>\n",
       "      <td>0.642105</td>\n",
       "      <td>0.000214</td>\n",
       "      <td>0.75</td>\n",
       "    </tr>\n",
       "    <tr>\n",
       "      <th>4</th>\n",
       "      <td>0.000000</td>\n",
       "      <td>0.015315</td>\n",
       "      <td>0.027468</td>\n",
       "      <td>0.120867</td>\n",
       "      <td>0.600000</td>\n",
       "      <td>0.010111</td>\n",
       "      <td>0.75</td>\n",
       "    </tr>\n",
       "  </tbody>\n",
       "</table>\n",
       "</div>"
      ],
      "text/plain": [
       "     budget  popularity   revenue   runtime  vote_average  vote_count  title\n",
       "0  0.078947    0.040082  0.133988  0.092360      0.810526    0.383367   0.25\n",
       "1  0.171053    0.031075  0.094261  0.118586      0.726316    0.169610   0.50\n",
       "2  0.000000    0.021389  0.000000  0.115165      0.684211    0.004343   0.75\n",
       "3  0.042105    0.007045  0.029216  0.144812      0.642105    0.000214   0.75\n",
       "4  0.000000    0.015315  0.027468  0.120867      0.600000    0.010111   0.75"
      ]
     },
     "execution_count": 174,
     "metadata": {},
     "output_type": "execute_result"
    }
   ],
   "source": [
    "df_numeric_scaled.head()"
   ]
  },
  {
   "cell_type": "markdown",
   "id": "ed6af2a9",
   "metadata": {},
   "source": [
    "# Apply K-Means Clustering"
   ]
  },
  {
   "cell_type": "code",
   "execution_count": 175,
   "id": "3149cb00",
   "metadata": {},
   "outputs": [],
   "source": [
    "Nc = range(1, 20)\n",
    "kmeans = [KMeans(n_clusters=i) for i in Nc]"
   ]
  },
  {
   "cell_type": "code",
   "execution_count": 176,
   "id": "c1485299",
   "metadata": {},
   "outputs": [],
   "source": [
    "score = [kmeans[i].fit(df_numeric_scaled).score(df_numeric_scaled) for i in range(len(kmeans))]"
   ]
  },
  {
   "cell_type": "code",
   "execution_count": 177,
   "id": "4627f906",
   "metadata": {},
   "outputs": [
    {
     "data": {
      "image/png": "[encoded data removed]",
      "text/plain": [
       "<Figure size 432x288 with 1 Axes>"
      ]
     },
     "metadata": {
      "needs_background": "light"
     },
     "output_type": "display_data"
    }
   ],
   "source": [
    "pl.plot(Nc,score)\n",
    "pl.xlabel('Number of Clusters')\n",
    "pl.ylabel('Score')\n",
    "pl.title('Elbow Curve')\n",
    "pl.show()"
   ]
  },
  {
   "cell_type": "markdown",
   "id": "ecd32434",
   "metadata": {},
   "source": [
    "### Fit K-Means clustering for k=5"
   ]
  },
  {
   "cell_type": "code",
   "execution_count": 178,
   "id": "de28befa",
   "metadata": {},
   "outputs": [
    {
     "data": {
      "text/plain": [
       "KMeans(n_clusters=5)"
      ]
     },
     "execution_count": 178,
     "metadata": {},
     "output_type": "execute_result"
    }
   ],
   "source": [
    "kmeans = KMeans(n_clusters=5)\n",
    "kmeans.fit(df_numeric_scaled)"
   ]
  },
  {
   "cell_type": "code",
   "execution_count": 179,
   "id": "fe4d053a",
   "metadata": {},
   "outputs": [
    {
     "data": {
      "text/plain": [
       "12177"
      ]
     },
     "execution_count": 179,
     "metadata": {},
     "output_type": "execute_result"
    }
   ],
   "source": [
    "len(kmeans.labels_)"
   ]
  },
  {
   "cell_type": "code",
   "execution_count": 180,
   "id": "8ddfa967",
   "metadata": {},
   "outputs": [],
   "source": [
    "df_numeric['cluster'] = kmeans.labels_"
   ]
  },
  {
   "cell_type": "code",
   "execution_count": 181,
   "id": "db6386ad",
   "metadata": {},
   "outputs": [
    {
     "data": {
      "text/html": [
       "<div>\n",
       "<style scoped>\n",
       "    .dataframe tbody tr th:only-of-type {\n",
       "        vertical-align: middle;\n",
       "    }\n",
       "\n",
       "    .dataframe tbody tr th {\n",
       "        vertical-align: top;\n",
       "    }\n",
       "\n",
       "    .dataframe thead th {\n",
       "        text-align: right;\n",
       "    }\n",
       "</style>\n",
       "<table border=\"1\" class=\"dataframe\">\n",
       "  <thead>\n",
       "    <tr style=\"text-align: right;\">\n",
       "      <th></th>\n",
       "      <th>budget</th>\n",
       "      <th>popularity</th>\n",
       "      <th>revenue</th>\n",
       "      <th>runtime</th>\n",
       "      <th>vote_average</th>\n",
       "      <th>vote_count</th>\n",
       "      <th>title</th>\n",
       "      <th>cluster</th>\n",
       "    </tr>\n",
       "  </thead>\n",
       "  <tbody>\n",
       "    <tr>\n",
       "      <th>0</th>\n",
       "      <td>30000000</td>\n",
       "      <td>21.946943</td>\n",
       "      <td>373554033.0</td>\n",
       "      <td>81.0</td>\n",
       "      <td>7.7</td>\n",
       "      <td>5415.0</td>\n",
       "      <td>Toy Story</td>\n",
       "      <td>3</td>\n",
       "    </tr>\n",
       "    <tr>\n",
       "      <th>1</th>\n",
       "      <td>65000000</td>\n",
       "      <td>17.015539</td>\n",
       "      <td>262797249.0</td>\n",
       "      <td>104.0</td>\n",
       "      <td>6.9</td>\n",
       "      <td>2413.0</td>\n",
       "      <td>Jumanji</td>\n",
       "      <td>4</td>\n",
       "    </tr>\n",
       "    <tr>\n",
       "      <th>2</th>\n",
       "      <td>0</td>\n",
       "      <td>11.7129</td>\n",
       "      <td>0.0</td>\n",
       "      <td>101.0</td>\n",
       "      <td>6.5</td>\n",
       "      <td>92.0</td>\n",
       "      <td>Grumpier Old Men</td>\n",
       "      <td>0</td>\n",
       "    </tr>\n",
       "    <tr>\n",
       "      <th>3</th>\n",
       "      <td>16000000</td>\n",
       "      <td>3.859495</td>\n",
       "      <td>81452156.0</td>\n",
       "      <td>127.0</td>\n",
       "      <td>6.1</td>\n",
       "      <td>34.0</td>\n",
       "      <td>Waiting to Exhale</td>\n",
       "      <td>0</td>\n",
       "    </tr>\n",
       "    <tr>\n",
       "      <th>4</th>\n",
       "      <td>0</td>\n",
       "      <td>8.387519</td>\n",
       "      <td>76578911.0</td>\n",
       "      <td>106.0</td>\n",
       "      <td>5.7</td>\n",
       "      <td>173.0</td>\n",
       "      <td>Father of the Bride Part II</td>\n",
       "      <td>0</td>\n",
       "    </tr>\n",
       "  </tbody>\n",
       "</table>\n",
       "</div>"
      ],
      "text/plain": [
       "     budget popularity      revenue  runtime  vote_average  vote_count  \\\n",
       "0  30000000  21.946943  373554033.0     81.0           7.7      5415.0   \n",
       "1  65000000  17.015539  262797249.0    104.0           6.9      2413.0   \n",
       "2         0    11.7129          0.0    101.0           6.5        92.0   \n",
       "3  16000000   3.859495   81452156.0    127.0           6.1        34.0   \n",
       "4         0   8.387519   76578911.0    106.0           5.7       173.0   \n",
       "\n",
       "                         title  cluster  \n",
       "0                    Toy Story        3  \n",
       "1                      Jumanji        4  \n",
       "2             Grumpier Old Men        0  \n",
       "3            Waiting to Exhale        0  \n",
       "4  Father of the Bride Part II        0  "
      ]
     },
     "execution_count": 181,
     "metadata": {},
     "output_type": "execute_result"
    }
   ],
   "source": [
    "df_numeric.head()"
   ]
  },
  {
   "cell_type": "code",
   "execution_count": 182,
   "id": "d7fe1af7",
   "metadata": {},
   "outputs": [
    {
     "data": {
      "text/html": [
       "<div>\n",
       "<style scoped>\n",
       "    .dataframe tbody tr th:only-of-type {\n",
       "        vertical-align: middle;\n",
       "    }\n",
       "\n",
       "    .dataframe tbody tr th {\n",
       "        vertical-align: top;\n",
       "    }\n",
       "\n",
       "    .dataframe thead th {\n",
       "        text-align: right;\n",
       "    }\n",
       "</style>\n",
       "<table border=\"1\" class=\"dataframe\">\n",
       "  <thead>\n",
       "    <tr style=\"text-align: right;\">\n",
       "      <th></th>\n",
       "      <th>budget</th>\n",
       "      <th>popularity</th>\n",
       "      <th>revenue</th>\n",
       "      <th>runtime</th>\n",
       "      <th>vote_average</th>\n",
       "      <th>vote_count</th>\n",
       "      <th>title</th>\n",
       "      <th>cluster</th>\n",
       "    </tr>\n",
       "  </thead>\n",
       "  <tbody>\n",
       "    <tr>\n",
       "      <th>0</th>\n",
       "      <td>30000000</td>\n",
       "      <td>21.946943</td>\n",
       "      <td>373554033.0</td>\n",
       "      <td>81.0</td>\n",
       "      <td>7.7</td>\n",
       "      <td>5415.0</td>\n",
       "      <td>Toy Story</td>\n",
       "      <td>3</td>\n",
       "    </tr>\n",
       "    <tr>\n",
       "      <th>1</th>\n",
       "      <td>65000000</td>\n",
       "      <td>17.015539</td>\n",
       "      <td>262797249.0</td>\n",
       "      <td>104.0</td>\n",
       "      <td>6.9</td>\n",
       "      <td>2413.0</td>\n",
       "      <td>Jumanji</td>\n",
       "      <td>4</td>\n",
       "    </tr>\n",
       "    <tr>\n",
       "      <th>2</th>\n",
       "      <td>0</td>\n",
       "      <td>11.7129</td>\n",
       "      <td>0.0</td>\n",
       "      <td>101.0</td>\n",
       "      <td>6.5</td>\n",
       "      <td>92.0</td>\n",
       "      <td>Grumpier Old Men</td>\n",
       "      <td>0</td>\n",
       "    </tr>\n",
       "    <tr>\n",
       "      <th>3</th>\n",
       "      <td>16000000</td>\n",
       "      <td>3.859495</td>\n",
       "      <td>81452156.0</td>\n",
       "      <td>127.0</td>\n",
       "      <td>6.1</td>\n",
       "      <td>34.0</td>\n",
       "      <td>Waiting to Exhale</td>\n",
       "      <td>0</td>\n",
       "    </tr>\n",
       "    <tr>\n",
       "      <th>4</th>\n",
       "      <td>0</td>\n",
       "      <td>8.387519</td>\n",
       "      <td>76578911.0</td>\n",
       "      <td>106.0</td>\n",
       "      <td>5.7</td>\n",
       "      <td>173.0</td>\n",
       "      <td>Father of the Bride Part II</td>\n",
       "      <td>0</td>\n",
       "    </tr>\n",
       "  </tbody>\n",
       "</table>\n",
       "</div>"
      ],
      "text/plain": [
       "     budget popularity      revenue  runtime  vote_average  vote_count  \\\n",
       "0  30000000  21.946943  373554033.0     81.0           7.7      5415.0   \n",
       "1  65000000  17.015539  262797249.0    104.0           6.9      2413.0   \n",
       "2         0    11.7129          0.0    101.0           6.5        92.0   \n",
       "3  16000000   3.859495   81452156.0    127.0           6.1        34.0   \n",
       "4         0   8.387519   76578911.0    106.0           5.7       173.0   \n",
       "\n",
       "                         title  cluster  \n",
       "0                    Toy Story        3  \n",
       "1                      Jumanji        4  \n",
       "2             Grumpier Old Men        0  \n",
       "3            Waiting to Exhale        0  \n",
       "4  Father of the Bride Part II        0  "
      ]
     },
     "execution_count": 182,
     "metadata": {},
     "output_type": "execute_result"
    }
   ],
   "source": [
    "df_numeric.head()"
   ]
  },
  {
   "cell_type": "code",
   "execution_count": 183,
   "id": "b18aadff",
   "metadata": {},
   "outputs": [],
   "source": [
    "df_numeric.dropna(inplace=True)"
   ]
  },
  {
   "cell_type": "code",
   "execution_count": 184,
   "id": "fdeabc5f",
   "metadata": {},
   "outputs": [
    {
     "data": {
      "text/plain": [
       "count    12177.000000\n",
       "mean       387.971011\n",
       "std        890.795312\n",
       "min         31.000000\n",
       "25%         50.000000\n",
       "50%         99.000000\n",
       "75%        299.000000\n",
       "max      14075.000000\n",
       "Name: vote_count, dtype: float64"
      ]
     },
     "execution_count": 184,
     "metadata": {},
     "output_type": "execute_result"
    }
   ],
   "source": [
    "df_numeric['vote_count'].describe()"
   ]
  },
  {
   "cell_type": "code",
   "execution_count": 185,
   "id": "f7420e5a",
   "metadata": {},
   "outputs": [
    {
     "data": {
      "text/plain": [
       "0.74     283.00\n",
       "0.75     299.00\n",
       "0.76     317.00\n",
       "0.77     335.00\n",
       "0.78     356.00\n",
       "0.79     375.00\n",
       "0.80     396.00\n",
       "0.81     425.00\n",
       "0.82     454.00\n",
       "0.83     494.16\n",
       "0.84     533.00\n",
       "0.85     574.00\n",
       "0.86     628.00\n",
       "0.87     685.12\n",
       "0.88     752.88\n",
       "0.89     839.64\n",
       "0.90     924.00\n",
       "0.91    1020.16\n",
       "0.92    1147.84\n",
       "0.93    1316.04\n",
       "0.94    1517.44\n",
       "0.95    1729.20\n",
       "0.96    2082.88\n",
       "0.97    2549.16\n",
       "0.98    3291.92\n",
       "0.99    4729.00\n",
       "Name: vote_count, dtype: float64"
      ]
     },
     "execution_count": 185,
     "metadata": {},
     "output_type": "execute_result"
    }
   ],
   "source": [
    "df_numeric['vote_count'].quantile(np.arange(.74,1,0.01))"
   ]
  },
  {
   "cell_type": "code",
   "execution_count": 186,
   "id": "6526fcbe",
   "metadata": {},
   "outputs": [],
   "source": [
    "df_numeric = df_numeric[df_numeric['vote_count']>30]"
   ]
  },
  {
   "cell_type": "code",
   "execution_count": 187,
   "id": "7225bfff",
   "metadata": {},
   "outputs": [
    {
     "data": {
      "text/plain": [
       "(12177, 8)"
      ]
     },
     "execution_count": 187,
     "metadata": {},
     "output_type": "execute_result"
    }
   ],
   "source": [
    "df_numeric.shape"
   ]
  },
  {
   "cell_type": "markdown",
   "id": "7dbad646",
   "metadata": {},
   "source": [
    "## Normalize data"
   ]
  },
  {
   "cell_type": "code",
   "execution_count": 188,
   "id": "32b2a327",
   "metadata": {},
   "outputs": [],
   "source": [
    "from sklearn import preprocessing"
   ]
  },
  {
   "cell_type": "code",
   "execution_count": 189,
   "id": "a96bf9f4",
   "metadata": {},
   "outputs": [],
   "source": [
    "minmax_processed = preprocessing.MinMaxScaler().fit_transform(df_numeric.drop('title',axis=1))"
   ]
  },
  {
   "cell_type": "code",
   "execution_count": 190,
   "id": "2f473c4a",
   "metadata": {},
   "outputs": [],
   "source": [
    "df_numeric_scaled = pd.DataFrame(minmax_processed, index=df_numeric.index, columns=df_numeric.columns[:-1])"
   ]
  },
  {
   "cell_type": "code",
   "execution_count": 191,
   "id": "aa244175",
   "metadata": {},
   "outputs": [
    {
     "data": {
      "text/html": [
       "<div>\n",
       "<style scoped>\n",
       "    .dataframe tbody tr th:only-of-type {\n",
       "        vertical-align: middle;\n",
       "    }\n",
       "\n",
       "    .dataframe tbody tr th {\n",
       "        vertical-align: top;\n",
       "    }\n",
       "\n",
       "    .dataframe thead th {\n",
       "        text-align: right;\n",
       "    }\n",
       "</style>\n",
       "<table border=\"1\" class=\"dataframe\">\n",
       "  <thead>\n",
       "    <tr style=\"text-align: right;\">\n",
       "      <th></th>\n",
       "      <th>budget</th>\n",
       "      <th>popularity</th>\n",
       "      <th>revenue</th>\n",
       "      <th>runtime</th>\n",
       "      <th>vote_average</th>\n",
       "      <th>vote_count</th>\n",
       "      <th>title</th>\n",
       "    </tr>\n",
       "  </thead>\n",
       "  <tbody>\n",
       "    <tr>\n",
       "      <th>0</th>\n",
       "      <td>0.078947</td>\n",
       "      <td>0.040082</td>\n",
       "      <td>0.133988</td>\n",
       "      <td>0.092360</td>\n",
       "      <td>0.810526</td>\n",
       "      <td>0.383367</td>\n",
       "      <td>0.75</td>\n",
       "    </tr>\n",
       "    <tr>\n",
       "      <th>1</th>\n",
       "      <td>0.171053</td>\n",
       "      <td>0.031075</td>\n",
       "      <td>0.094261</td>\n",
       "      <td>0.118586</td>\n",
       "      <td>0.726316</td>\n",
       "      <td>0.169610</td>\n",
       "      <td>1.00</td>\n",
       "    </tr>\n",
       "    <tr>\n",
       "      <th>2</th>\n",
       "      <td>0.000000</td>\n",
       "      <td>0.021389</td>\n",
       "      <td>0.000000</td>\n",
       "      <td>0.115165</td>\n",
       "      <td>0.684211</td>\n",
       "      <td>0.004343</td>\n",
       "      <td>0.00</td>\n",
       "    </tr>\n",
       "    <tr>\n",
       "      <th>3</th>\n",
       "      <td>0.042105</td>\n",
       "      <td>0.007045</td>\n",
       "      <td>0.029216</td>\n",
       "      <td>0.144812</td>\n",
       "      <td>0.642105</td>\n",
       "      <td>0.000214</td>\n",
       "      <td>0.00</td>\n",
       "    </tr>\n",
       "    <tr>\n",
       "      <th>4</th>\n",
       "      <td>0.000000</td>\n",
       "      <td>0.015315</td>\n",
       "      <td>0.027468</td>\n",
       "      <td>0.120867</td>\n",
       "      <td>0.600000</td>\n",
       "      <td>0.010111</td>\n",
       "      <td>0.00</td>\n",
       "    </tr>\n",
       "  </tbody>\n",
       "</table>\n",
       "</div>"
      ],
      "text/plain": [
       "     budget  popularity   revenue   runtime  vote_average  vote_count  title\n",
       "0  0.078947    0.040082  0.133988  0.092360      0.810526    0.383367   0.75\n",
       "1  0.171053    0.031075  0.094261  0.118586      0.726316    0.169610   1.00\n",
       "2  0.000000    0.021389  0.000000  0.115165      0.684211    0.004343   0.00\n",
       "3  0.042105    0.007045  0.029216  0.144812      0.642105    0.000214   0.00\n",
       "4  0.000000    0.015315  0.027468  0.120867      0.600000    0.010111   0.00"
      ]
     },
     "execution_count": 191,
     "metadata": {},
     "output_type": "execute_result"
    }
   ],
   "source": [
    "df_numeric_scaled.head()"
   ]
  },
  {
   "cell_type": "markdown",
   "id": "0b74d57e",
   "metadata": {},
   "source": [
    "# Apply K-Means Clustering"
   ]
  },
  {
   "cell_type": "code",
   "execution_count": 192,
   "id": "a5e62b32",
   "metadata": {},
   "outputs": [],
   "source": [
    "Nc = range(1, 20)\n",
    "kmeans = [KMeans(n_clusters=i) for i in Nc]"
   ]
  },
  {
   "cell_type": "code",
   "execution_count": 193,
   "id": "4bdc16cd",
   "metadata": {},
   "outputs": [],
   "source": [
    "score = [kmeans[i].fit(df_numeric_scaled).score(df_numeric_scaled) for i in range(len(kmeans))]"
   ]
  },
  {
   "cell_type": "code",
   "execution_count": 194,
   "id": "b4a7b892",
   "metadata": {},
   "outputs": [
    {
     "data": {
      "image/png": "[encoded data removed]",
      "text/plain": [
       "<Figure size 432x288 with 1 Axes>"
      ]
     },
     "metadata": {
      "needs_background": "light"
     },
     "output_type": "display_data"
    }
   ],
   "source": [
    "pl.plot(Nc,score)\n",
    "pl.xlabel('Number of Clusters')\n",
    "pl.ylabel('Score')\n",
    "pl.title('Elbow Curve')\n",
    "pl.show()"
   ]
  },
  {
   "cell_type": "code",
   "execution_count": 195,
   "id": "74a893a7",
   "metadata": {},
   "outputs": [
    {
     "data": {
      "text/plain": [
       "KMeans(n_clusters=5)"
      ]
     },
     "execution_count": 195,
     "metadata": {},
     "output_type": "execute_result"
    }
   ],
   "source": [
    "kmeans = KMeans(n_clusters=5)\n",
    "kmeans.fit(df_numeric_scaled)"
   ]
  },
  {
   "cell_type": "code",
   "execution_count": 196,
   "id": "0f31a0b3",
   "metadata": {},
   "outputs": [
    {
     "data": {
      "text/plain": [
       "12177"
      ]
     },
     "execution_count": 196,
     "metadata": {},
     "output_type": "execute_result"
    }
   ],
   "source": [
    "len(kmeans.labels_)"
   ]
  },
  {
   "cell_type": "code",
   "execution_count": 197,
   "id": "e863a077",
   "metadata": {},
   "outputs": [],
   "source": [
    "df_numeric['cluster'] = kmeans.labels_"
   ]
  },
  {
   "cell_type": "code",
   "execution_count": 198,
   "id": "3278920b",
   "metadata": {},
   "outputs": [
    {
     "data": {
      "text/html": [
       "<div>\n",
       "<style scoped>\n",
       "    .dataframe tbody tr th:only-of-type {\n",
       "        vertical-align: middle;\n",
       "    }\n",
       "\n",
       "    .dataframe tbody tr th {\n",
       "        vertical-align: top;\n",
       "    }\n",
       "\n",
       "    .dataframe thead th {\n",
       "        text-align: right;\n",
       "    }\n",
       "</style>\n",
       "<table border=\"1\" class=\"dataframe\">\n",
       "  <thead>\n",
       "    <tr style=\"text-align: right;\">\n",
       "      <th></th>\n",
       "      <th>budget</th>\n",
       "      <th>popularity</th>\n",
       "      <th>revenue</th>\n",
       "      <th>runtime</th>\n",
       "      <th>vote_average</th>\n",
       "      <th>vote_count</th>\n",
       "      <th>title</th>\n",
       "      <th>cluster</th>\n",
       "    </tr>\n",
       "  </thead>\n",
       "  <tbody>\n",
       "    <tr>\n",
       "      <th>0</th>\n",
       "      <td>30000000</td>\n",
       "      <td>21.946943</td>\n",
       "      <td>373554033.0</td>\n",
       "      <td>81.0</td>\n",
       "      <td>7.7</td>\n",
       "      <td>5415.0</td>\n",
       "      <td>Toy Story</td>\n",
       "      <td>4</td>\n",
       "    </tr>\n",
       "    <tr>\n",
       "      <th>1</th>\n",
       "      <td>65000000</td>\n",
       "      <td>17.015539</td>\n",
       "      <td>262797249.0</td>\n",
       "      <td>104.0</td>\n",
       "      <td>6.9</td>\n",
       "      <td>2413.0</td>\n",
       "      <td>Jumanji</td>\n",
       "      <td>2</td>\n",
       "    </tr>\n",
       "    <tr>\n",
       "      <th>2</th>\n",
       "      <td>0</td>\n",
       "      <td>11.7129</td>\n",
       "      <td>0.0</td>\n",
       "      <td>101.0</td>\n",
       "      <td>6.5</td>\n",
       "      <td>92.0</td>\n",
       "      <td>Grumpier Old Men</td>\n",
       "      <td>0</td>\n",
       "    </tr>\n",
       "    <tr>\n",
       "      <th>3</th>\n",
       "      <td>16000000</td>\n",
       "      <td>3.859495</td>\n",
       "      <td>81452156.0</td>\n",
       "      <td>127.0</td>\n",
       "      <td>6.1</td>\n",
       "      <td>34.0</td>\n",
       "      <td>Waiting to Exhale</td>\n",
       "      <td>0</td>\n",
       "    </tr>\n",
       "    <tr>\n",
       "      <th>4</th>\n",
       "      <td>0</td>\n",
       "      <td>8.387519</td>\n",
       "      <td>76578911.0</td>\n",
       "      <td>106.0</td>\n",
       "      <td>5.7</td>\n",
       "      <td>173.0</td>\n",
       "      <td>Father of the Bride Part II</td>\n",
       "      <td>0</td>\n",
       "    </tr>\n",
       "  </tbody>\n",
       "</table>\n",
       "</div>"
      ],
      "text/plain": [
       "     budget popularity      revenue  runtime  vote_average  vote_count  \\\n",
       "0  30000000  21.946943  373554033.0     81.0           7.7      5415.0   \n",
       "1  65000000  17.015539  262797249.0    104.0           6.9      2413.0   \n",
       "2         0    11.7129          0.0    101.0           6.5        92.0   \n",
       "3  16000000   3.859495   81452156.0    127.0           6.1        34.0   \n",
       "4         0   8.387519   76578911.0    106.0           5.7       173.0   \n",
       "\n",
       "                         title  cluster  \n",
       "0                    Toy Story        4  \n",
       "1                      Jumanji        2  \n",
       "2             Grumpier Old Men        0  \n",
       "3            Waiting to Exhale        0  \n",
       "4  Father of the Bride Part II        0  "
      ]
     },
     "execution_count": 198,
     "metadata": {},
     "output_type": "execute_result"
    }
   ],
   "source": [
    "df_numeric.head()"
   ]
  },
  {
   "cell_type": "code",
   "execution_count": 199,
   "id": "b98cdf32",
   "metadata": {},
   "outputs": [
    {
     "data": {
      "image/png": "[encoded data removed]",
      "text/plain": [
       "<Figure size 864x504 with 1 Axes>"
      ]
     },
     "metadata": {
      "needs_background": "light"
     },
     "output_type": "display_data"
    }
   ],
   "source": [
    "plt.figure(figsize=(12,7))\n",
    "axis = sns.barplot(x=np.arange(0,5,1),y=df_numeric.groupby(['cluster']).count()['budget'].values)\n",
    "x=axis.set_xlabel(\"Cluster Number\")\n",
    "x=axis.set_ylabel(\"Number of movies\")"
   ]
  },
  {
   "cell_type": "code",
   "execution_count": 200,
   "id": "1b5847f2",
   "metadata": {},
   "outputs": [
    {
     "data": {
      "text/html": [
       "<div>\n",
       "<style scoped>\n",
       "    .dataframe tbody tr th:only-of-type {\n",
       "        vertical-align: middle;\n",
       "    }\n",
       "\n",
       "    .dataframe tbody tr th {\n",
       "        vertical-align: top;\n",
       "    }\n",
       "\n",
       "    .dataframe thead th {\n",
       "        text-align: right;\n",
       "    }\n",
       "</style>\n",
       "<table border=\"1\" class=\"dataframe\">\n",
       "  <thead>\n",
       "    <tr style=\"text-align: right;\">\n",
       "      <th></th>\n",
       "      <th>revenue</th>\n",
       "      <th>runtime</th>\n",
       "      <th>vote_average</th>\n",
       "      <th>vote_count</th>\n",
       "    </tr>\n",
       "    <tr>\n",
       "      <th>cluster</th>\n",
       "      <th></th>\n",
       "      <th></th>\n",
       "      <th></th>\n",
       "      <th></th>\n",
       "    </tr>\n",
       "  </thead>\n",
       "  <tbody>\n",
       "    <tr>\n",
       "      <th>0</th>\n",
       "      <td>1.443148e+07</td>\n",
       "      <td>100.397492</td>\n",
       "      <td>6.189028</td>\n",
       "      <td>169.585371</td>\n",
       "    </tr>\n",
       "    <tr>\n",
       "      <th>1</th>\n",
       "      <td>1.028055e+07</td>\n",
       "      <td>93.718130</td>\n",
       "      <td>4.940979</td>\n",
       "      <td>122.632554</td>\n",
       "    </tr>\n",
       "    <tr>\n",
       "      <th>2</th>\n",
       "      <td>1.614962e+08</td>\n",
       "      <td>114.282783</td>\n",
       "      <td>6.207939</td>\n",
       "      <td>1122.674398</td>\n",
       "    </tr>\n",
       "    <tr>\n",
       "      <th>3</th>\n",
       "      <td>1.692182e+07</td>\n",
       "      <td>109.899038</td>\n",
       "      <td>7.278713</td>\n",
       "      <td>305.669338</td>\n",
       "    </tr>\n",
       "    <tr>\n",
       "      <th>4</th>\n",
       "      <td>6.288649e+08</td>\n",
       "      <td>126.146154</td>\n",
       "      <td>6.903846</td>\n",
       "      <td>4738.096154</td>\n",
       "    </tr>\n",
       "  </tbody>\n",
       "</table>\n",
       "</div>"
      ],
      "text/plain": [
       "              revenue     runtime  vote_average   vote_count\n",
       "cluster                                                     \n",
       "0        1.443148e+07  100.397492      6.189028   169.585371\n",
       "1        1.028055e+07   93.718130      4.940979   122.632554\n",
       "2        1.614962e+08  114.282783      6.207939  1122.674398\n",
       "3        1.692182e+07  109.899038      7.278713   305.669338\n",
       "4        6.288649e+08  126.146154      6.903846  4738.096154"
      ]
     },
     "execution_count": 200,
     "metadata": {},
     "output_type": "execute_result"
    }
   ],
   "source": [
    "df_numeric.groupby(['cluster']).mean()"
   ]
  },
  {
   "cell_type": "code",
   "execution_count": 201,
   "id": "be3bd9be",
   "metadata": {},
   "outputs": [],
   "source": [
    "size_array = list(df_numeric.groupby(['cluster']).count()['budget'].values)"
   ]
  },
  {
   "cell_type": "code",
   "execution_count": 202,
   "id": "5535a637",
   "metadata": {},
   "outputs": [
    {
     "data": {
      "text/plain": [
       "[4785, 2267, 1121, 3744, 260]"
      ]
     },
     "execution_count": 202,
     "metadata": {},
     "output_type": "execute_result"
    }
   ],
   "source": [
    "size_array"
   ]
  },
  {
   "cell_type": "code",
   "execution_count": 203,
   "id": "4271dc50",
   "metadata": {},
   "outputs": [
    {
     "data": {
      "text/html": [
       "<div>\n",
       "<style scoped>\n",
       "    .dataframe tbody tr th:only-of-type {\n",
       "        vertical-align: middle;\n",
       "    }\n",
       "\n",
       "    .dataframe tbody tr th {\n",
       "        vertical-align: top;\n",
       "    }\n",
       "\n",
       "    .dataframe thead th {\n",
       "        text-align: right;\n",
       "    }\n",
       "</style>\n",
       "<table border=\"1\" class=\"dataframe\">\n",
       "  <thead>\n",
       "    <tr style=\"text-align: right;\">\n",
       "      <th></th>\n",
       "      <th>budget</th>\n",
       "      <th>popularity</th>\n",
       "      <th>revenue</th>\n",
       "      <th>runtime</th>\n",
       "      <th>vote_average</th>\n",
       "      <th>vote_count</th>\n",
       "      <th>title</th>\n",
       "      <th>cluster</th>\n",
       "    </tr>\n",
       "  </thead>\n",
       "  <tbody>\n",
       "    <tr>\n",
       "      <th>21175</th>\n",
       "      <td>255000000</td>\n",
       "      <td>12.729104</td>\n",
       "      <td>8.928991e+07</td>\n",
       "      <td>149.0</td>\n",
       "      <td>5.9</td>\n",
       "      <td>2361.0</td>\n",
       "      <td>The Lone Ranger</td>\n",
       "      <td>4</td>\n",
       "    </tr>\n",
       "    <tr>\n",
       "      <th>26567</th>\n",
       "      <td>250000000</td>\n",
       "      <td>145.882135</td>\n",
       "      <td>1.153304e+09</td>\n",
       "      <td>147.0</td>\n",
       "      <td>7.1</td>\n",
       "      <td>7462.0</td>\n",
       "      <td>Captain America: Civil War</td>\n",
       "      <td>4</td>\n",
       "    </tr>\n",
       "    <tr>\n",
       "      <th>12217</th>\n",
       "      <td>150000000</td>\n",
       "      <td>11.379355</td>\n",
       "      <td>5.853490e+08</td>\n",
       "      <td>101.0</td>\n",
       "      <td>6.9</td>\n",
       "      <td>4977.0</td>\n",
       "      <td>I Am Legend</td>\n",
       "      <td>4</td>\n",
       "    </tr>\n",
       "    <tr>\n",
       "      <th>13893</th>\n",
       "      <td>250000000</td>\n",
       "      <td>19.083723</td>\n",
       "      <td>9.339592e+08</td>\n",
       "      <td>153.0</td>\n",
       "      <td>7.4</td>\n",
       "      <td>5435.0</td>\n",
       "      <td>Harry Potter and the Half-Blood Prince</td>\n",
       "      <td>4</td>\n",
       "    </tr>\n",
       "    <tr>\n",
       "      <th>19139</th>\n",
       "      <td>95000000</td>\n",
       "      <td>13.26958</td>\n",
       "      <td>8.772448e+08</td>\n",
       "      <td>88.0</td>\n",
       "      <td>6.2</td>\n",
       "      <td>2731.0</td>\n",
       "      <td>Ice Age: Continental Drift</td>\n",
       "      <td>4</td>\n",
       "    </tr>\n",
       "  </tbody>\n",
       "</table>\n",
       "</div>"
      ],
      "text/plain": [
       "          budget  popularity       revenue  runtime  vote_average  vote_count  \\\n",
       "21175  255000000   12.729104  8.928991e+07    149.0           5.9      2361.0   \n",
       "26567  250000000  145.882135  1.153304e+09    147.0           7.1      7462.0   \n",
       "12217  150000000   11.379355  5.853490e+08    101.0           6.9      4977.0   \n",
       "13893  250000000   19.083723  9.339592e+08    153.0           7.4      5435.0   \n",
       "19139   95000000    13.26958  8.772448e+08     88.0           6.2      2731.0   \n",
       "\n",
       "                                        title  cluster  \n",
       "21175                         The Lone Ranger        4  \n",
       "26567              Captain America: Civil War        4  \n",
       "12217                             I Am Legend        4  \n",
       "13893  Harry Potter and the Half-Blood Prince        4  \n",
       "19139              Ice Age: Continental Drift        4  "
      ]
     },
     "execution_count": 203,
     "metadata": {},
     "output_type": "execute_result"
    }
   ],
   "source": [
    "df_numeric[df_numeric['cluster']==size_array.index(sorted(size_array)[0])].sample(5)"
   ]
  },
  {
   "cell_type": "code",
   "execution_count": 204,
   "id": "703d850b",
   "metadata": {},
   "outputs": [
    {
     "data": {
      "text/html": [
       "<div>\n",
       "<style scoped>\n",
       "    .dataframe tbody tr th:only-of-type {\n",
       "        vertical-align: middle;\n",
       "    }\n",
       "\n",
       "    .dataframe tbody tr th {\n",
       "        vertical-align: top;\n",
       "    }\n",
       "\n",
       "    .dataframe thead th {\n",
       "        text-align: right;\n",
       "    }\n",
       "</style>\n",
       "<table border=\"1\" class=\"dataframe\">\n",
       "  <thead>\n",
       "    <tr style=\"text-align: right;\">\n",
       "      <th></th>\n",
       "      <th>budget</th>\n",
       "      <th>popularity</th>\n",
       "      <th>revenue</th>\n",
       "      <th>runtime</th>\n",
       "      <th>vote_average</th>\n",
       "      <th>vote_count</th>\n",
       "      <th>title</th>\n",
       "      <th>cluster</th>\n",
       "    </tr>\n",
       "  </thead>\n",
       "  <tbody>\n",
       "    <tr>\n",
       "      <th>4260</th>\n",
       "      <td>45000000</td>\n",
       "      <td>10.869056</td>\n",
       "      <td>141220678.0</td>\n",
       "      <td>83.0</td>\n",
       "      <td>5.4</td>\n",
       "      <td>1019.0</td>\n",
       "      <td>Scary Movie 2</td>\n",
       "      <td>2</td>\n",
       "    </tr>\n",
       "    <tr>\n",
       "      <th>3898</th>\n",
       "      <td>60000000</td>\n",
       "      <td>6.287072</td>\n",
       "      <td>0.0</td>\n",
       "      <td>125.0</td>\n",
       "      <td>6.5</td>\n",
       "      <td>530.0</td>\n",
       "      <td>The Family Man</td>\n",
       "      <td>2</td>\n",
       "    </tr>\n",
       "    <tr>\n",
       "      <th>23737</th>\n",
       "      <td>40000000</td>\n",
       "      <td>27.470696</td>\n",
       "      <td>126069509.0</td>\n",
       "      <td>97.0</td>\n",
       "      <td>5.2</td>\n",
       "      <td>1733.0</td>\n",
       "      <td>Sex Tape</td>\n",
       "      <td>2</td>\n",
       "    </tr>\n",
       "    <tr>\n",
       "      <th>14165</th>\n",
       "      <td>40000000</td>\n",
       "      <td>8.805723</td>\n",
       "      <td>186167139.0</td>\n",
       "      <td>82.0</td>\n",
       "      <td>5.4</td>\n",
       "      <td>851.0</td>\n",
       "      <td>The Final Destination</td>\n",
       "      <td>2</td>\n",
       "    </tr>\n",
       "    <tr>\n",
       "      <th>17508</th>\n",
       "      <td>35000000</td>\n",
       "      <td>10.009007</td>\n",
       "      <td>150483765.0</td>\n",
       "      <td>109.0</td>\n",
       "      <td>6.5</td>\n",
       "      <td>2306.0</td>\n",
       "      <td>Friends with Benefits</td>\n",
       "      <td>2</td>\n",
       "    </tr>\n",
       "  </tbody>\n",
       "</table>\n",
       "</div>"
      ],
      "text/plain": [
       "         budget popularity      revenue  runtime  vote_average  vote_count  \\\n",
       "4260   45000000  10.869056  141220678.0     83.0           5.4      1019.0   \n",
       "3898   60000000   6.287072          0.0    125.0           6.5       530.0   \n",
       "23737  40000000  27.470696  126069509.0     97.0           5.2      1733.0   \n",
       "14165  40000000   8.805723  186167139.0     82.0           5.4       851.0   \n",
       "17508  35000000  10.009007  150483765.0    109.0           6.5      2306.0   \n",
       "\n",
       "                       title  cluster  \n",
       "4260           Scary Movie 2        2  \n",
       "3898          The Family Man        2  \n",
       "23737               Sex Tape        2  \n",
       "14165  The Final Destination        2  \n",
       "17508  Friends with Benefits        2  "
      ]
     },
     "execution_count": 204,
     "metadata": {},
     "output_type": "execute_result"
    }
   ],
   "source": [
    "df_numeric[df_numeric['cluster']==size_array.index(sorted(size_array)[1])].sample(5)"
   ]
  },
  {
   "cell_type": "code",
   "execution_count": 205,
   "id": "a7a96205",
   "metadata": {},
   "outputs": [
    {
     "data": {
      "text/html": [
       "<div>\n",
       "<style scoped>\n",
       "    .dataframe tbody tr th:only-of-type {\n",
       "        vertical-align: middle;\n",
       "    }\n",
       "\n",
       "    .dataframe tbody tr th {\n",
       "        vertical-align: top;\n",
       "    }\n",
       "\n",
       "    .dataframe thead th {\n",
       "        text-align: right;\n",
       "    }\n",
       "</style>\n",
       "<table border=\"1\" class=\"dataframe\">\n",
       "  <thead>\n",
       "    <tr style=\"text-align: right;\">\n",
       "      <th></th>\n",
       "      <th>budget</th>\n",
       "      <th>popularity</th>\n",
       "      <th>revenue</th>\n",
       "      <th>runtime</th>\n",
       "      <th>vote_average</th>\n",
       "      <th>vote_count</th>\n",
       "      <th>title</th>\n",
       "      <th>cluster</th>\n",
       "    </tr>\n",
       "  </thead>\n",
       "  <tbody>\n",
       "    <tr>\n",
       "      <th>18721</th>\n",
       "      <td>10000000</td>\n",
       "      <td>4.883085</td>\n",
       "      <td>610986.0</td>\n",
       "      <td>101.0</td>\n",
       "      <td>5.9</td>\n",
       "      <td>103.0</td>\n",
       "      <td>The Ledge</td>\n",
       "      <td>0</td>\n",
       "    </tr>\n",
       "    <tr>\n",
       "      <th>7724</th>\n",
       "      <td>0</td>\n",
       "      <td>2.379551</td>\n",
       "      <td>0.0</td>\n",
       "      <td>113.0</td>\n",
       "      <td>6.4</td>\n",
       "      <td>45.0</td>\n",
       "      <td>Time of the Wolf</td>\n",
       "      <td>0</td>\n",
       "    </tr>\n",
       "    <tr>\n",
       "      <th>7193</th>\n",
       "      <td>25000000</td>\n",
       "      <td>13.083718</td>\n",
       "      <td>30411183.0</td>\n",
       "      <td>108.0</td>\n",
       "      <td>6.3</td>\n",
       "      <td>844.0</td>\n",
       "      <td>The Girl Next Door</td>\n",
       "      <td>0</td>\n",
       "    </tr>\n",
       "    <tr>\n",
       "      <th>44310</th>\n",
       "      <td>0</td>\n",
       "      <td>4.743842</td>\n",
       "      <td>0.0</td>\n",
       "      <td>92.0</td>\n",
       "      <td>6.6</td>\n",
       "      <td>155.0</td>\n",
       "      <td>La Tour Montparnasse Infernale</td>\n",
       "      <td>0</td>\n",
       "    </tr>\n",
       "    <tr>\n",
       "      <th>1991</th>\n",
       "      <td>8000000</td>\n",
       "      <td>8.441602</td>\n",
       "      <td>69821334.0</td>\n",
       "      <td>111.0</td>\n",
       "      <td>6.1</td>\n",
       "      <td>328.0</td>\n",
       "      <td>Splash</td>\n",
       "      <td>0</td>\n",
       "    </tr>\n",
       "  </tbody>\n",
       "</table>\n",
       "</div>"
      ],
      "text/plain": [
       "         budget popularity     revenue  runtime  vote_average  vote_count  \\\n",
       "18721  10000000   4.883085    610986.0    101.0           5.9       103.0   \n",
       "7724          0   2.379551         0.0    113.0           6.4        45.0   \n",
       "7193   25000000  13.083718  30411183.0    108.0           6.3       844.0   \n",
       "44310         0   4.743842         0.0     92.0           6.6       155.0   \n",
       "1991    8000000   8.441602  69821334.0    111.0           6.1       328.0   \n",
       "\n",
       "                                title  cluster  \n",
       "18721                       The Ledge        0  \n",
       "7724                 Time of the Wolf        0  \n",
       "7193               The Girl Next Door        0  \n",
       "44310  La Tour Montparnasse Infernale        0  \n",
       "1991                           Splash        0  "
      ]
     },
     "execution_count": 205,
     "metadata": {},
     "output_type": "execute_result"
    }
   ],
   "source": [
    "df_numeric[df_numeric['cluster']==size_array.index(sorted(size_array)[-1])].sample(5)"
   ]
  }
 ],
 "metadata": {
  "kernelspec": {
   "display_name": "Python 3 (ipykernel)",
   "language": "python",
   "name": "python3"
  },
  "language_info": {
   "codemirror_mode": {
    "name": "ipython",
    "version": 3
   },
   "file_extension": ".py",
   "mimetype": "text/x-python",
   "name": "python",
   "nbconvert_exporter": "python",
   "pygments_lexer": "ipython3",
   "version": "3.9.7"
  }
 },
 "nbformat": 4,
 "nbformat_minor": 5
}
