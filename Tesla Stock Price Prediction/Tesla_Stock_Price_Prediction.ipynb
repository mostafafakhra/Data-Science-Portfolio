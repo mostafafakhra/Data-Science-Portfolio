{
  "cells": [
    {
      "cell_type": "markdown",
      "id": "a403870b-0766-43cf-b944-f491d3569fa9",
      "metadata": {
        "id": "a403870b-0766-43cf-b944-f491d3569fa9"
      },
      "source": [
        "# Tesla Stock Price Prediction"
      ]
    },
    {
      "cell_type": "markdown",
      "id": "d87702fc-0bf6-455e-941a-69238ebfa004",
      "metadata": {
        "id": "d87702fc-0bf6-455e-941a-69238ebfa004"
      },
      "source": [
        "## Importing Libraries"
      ]
    },
    {
      "cell_type": "code",
      "execution_count": 1,
      "id": "872e0d22-29f6-4d47-ae72-4b3b8e1038ec",
      "metadata": {
        "id": "872e0d22-29f6-4d47-ae72-4b3b8e1038ec"
      },
      "outputs": [],
      "source": [
        "import numpy as np\n",
        "import pandas as pd\n",
        "import matplotlib.pyplot as plt\n",
        "import seaborn as sns\n",
        "\n",
        "from sklearn.ensemble import RandomForestRegressor\n",
        "from sklearn import preprocessing\n",
        "from sklearn.model_selection import train_test_split\n",
        "\n",
        "from matplotlib import style\n",
        "style.use(\"fivethirtyeight\")"
      ]
    },
    {
      "cell_type": "markdown",
      "id": "ee79e8eb-cdc5-45be-b359-9f7f2a68a0c2",
      "metadata": {
        "id": "ee79e8eb-cdc5-45be-b359-9f7f2a68a0c2"
      },
      "source": [
        "## Importing Dataset"
      ]
    },
    {
      "cell_type": "code",
      "execution_count": 2,
      "id": "74f009bc-5977-4565-919b-d1a710dc5b26",
      "metadata": {
        "id": "74f009bc-5977-4565-919b-d1a710dc5b26"
      },
      "outputs": [],
      "source": [
        "df = pd.read_csv(r\"tesla.csv\")"
      ]
    },
    {
      "cell_type": "code",
      "execution_count": 3,
      "id": "132921de-6dc1-4ba7-bb84-81206cdb2635",
      "metadata": {
        "colab": {
          "base_uri": "https://localhost:8080/",
          "height": 206
        },
        "id": "132921de-6dc1-4ba7-bb84-81206cdb2635",
        "outputId": "883885d6-dc22-40f6-df85-91f8d6fd3980"
      },
      "outputs": [
        {
          "output_type": "execute_result",
          "data": {
            "text/plain": [
              "        Date       Open   High        Low      Close    Volume  Adj Close\n",
              "0  6/29/2010  19.000000  25.00  17.540001  23.889999  18766300  23.889999\n",
              "1  6/30/2010  25.790001  30.42  23.299999  23.830000  17187100  23.830000\n",
              "2   7/1/2010  25.000000  25.92  20.270000  21.959999   8218800  21.959999\n",
              "3   7/2/2010  23.000000  23.10  18.709999  19.200001   5139800  19.200001\n",
              "4   7/6/2010  20.000000  20.00  15.830000  16.110001   6866900  16.110001"
            ],
            "text/html": [
              "\n",
              "  <div id=\"df-60e240a2-d87f-41e7-b038-7a1e400a0d77\">\n",
              "    <div class=\"colab-df-container\">\n",
              "      <div>\n",
              "<style scoped>\n",
              "    .dataframe tbody tr th:only-of-type {\n",
              "        vertical-align: middle;\n",
              "    }\n",
              "\n",
              "    .dataframe tbody tr th {\n",
              "        vertical-align: top;\n",
              "    }\n",
              "\n",
              "    .dataframe thead th {\n",
              "        text-align: right;\n",
              "    }\n",
              "</style>\n",
              "<table border=\"1\" class=\"dataframe\">\n",
              "  <thead>\n",
              "    <tr style=\"text-align: right;\">\n",
              "      <th></th>\n",
              "      <th>Date</th>\n",
              "      <th>Open</th>\n",
              "      <th>High</th>\n",
              "      <th>Low</th>\n",
              "      <th>Close</th>\n",
              "      <th>Volume</th>\n",
              "      <th>Adj Close</th>\n",
              "    </tr>\n",
              "  </thead>\n",
              "  <tbody>\n",
              "    <tr>\n",
              "      <th>0</th>\n",
              "      <td>6/29/2010</td>\n",
              "      <td>19.000000</td>\n",
              "      <td>25.00</td>\n",
              "      <td>17.540001</td>\n",
              "      <td>23.889999</td>\n",
              "      <td>18766300</td>\n",
              "      <td>23.889999</td>\n",
              "    </tr>\n",
              "    <tr>\n",
              "      <th>1</th>\n",
              "      <td>6/30/2010</td>\n",
              "      <td>25.790001</td>\n",
              "      <td>30.42</td>\n",
              "      <td>23.299999</td>\n",
              "      <td>23.830000</td>\n",
              "      <td>17187100</td>\n",
              "      <td>23.830000</td>\n",
              "    </tr>\n",
              "    <tr>\n",
              "      <th>2</th>\n",
              "      <td>7/1/2010</td>\n",
              "      <td>25.000000</td>\n",
              "      <td>25.92</td>\n",
              "      <td>20.270000</td>\n",
              "      <td>21.959999</td>\n",
              "      <td>8218800</td>\n",
              "      <td>21.959999</td>\n",
              "    </tr>\n",
              "    <tr>\n",
              "      <th>3</th>\n",
              "      <td>7/2/2010</td>\n",
              "      <td>23.000000</td>\n",
              "      <td>23.10</td>\n",
              "      <td>18.709999</td>\n",
              "      <td>19.200001</td>\n",
              "      <td>5139800</td>\n",
              "      <td>19.200001</td>\n",
              "    </tr>\n",
              "    <tr>\n",
              "      <th>4</th>\n",
              "      <td>7/6/2010</td>\n",
              "      <td>20.000000</td>\n",
              "      <td>20.00</td>\n",
              "      <td>15.830000</td>\n",
              "      <td>16.110001</td>\n",
              "      <td>6866900</td>\n",
              "      <td>16.110001</td>\n",
              "    </tr>\n",
              "  </tbody>\n",
              "</table>\n",
              "</div>\n",
              "      <button class=\"colab-df-convert\" onclick=\"convertToInteractive('df-60e240a2-d87f-41e7-b038-7a1e400a0d77')\"\n",
              "              title=\"Convert this dataframe to an interactive table.\"\n",
              "              style=\"display:none;\">\n",
              "        \n",
              "  <svg xmlns=\"http://www.w3.org/2000/svg\" height=\"24px\"viewBox=\"0 0 24 24\"\n",
              "       width=\"24px\">\n",
              "    <path d=\"M0 0h24v24H0V0z\" fill=\"none\"/>\n",
              "    <path d=\"M18.56 5.44l.94 2.06.94-2.06 2.06-.94-2.06-.94-.94-2.06-.94 2.06-2.06.94zm-11 1L8.5 8.5l.94-2.06 2.06-.94-2.06-.94L8.5 2.5l-.94 2.06-2.06.94zm10 10l.94 2.06.94-2.06 2.06-.94-2.06-.94-.94-2.06-.94 2.06-2.06.94z\"/><path d=\"M17.41 7.96l-1.37-1.37c-.4-.4-.92-.59-1.43-.59-.52 0-1.04.2-1.43.59L10.3 9.45l-7.72 7.72c-.78.78-.78 2.05 0 2.83L4 21.41c.39.39.9.59 1.41.59.51 0 1.02-.2 1.41-.59l7.78-7.78 2.81-2.81c.8-.78.8-2.07 0-2.86zM5.41 20L4 18.59l7.72-7.72 1.47 1.35L5.41 20z\"/>\n",
              "  </svg>\n",
              "      </button>\n",
              "      \n",
              "  <style>\n",
              "    .colab-df-container {\n",
              "      display:flex;\n",
              "      flex-wrap:wrap;\n",
              "      gap: 12px;\n",
              "    }\n",
              "\n",
              "    .colab-df-convert {\n",
              "      background-color: #E8F0FE;\n",
              "      border: none;\n",
              "      border-radius: 50%;\n",
              "      cursor: pointer;\n",
              "      display: none;\n",
              "      fill: #1967D2;\n",
              "      height: 32px;\n",
              "      padding: 0 0 0 0;\n",
              "      width: 32px;\n",
              "    }\n",
              "\n",
              "    .colab-df-convert:hover {\n",
              "      background-color: #E2EBFA;\n",
              "      box-shadow: 0px 1px 2px rgba(60, 64, 67, 0.3), 0px 1px 3px 1px rgba(60, 64, 67, 0.15);\n",
              "      fill: #174EA6;\n",
              "    }\n",
              "\n",
              "    [theme=dark] .colab-df-convert {\n",
              "      background-color: #3B4455;\n",
              "      fill: #D2E3FC;\n",
              "    }\n",
              "\n",
              "    [theme=dark] .colab-df-convert:hover {\n",
              "      background-color: #434B5C;\n",
              "      box-shadow: 0px 1px 3px 1px rgba(0, 0, 0, 0.15);\n",
              "      filter: drop-shadow(0px 1px 2px rgba(0, 0, 0, 0.3));\n",
              "      fill: #FFFFFF;\n",
              "    }\n",
              "  </style>\n",
              "\n",
              "      <script>\n",
              "        const buttonEl =\n",
              "          document.querySelector('#df-60e240a2-d87f-41e7-b038-7a1e400a0d77 button.colab-df-convert');\n",
              "        buttonEl.style.display =\n",
              "          google.colab.kernel.accessAllowed ? 'block' : 'none';\n",
              "\n",
              "        async function convertToInteractive(key) {\n",
              "          const element = document.querySelector('#df-60e240a2-d87f-41e7-b038-7a1e400a0d77');\n",
              "          const dataTable =\n",
              "            await google.colab.kernel.invokeFunction('convertToInteractive',\n",
              "                                                     [key], {});\n",
              "          if (!dataTable) return;\n",
              "\n",
              "          const docLinkHtml = 'Like what you see? Visit the ' +\n",
              "            '<a target=\"_blank\" href=https://colab.research.google.com/notebooks/data_table.ipynb>data table notebook</a>'\n",
              "            + ' to learn more about interactive tables.';\n",
              "          element.innerHTML = '';\n",
              "          dataTable['output_type'] = 'display_data';\n",
              "          await google.colab.output.renderOutput(dataTable, element);\n",
              "          const docLink = document.createElement('div');\n",
              "          docLink.innerHTML = docLinkHtml;\n",
              "          element.appendChild(docLink);\n",
              "        }\n",
              "      </script>\n",
              "    </div>\n",
              "  </div>\n",
              "  "
            ]
          },
          "metadata": {},
          "execution_count": 3
        }
      ],
      "source": [
        "df.head()"
      ]
    },
    {
      "cell_type": "code",
      "execution_count": 4,
      "id": "d799cec2-a612-4c95-a12b-4e3789623be5",
      "metadata": {
        "colab": {
          "base_uri": "https://localhost:8080/"
        },
        "id": "d799cec2-a612-4c95-a12b-4e3789623be5",
        "outputId": "66dbfa88-05e9-4155-fea2-6bcda626c8a5"
      },
      "outputs": [
        {
          "output_type": "stream",
          "name": "stdout",
          "text": [
            "<class 'pandas.core.frame.DataFrame'>\n",
            "RangeIndex: 1692 entries, 0 to 1691\n",
            "Data columns (total 7 columns):\n",
            " #   Column     Non-Null Count  Dtype  \n",
            "---  ------     --------------  -----  \n",
            " 0   Date       1692 non-null   object \n",
            " 1   Open       1692 non-null   float64\n",
            " 2   High       1692 non-null   float64\n",
            " 3   Low        1692 non-null   float64\n",
            " 4   Close      1692 non-null   float64\n",
            " 5   Volume     1692 non-null   int64  \n",
            " 6   Adj Close  1692 non-null   float64\n",
            "dtypes: float64(5), int64(1), object(1)\n",
            "memory usage: 92.7+ KB\n"
          ]
        }
      ],
      "source": [
        "df.info()"
      ]
    },
    {
      "cell_type": "code",
      "execution_count": 5,
      "id": "96d02541-d996-45db-bcb9-f9daa15ebf4f",
      "metadata": {
        "colab": {
          "base_uri": "https://localhost:8080/",
          "height": 300
        },
        "id": "96d02541-d996-45db-bcb9-f9daa15ebf4f",
        "outputId": "77e6ebeb-d31b-4bc4-88aa-da7b454b63cc"
      },
      "outputs": [
        {
          "output_type": "execute_result",
          "data": {
            "text/plain": [
              "              Open         High          Low        Close        Volume  \\\n",
              "count  1692.000000  1692.000000  1692.000000  1692.000000  1.692000e+03   \n",
              "mean    132.441572   134.769698   129.996223   132.428658  4.270741e+06   \n",
              "std      94.309923    95.694914    92.855227    94.313187  4.295971e+06   \n",
              "min      16.139999    16.629999    14.980000    15.800000  1.185000e+05   \n",
              "25%      30.000000    30.650000    29.215000    29.884999  1.194350e+06   \n",
              "50%     156.334999   162.370002   153.150002   158.160004  3.180700e+06   \n",
              "75%     220.557495   224.099999   217.119999   220.022503  5.662100e+06   \n",
              "max     287.670013   291.420013   280.399994   286.040009  3.716390e+07   \n",
              "\n",
              "         Adj Close  \n",
              "count  1692.000000  \n",
              "mean    132.428658  \n",
              "std      94.313187  \n",
              "min      15.800000  \n",
              "25%      29.884999  \n",
              "50%     158.160004  \n",
              "75%     220.022503  \n",
              "max     286.040009  "
            ],
            "text/html": [
              "\n",
              "  <div id=\"df-5db8404b-99f6-48f4-8e36-3b522783426d\">\n",
              "    <div class=\"colab-df-container\">\n",
              "      <div>\n",
              "<style scoped>\n",
              "    .dataframe tbody tr th:only-of-type {\n",
              "        vertical-align: middle;\n",
              "    }\n",
              "\n",
              "    .dataframe tbody tr th {\n",
              "        vertical-align: top;\n",
              "    }\n",
              "\n",
              "    .dataframe thead th {\n",
              "        text-align: right;\n",
              "    }\n",
              "</style>\n",
              "<table border=\"1\" class=\"dataframe\">\n",
              "  <thead>\n",
              "    <tr style=\"text-align: right;\">\n",
              "      <th></th>\n",
              "      <th>Open</th>\n",
              "      <th>High</th>\n",
              "      <th>Low</th>\n",
              "      <th>Close</th>\n",
              "      <th>Volume</th>\n",
              "      <th>Adj Close</th>\n",
              "    </tr>\n",
              "  </thead>\n",
              "  <tbody>\n",
              "    <tr>\n",
              "      <th>count</th>\n",
              "      <td>1692.000000</td>\n",
              "      <td>1692.000000</td>\n",
              "      <td>1692.000000</td>\n",
              "      <td>1692.000000</td>\n",
              "      <td>1.692000e+03</td>\n",
              "      <td>1692.000000</td>\n",
              "    </tr>\n",
              "    <tr>\n",
              "      <th>mean</th>\n",
              "      <td>132.441572</td>\n",
              "      <td>134.769698</td>\n",
              "      <td>129.996223</td>\n",
              "      <td>132.428658</td>\n",
              "      <td>4.270741e+06</td>\n",
              "      <td>132.428658</td>\n",
              "    </tr>\n",
              "    <tr>\n",
              "      <th>std</th>\n",
              "      <td>94.309923</td>\n",
              "      <td>95.694914</td>\n",
              "      <td>92.855227</td>\n",
              "      <td>94.313187</td>\n",
              "      <td>4.295971e+06</td>\n",
              "      <td>94.313187</td>\n",
              "    </tr>\n",
              "    <tr>\n",
              "      <th>min</th>\n",
              "      <td>16.139999</td>\n",
              "      <td>16.629999</td>\n",
              "      <td>14.980000</td>\n",
              "      <td>15.800000</td>\n",
              "      <td>1.185000e+05</td>\n",
              "      <td>15.800000</td>\n",
              "    </tr>\n",
              "    <tr>\n",
              "      <th>25%</th>\n",
              "      <td>30.000000</td>\n",
              "      <td>30.650000</td>\n",
              "      <td>29.215000</td>\n",
              "      <td>29.884999</td>\n",
              "      <td>1.194350e+06</td>\n",
              "      <td>29.884999</td>\n",
              "    </tr>\n",
              "    <tr>\n",
              "      <th>50%</th>\n",
              "      <td>156.334999</td>\n",
              "      <td>162.370002</td>\n",
              "      <td>153.150002</td>\n",
              "      <td>158.160004</td>\n",
              "      <td>3.180700e+06</td>\n",
              "      <td>158.160004</td>\n",
              "    </tr>\n",
              "    <tr>\n",
              "      <th>75%</th>\n",
              "      <td>220.557495</td>\n",
              "      <td>224.099999</td>\n",
              "      <td>217.119999</td>\n",
              "      <td>220.022503</td>\n",
              "      <td>5.662100e+06</td>\n",
              "      <td>220.022503</td>\n",
              "    </tr>\n",
              "    <tr>\n",
              "      <th>max</th>\n",
              "      <td>287.670013</td>\n",
              "      <td>291.420013</td>\n",
              "      <td>280.399994</td>\n",
              "      <td>286.040009</td>\n",
              "      <td>3.716390e+07</td>\n",
              "      <td>286.040009</td>\n",
              "    </tr>\n",
              "  </tbody>\n",
              "</table>\n",
              "</div>\n",
              "      <button class=\"colab-df-convert\" onclick=\"convertToInteractive('df-5db8404b-99f6-48f4-8e36-3b522783426d')\"\n",
              "              title=\"Convert this dataframe to an interactive table.\"\n",
              "              style=\"display:none;\">\n",
              "        \n",
              "  <svg xmlns=\"http://www.w3.org/2000/svg\" height=\"24px\"viewBox=\"0 0 24 24\"\n",
              "       width=\"24px\">\n",
              "    <path d=\"M0 0h24v24H0V0z\" fill=\"none\"/>\n",
              "    <path d=\"M18.56 5.44l.94 2.06.94-2.06 2.06-.94-2.06-.94-.94-2.06-.94 2.06-2.06.94zm-11 1L8.5 8.5l.94-2.06 2.06-.94-2.06-.94L8.5 2.5l-.94 2.06-2.06.94zm10 10l.94 2.06.94-2.06 2.06-.94-2.06-.94-.94-2.06-.94 2.06-2.06.94z\"/><path d=\"M17.41 7.96l-1.37-1.37c-.4-.4-.92-.59-1.43-.59-.52 0-1.04.2-1.43.59L10.3 9.45l-7.72 7.72c-.78.78-.78 2.05 0 2.83L4 21.41c.39.39.9.59 1.41.59.51 0 1.02-.2 1.41-.59l7.78-7.78 2.81-2.81c.8-.78.8-2.07 0-2.86zM5.41 20L4 18.59l7.72-7.72 1.47 1.35L5.41 20z\"/>\n",
              "  </svg>\n",
              "      </button>\n",
              "      \n",
              "  <style>\n",
              "    .colab-df-container {\n",
              "      display:flex;\n",
              "      flex-wrap:wrap;\n",
              "      gap: 12px;\n",
              "    }\n",
              "\n",
              "    .colab-df-convert {\n",
              "      background-color: #E8F0FE;\n",
              "      border: none;\n",
              "      border-radius: 50%;\n",
              "      cursor: pointer;\n",
              "      display: none;\n",
              "      fill: #1967D2;\n",
              "      height: 32px;\n",
              "      padding: 0 0 0 0;\n",
              "      width: 32px;\n",
              "    }\n",
              "\n",
              "    .colab-df-convert:hover {\n",
              "      background-color: #E2EBFA;\n",
              "      box-shadow: 0px 1px 2px rgba(60, 64, 67, 0.3), 0px 1px 3px 1px rgba(60, 64, 67, 0.15);\n",
              "      fill: #174EA6;\n",
              "    }\n",
              "\n",
              "    [theme=dark] .colab-df-convert {\n",
              "      background-color: #3B4455;\n",
              "      fill: #D2E3FC;\n",
              "    }\n",
              "\n",
              "    [theme=dark] .colab-df-convert:hover {\n",
              "      background-color: #434B5C;\n",
              "      box-shadow: 0px 1px 3px 1px rgba(0, 0, 0, 0.15);\n",
              "      filter: drop-shadow(0px 1px 2px rgba(0, 0, 0, 0.3));\n",
              "      fill: #FFFFFF;\n",
              "    }\n",
              "  </style>\n",
              "\n",
              "      <script>\n",
              "        const buttonEl =\n",
              "          document.querySelector('#df-5db8404b-99f6-48f4-8e36-3b522783426d button.colab-df-convert');\n",
              "        buttonEl.style.display =\n",
              "          google.colab.kernel.accessAllowed ? 'block' : 'none';\n",
              "\n",
              "        async function convertToInteractive(key) {\n",
              "          const element = document.querySelector('#df-5db8404b-99f6-48f4-8e36-3b522783426d');\n",
              "          const dataTable =\n",
              "            await google.colab.kernel.invokeFunction('convertToInteractive',\n",
              "                                                     [key], {});\n",
              "          if (!dataTable) return;\n",
              "\n",
              "          const docLinkHtml = 'Like what you see? Visit the ' +\n",
              "            '<a target=\"_blank\" href=https://colab.research.google.com/notebooks/data_table.ipynb>data table notebook</a>'\n",
              "            + ' to learn more about interactive tables.';\n",
              "          element.innerHTML = '';\n",
              "          dataTable['output_type'] = 'display_data';\n",
              "          await google.colab.output.renderOutput(dataTable, element);\n",
              "          const docLink = document.createElement('div');\n",
              "          docLink.innerHTML = docLinkHtml;\n",
              "          element.appendChild(docLink);\n",
              "        }\n",
              "      </script>\n",
              "    </div>\n",
              "  </div>\n",
              "  "
            ]
          },
          "metadata": {},
          "execution_count": 5
        }
      ],
      "source": [
        "df.describe()"
      ]
    },
    {
      "cell_type": "markdown",
      "id": "aba253bc-2298-4074-982c-83fac2376b06",
      "metadata": {
        "id": "aba253bc-2298-4074-982c-83fac2376b06"
      },
      "source": [
        "## Data Exploratory"
      ]
    },
    {
      "cell_type": "code",
      "execution_count": 6,
      "id": "41057b30-81da-4f7e-bbbc-9d7ff4244606",
      "metadata": {
        "id": "41057b30-81da-4f7e-bbbc-9d7ff4244606"
      },
      "outputs": [],
      "source": [
        "# Selecting the features required\n",
        "df[\"HL_Perc\"] = (df[\"High\"]-df[\"Low\"]) / df[\"Low\"] * 100\n",
        "df[\"CO_perc\"] = (df[\"Close\"]-df[\"Open\"]) / df[\"Open\"] * 100"
      ]
    },
    {
      "cell_type": "code",
      "execution_count": 7,
      "id": "0e511c2e-1032-44c7-ab72-bdf257530508",
      "metadata": {
        "id": "0e511c2e-1032-44c7-ab72-bdf257530508"
      },
      "outputs": [],
      "source": [
        "dates = np.array(df[\"Date\"])\n",
        "dates_check = dates[-30:]\n",
        "dates = dates[:-30]"
      ]
    },
    {
      "cell_type": "code",
      "execution_count": 8,
      "id": "4df5d062-3322-459f-acb5-7b26defb2f6c",
      "metadata": {
        "colab": {
          "base_uri": "https://localhost:8080/"
        },
        "id": "4df5d062-3322-459f-acb5-7b26defb2f6c",
        "outputId": "50775340-2d10-45fb-8165-3e67993664f3"
      },
      "outputs": [
        {
          "output_type": "execute_result",
          "data": {
            "text/plain": [
              "array(['6/29/2010', '6/30/2010', '7/1/2010', ..., '1/31/2017', '2/1/2017',\n",
              "       '2/2/2017'], dtype=object)"
            ]
          },
          "metadata": {},
          "execution_count": 8
        }
      ],
      "source": [
        "dates"
      ]
    },
    {
      "cell_type": "code",
      "execution_count": 9,
      "id": "0d07efb7-1c99-4901-bab4-edd33beb3e55",
      "metadata": {
        "id": "0d07efb7-1c99-4901-bab4-edd33beb3e55"
      },
      "outputs": [],
      "source": [
        "df = df[[\"HL_Perc\", \"CO_perc\", \"Adj Close\", \"Volume\"]]"
      ]
    },
    {
      "cell_type": "code",
      "execution_count": 10,
      "id": "6cadbdf7-8743-49e8-9e27-7c9b38443a11",
      "metadata": {
        "colab": {
          "base_uri": "https://localhost:8080/"
        },
        "id": "6cadbdf7-8743-49e8-9e27-7c9b38443a11",
        "outputId": "cf4c54f4-7121-4506-d42e-8d6ee93a072b"
      },
      "outputs": [
        {
          "output_type": "stream",
          "name": "stderr",
          "text": [
            "/usr/local/lib/python3.7/dist-packages/ipykernel_launcher.py:2: SettingWithCopyWarning: \n",
            "A value is trying to be set on a copy of a slice from a DataFrame.\n",
            "Try using .loc[row_indexer,col_indexer] = value instead\n",
            "\n",
            "See the caveats in the documentation: https://pandas.pydata.org/pandas-docs/stable/user_guide/indexing.html#returning-a-view-versus-a-copy\n",
            "  \n"
          ]
        }
      ],
      "source": [
        "# Define the label column\n",
        "df[\"PriceNextMonth\"] = df[\"Adj Close\"].shift(-30)"
      ]
    },
    {
      "cell_type": "code",
      "execution_count": 11,
      "id": "b50d434e-3d15-4741-b4e9-510592a7d124",
      "metadata": {
        "colab": {
          "base_uri": "https://localhost:8080/",
          "height": 206
        },
        "id": "b50d434e-3d15-4741-b4e9-510592a7d124",
        "outputId": "321fb1e6-24d7-4682-c55b-3c79e007653f"
      },
      "outputs": [
        {
          "output_type": "execute_result",
          "data": {
            "text/plain": [
              "       HL_Perc   CO_perc   Adj Close   Volume  PriceNextMonth\n",
              "1687  1.676418  0.551422  246.169998  3010700             NaN\n",
              "1688  4.918296  4.831173  258.000000  7575500             NaN\n",
              "1689  2.646791 -0.494165  255.729996  4816600             NaN\n",
              "1690  2.582414 -0.133386  262.049988  7100400             NaN\n",
              "1691  1.581154 -0.946970  261.500000  6475900             NaN"
            ],
            "text/html": [
              "\n",
              "  <div id=\"df-ff19bebc-fadc-42ff-8c6d-cd56ee93f208\">\n",
              "    <div class=\"colab-df-container\">\n",
              "      <div>\n",
              "<style scoped>\n",
              "    .dataframe tbody tr th:only-of-type {\n",
              "        vertical-align: middle;\n",
              "    }\n",
              "\n",
              "    .dataframe tbody tr th {\n",
              "        vertical-align: top;\n",
              "    }\n",
              "\n",
              "    .dataframe thead th {\n",
              "        text-align: right;\n",
              "    }\n",
              "</style>\n",
              "<table border=\"1\" class=\"dataframe\">\n",
              "  <thead>\n",
              "    <tr style=\"text-align: right;\">\n",
              "      <th></th>\n",
              "      <th>HL_Perc</th>\n",
              "      <th>CO_perc</th>\n",
              "      <th>Adj Close</th>\n",
              "      <th>Volume</th>\n",
              "      <th>PriceNextMonth</th>\n",
              "    </tr>\n",
              "  </thead>\n",
              "  <tbody>\n",
              "    <tr>\n",
              "      <th>1687</th>\n",
              "      <td>1.676418</td>\n",
              "      <td>0.551422</td>\n",
              "      <td>246.169998</td>\n",
              "      <td>3010700</td>\n",
              "      <td>NaN</td>\n",
              "    </tr>\n",
              "    <tr>\n",
              "      <th>1688</th>\n",
              "      <td>4.918296</td>\n",
              "      <td>4.831173</td>\n",
              "      <td>258.000000</td>\n",
              "      <td>7575500</td>\n",
              "      <td>NaN</td>\n",
              "    </tr>\n",
              "    <tr>\n",
              "      <th>1689</th>\n",
              "      <td>2.646791</td>\n",
              "      <td>-0.494165</td>\n",
              "      <td>255.729996</td>\n",
              "      <td>4816600</td>\n",
              "      <td>NaN</td>\n",
              "    </tr>\n",
              "    <tr>\n",
              "      <th>1690</th>\n",
              "      <td>2.582414</td>\n",
              "      <td>-0.133386</td>\n",
              "      <td>262.049988</td>\n",
              "      <td>7100400</td>\n",
              "      <td>NaN</td>\n",
              "    </tr>\n",
              "    <tr>\n",
              "      <th>1691</th>\n",
              "      <td>1.581154</td>\n",
              "      <td>-0.946970</td>\n",
              "      <td>261.500000</td>\n",
              "      <td>6475900</td>\n",
              "      <td>NaN</td>\n",
              "    </tr>\n",
              "  </tbody>\n",
              "</table>\n",
              "</div>\n",
              "      <button class=\"colab-df-convert\" onclick=\"convertToInteractive('df-ff19bebc-fadc-42ff-8c6d-cd56ee93f208')\"\n",
              "              title=\"Convert this dataframe to an interactive table.\"\n",
              "              style=\"display:none;\">\n",
              "        \n",
              "  <svg xmlns=\"http://www.w3.org/2000/svg\" height=\"24px\"viewBox=\"0 0 24 24\"\n",
              "       width=\"24px\">\n",
              "    <path d=\"M0 0h24v24H0V0z\" fill=\"none\"/>\n",
              "    <path d=\"M18.56 5.44l.94 2.06.94-2.06 2.06-.94-2.06-.94-.94-2.06-.94 2.06-2.06.94zm-11 1L8.5 8.5l.94-2.06 2.06-.94-2.06-.94L8.5 2.5l-.94 2.06-2.06.94zm10 10l.94 2.06.94-2.06 2.06-.94-2.06-.94-.94-2.06-.94 2.06-2.06.94z\"/><path d=\"M17.41 7.96l-1.37-1.37c-.4-.4-.92-.59-1.43-.59-.52 0-1.04.2-1.43.59L10.3 9.45l-7.72 7.72c-.78.78-.78 2.05 0 2.83L4 21.41c.39.39.9.59 1.41.59.51 0 1.02-.2 1.41-.59l7.78-7.78 2.81-2.81c.8-.78.8-2.07 0-2.86zM5.41 20L4 18.59l7.72-7.72 1.47 1.35L5.41 20z\"/>\n",
              "  </svg>\n",
              "      </button>\n",
              "      \n",
              "  <style>\n",
              "    .colab-df-container {\n",
              "      display:flex;\n",
              "      flex-wrap:wrap;\n",
              "      gap: 12px;\n",
              "    }\n",
              "\n",
              "    .colab-df-convert {\n",
              "      background-color: #E8F0FE;\n",
              "      border: none;\n",
              "      border-radius: 50%;\n",
              "      cursor: pointer;\n",
              "      display: none;\n",
              "      fill: #1967D2;\n",
              "      height: 32px;\n",
              "      padding: 0 0 0 0;\n",
              "      width: 32px;\n",
              "    }\n",
              "\n",
              "    .colab-df-convert:hover {\n",
              "      background-color: #E2EBFA;\n",
              "      box-shadow: 0px 1px 2px rgba(60, 64, 67, 0.3), 0px 1px 3px 1px rgba(60, 64, 67, 0.15);\n",
              "      fill: #174EA6;\n",
              "    }\n",
              "\n",
              "    [theme=dark] .colab-df-convert {\n",
              "      background-color: #3B4455;\n",
              "      fill: #D2E3FC;\n",
              "    }\n",
              "\n",
              "    [theme=dark] .colab-df-convert:hover {\n",
              "      background-color: #434B5C;\n",
              "      box-shadow: 0px 1px 3px 1px rgba(0, 0, 0, 0.15);\n",
              "      filter: drop-shadow(0px 1px 2px rgba(0, 0, 0, 0.3));\n",
              "      fill: #FFFFFF;\n",
              "    }\n",
              "  </style>\n",
              "\n",
              "      <script>\n",
              "        const buttonEl =\n",
              "          document.querySelector('#df-ff19bebc-fadc-42ff-8c6d-cd56ee93f208 button.colab-df-convert');\n",
              "        buttonEl.style.display =\n",
              "          google.colab.kernel.accessAllowed ? 'block' : 'none';\n",
              "\n",
              "        async function convertToInteractive(key) {\n",
              "          const element = document.querySelector('#df-ff19bebc-fadc-42ff-8c6d-cd56ee93f208');\n",
              "          const dataTable =\n",
              "            await google.colab.kernel.invokeFunction('convertToInteractive',\n",
              "                                                     [key], {});\n",
              "          if (!dataTable) return;\n",
              "\n",
              "          const docLinkHtml = 'Like what you see? Visit the ' +\n",
              "            '<a target=\"_blank\" href=https://colab.research.google.com/notebooks/data_table.ipynb>data table notebook</a>'\n",
              "            + ' to learn more about interactive tables.';\n",
              "          element.innerHTML = '';\n",
              "          dataTable['output_type'] = 'display_data';\n",
              "          await google.colab.output.renderOutput(dataTable, element);\n",
              "          const docLink = document.createElement('div');\n",
              "          docLink.innerHTML = docLinkHtml;\n",
              "          element.appendChild(docLink);\n",
              "        }\n",
              "      </script>\n",
              "    </div>\n",
              "  </div>\n",
              "  "
            ]
          },
          "metadata": {},
          "execution_count": 11
        }
      ],
      "source": [
        "df.tail()"
      ]
    },
    {
      "cell_type": "code",
      "execution_count": 12,
      "id": "90037534-7d05-4f98-bcb1-c0b729f586a4",
      "metadata": {
        "colab": {
          "base_uri": "https://localhost:8080/",
          "height": 206
        },
        "id": "90037534-7d05-4f98-bcb1-c0b729f586a4",
        "outputId": "2c92b86e-b4fd-4b4a-f78e-30dcf8233ea6"
      },
      "outputs": [
        {
          "output_type": "execute_result",
          "data": {
            "text/plain": [
              "     HL_Perc    CO_perc  Adj Close    Volume  PriceNextMonth\n",
              "0  42.531349  25.736837  23.889999  18766300       17.900000\n",
              "1  30.557946  -7.599848  23.830000  17187100       17.600000\n",
              "2  27.873705 -12.160004  21.959999   8218800       18.320000\n",
              "3  23.463395 -16.521735  19.200001   5139800       18.780001\n",
              "4  26.342388 -19.449995  16.110001   6866900       19.150000"
            ],
            "text/html": [
              "\n",
              "  <div id=\"df-72b435c5-73c8-4671-9459-f5275328075c\">\n",
              "    <div class=\"colab-df-container\">\n",
              "      <div>\n",
              "<style scoped>\n",
              "    .dataframe tbody tr th:only-of-type {\n",
              "        vertical-align: middle;\n",
              "    }\n",
              "\n",
              "    .dataframe tbody tr th {\n",
              "        vertical-align: top;\n",
              "    }\n",
              "\n",
              "    .dataframe thead th {\n",
              "        text-align: right;\n",
              "    }\n",
              "</style>\n",
              "<table border=\"1\" class=\"dataframe\">\n",
              "  <thead>\n",
              "    <tr style=\"text-align: right;\">\n",
              "      <th></th>\n",
              "      <th>HL_Perc</th>\n",
              "      <th>CO_perc</th>\n",
              "      <th>Adj Close</th>\n",
              "      <th>Volume</th>\n",
              "      <th>PriceNextMonth</th>\n",
              "    </tr>\n",
              "  </thead>\n",
              "  <tbody>\n",
              "    <tr>\n",
              "      <th>0</th>\n",
              "      <td>42.531349</td>\n",
              "      <td>25.736837</td>\n",
              "      <td>23.889999</td>\n",
              "      <td>18766300</td>\n",
              "      <td>17.900000</td>\n",
              "    </tr>\n",
              "    <tr>\n",
              "      <th>1</th>\n",
              "      <td>30.557946</td>\n",
              "      <td>-7.599848</td>\n",
              "      <td>23.830000</td>\n",
              "      <td>17187100</td>\n",
              "      <td>17.600000</td>\n",
              "    </tr>\n",
              "    <tr>\n",
              "      <th>2</th>\n",
              "      <td>27.873705</td>\n",
              "      <td>-12.160004</td>\n",
              "      <td>21.959999</td>\n",
              "      <td>8218800</td>\n",
              "      <td>18.320000</td>\n",
              "    </tr>\n",
              "    <tr>\n",
              "      <th>3</th>\n",
              "      <td>23.463395</td>\n",
              "      <td>-16.521735</td>\n",
              "      <td>19.200001</td>\n",
              "      <td>5139800</td>\n",
              "      <td>18.780001</td>\n",
              "    </tr>\n",
              "    <tr>\n",
              "      <th>4</th>\n",
              "      <td>26.342388</td>\n",
              "      <td>-19.449995</td>\n",
              "      <td>16.110001</td>\n",
              "      <td>6866900</td>\n",
              "      <td>19.150000</td>\n",
              "    </tr>\n",
              "  </tbody>\n",
              "</table>\n",
              "</div>\n",
              "      <button class=\"colab-df-convert\" onclick=\"convertToInteractive('df-72b435c5-73c8-4671-9459-f5275328075c')\"\n",
              "              title=\"Convert this dataframe to an interactive table.\"\n",
              "              style=\"display:none;\">\n",
              "        \n",
              "  <svg xmlns=\"http://www.w3.org/2000/svg\" height=\"24px\"viewBox=\"0 0 24 24\"\n",
              "       width=\"24px\">\n",
              "    <path d=\"M0 0h24v24H0V0z\" fill=\"none\"/>\n",
              "    <path d=\"M18.56 5.44l.94 2.06.94-2.06 2.06-.94-2.06-.94-.94-2.06-.94 2.06-2.06.94zm-11 1L8.5 8.5l.94-2.06 2.06-.94-2.06-.94L8.5 2.5l-.94 2.06-2.06.94zm10 10l.94 2.06.94-2.06 2.06-.94-2.06-.94-.94-2.06-.94 2.06-2.06.94z\"/><path d=\"M17.41 7.96l-1.37-1.37c-.4-.4-.92-.59-1.43-.59-.52 0-1.04.2-1.43.59L10.3 9.45l-7.72 7.72c-.78.78-.78 2.05 0 2.83L4 21.41c.39.39.9.59 1.41.59.51 0 1.02-.2 1.41-.59l7.78-7.78 2.81-2.81c.8-.78.8-2.07 0-2.86zM5.41 20L4 18.59l7.72-7.72 1.47 1.35L5.41 20z\"/>\n",
              "  </svg>\n",
              "      </button>\n",
              "      \n",
              "  <style>\n",
              "    .colab-df-container {\n",
              "      display:flex;\n",
              "      flex-wrap:wrap;\n",
              "      gap: 12px;\n",
              "    }\n",
              "\n",
              "    .colab-df-convert {\n",
              "      background-color: #E8F0FE;\n",
              "      border: none;\n",
              "      border-radius: 50%;\n",
              "      cursor: pointer;\n",
              "      display: none;\n",
              "      fill: #1967D2;\n",
              "      height: 32px;\n",
              "      padding: 0 0 0 0;\n",
              "      width: 32px;\n",
              "    }\n",
              "\n",
              "    .colab-df-convert:hover {\n",
              "      background-color: #E2EBFA;\n",
              "      box-shadow: 0px 1px 2px rgba(60, 64, 67, 0.3), 0px 1px 3px 1px rgba(60, 64, 67, 0.15);\n",
              "      fill: #174EA6;\n",
              "    }\n",
              "\n",
              "    [theme=dark] .colab-df-convert {\n",
              "      background-color: #3B4455;\n",
              "      fill: #D2E3FC;\n",
              "    }\n",
              "\n",
              "    [theme=dark] .colab-df-convert:hover {\n",
              "      background-color: #434B5C;\n",
              "      box-shadow: 0px 1px 3px 1px rgba(0, 0, 0, 0.15);\n",
              "      filter: drop-shadow(0px 1px 2px rgba(0, 0, 0, 0.3));\n",
              "      fill: #FFFFFF;\n",
              "    }\n",
              "  </style>\n",
              "\n",
              "      <script>\n",
              "        const buttonEl =\n",
              "          document.querySelector('#df-72b435c5-73c8-4671-9459-f5275328075c button.colab-df-convert');\n",
              "        buttonEl.style.display =\n",
              "          google.colab.kernel.accessAllowed ? 'block' : 'none';\n",
              "\n",
              "        async function convertToInteractive(key) {\n",
              "          const element = document.querySelector('#df-72b435c5-73c8-4671-9459-f5275328075c');\n",
              "          const dataTable =\n",
              "            await google.colab.kernel.invokeFunction('convertToInteractive',\n",
              "                                                     [key], {});\n",
              "          if (!dataTable) return;\n",
              "\n",
              "          const docLinkHtml = 'Like what you see? Visit the ' +\n",
              "            '<a target=\"_blank\" href=https://colab.research.google.com/notebooks/data_table.ipynb>data table notebook</a>'\n",
              "            + ' to learn more about interactive tables.';\n",
              "          element.innerHTML = '';\n",
              "          dataTable['output_type'] = 'display_data';\n",
              "          await google.colab.output.renderOutput(dataTable, element);\n",
              "          const docLink = document.createElement('div');\n",
              "          docLink.innerHTML = docLinkHtml;\n",
              "          element.appendChild(docLink);\n",
              "        }\n",
              "      </script>\n",
              "    </div>\n",
              "  </div>\n",
              "  "
            ]
          },
          "metadata": {},
          "execution_count": 12
        }
      ],
      "source": [
        "df.head()"
      ]
    },
    {
      "cell_type": "markdown",
      "id": "a3de9618-efc3-42cf-9bac-780b34622b99",
      "metadata": {
        "id": "a3de9618-efc3-42cf-9bac-780b34622b99"
      },
      "source": [
        "## Model Building"
      ]
    },
    {
      "cell_type": "code",
      "execution_count": 13,
      "id": "2866cb42-a6e9-4b00-89ae-767fe62ad2f5",
      "metadata": {
        "colab": {
          "base_uri": "https://localhost:8080/"
        },
        "id": "2866cb42-a6e9-4b00-89ae-767fe62ad2f5",
        "outputId": "ec3febf7-b836-482d-a38b-9966b053af53"
      },
      "outputs": [
        {
          "output_type": "stream",
          "name": "stderr",
          "text": [
            "/usr/local/lib/python3.7/dist-packages/ipykernel_launcher.py:2: FutureWarning: In a future version of pandas all arguments of DataFrame.drop except for the argument 'labels' will be keyword-only\n",
            "  \n",
            "/usr/local/lib/python3.7/dist-packages/pandas/util/_decorators.py:311: SettingWithCopyWarning: \n",
            "A value is trying to be set on a copy of a slice from a DataFrame\n",
            "\n",
            "See the caveats in the documentation: https://pandas.pydata.org/pandas-docs/stable/user_guide/indexing.html#returning-a-view-versus-a-copy\n",
            "  return func(*args, **kwargs)\n"
          ]
        }
      ],
      "source": [
        "# Making Features & Label Arrays\n",
        "X = np.array(df.drop([\"PriceNextMonth\"],1))\n",
        "X = preprocessing.scale(X)\n",
        "X_check = X[-30:]\n",
        "X = X[:-30]\n",
        "df.dropna(inplace = True)\n",
        "y = np.array(df[\"PriceNextMonth\"])"
      ]
    },
    {
      "cell_type": "code",
      "execution_count": 14,
      "id": "9b0c2575-d7fd-4580-94cd-163038c95bac",
      "metadata": {
        "id": "9b0c2575-d7fd-4580-94cd-163038c95bac"
      },
      "outputs": [],
      "source": [
        "# Divide the data into training data & testing data\n",
        "x_train, X_test, y_train, y_test = train_test_split(X, y, test_size = .2)"
      ]
    },
    {
      "cell_type": "code",
      "execution_count": 15,
      "id": "6119df66-9f88-4992-b555-dfc5a30f92e2",
      "metadata": {
        "id": "6119df66-9f88-4992-b555-dfc5a30f92e2"
      },
      "outputs": [],
      "source": [
        "# Define the Random Forest Model\n",
        "model = RandomForestRegressor()"
      ]
    },
    {
      "cell_type": "code",
      "execution_count": 16,
      "id": "d966580e-a1a3-49b5-a68a-e30b93e81d5d",
      "metadata": {
        "colab": {
          "base_uri": "https://localhost:8080/"
        },
        "id": "d966580e-a1a3-49b5-a68a-e30b93e81d5d",
        "outputId": "be1af6e7-5241-47b4-87b7-a8d22f4665b7"
      },
      "outputs": [
        {
          "output_type": "execute_result",
          "data": {
            "text/plain": [
              "RandomForestRegressor()"
            ]
          },
          "metadata": {},
          "execution_count": 16
        }
      ],
      "source": [
        "# Fit the model using the training date\n",
        "model.fit(x_train, y_train)"
      ]
    },
    {
      "cell_type": "code",
      "execution_count": 17,
      "id": "397f6d2d-d01b-48d6-80a5-f27644607811",
      "metadata": {
        "colab": {
          "base_uri": "https://localhost:8080/"
        },
        "id": "397f6d2d-d01b-48d6-80a5-f27644607811",
        "outputId": "4a3759c0-0b7b-475d-ed6d-837f172df7a3"
      },
      "outputs": [
        {
          "output_type": "stream",
          "name": "stdout",
          "text": [
            "Accuracy : 0.9581416999145506\n"
          ]
        }
      ],
      "source": [
        "print(\"Accuracy :\", model.score(X_test, y_test))"
      ]
    },
    {
      "cell_type": "code",
      "execution_count": 18,
      "id": "614b045b-6de5-460b-b51c-599d60ba8a82",
      "metadata": {
        "colab": {
          "base_uri": "https://localhost:8080/"
        },
        "id": "614b045b-6de5-460b-b51c-599d60ba8a82",
        "outputId": "a121cda2-1769-44cd-a43a-5069953186d5"
      },
      "outputs": [
        {
          "output_type": "execute_result",
          "data": {
            "text/plain": [
              "RandomForestRegressor()"
            ]
          },
          "metadata": {},
          "execution_count": 18
        }
      ],
      "source": [
        "# Fit the Model again using the whole dataset\n",
        "model.fit(X, y)"
      ]
    },
    {
      "cell_type": "code",
      "execution_count": 19,
      "id": "2a554653-3d54-4c7a-be03-f160577682cb",
      "metadata": {
        "id": "2a554653-3d54-4c7a-be03-f160577682cb"
      },
      "outputs": [],
      "source": [
        "predictions = model.predict(X_check)"
      ]
    },
    {
      "cell_type": "code",
      "execution_count": 20,
      "id": "3e015c5f-a4b5-443f-86fe-d6f9f535522b",
      "metadata": {
        "id": "3e015c5f-a4b5-443f-86fe-d6f9f535522b"
      },
      "outputs": [],
      "source": [
        "#Make the final DataFrame containing Dates, ClosePrices, and Forecast values\n",
        "actual = pd.DataFrame(dates, columns = [\"Date\"])\n",
        "actual[\"ClosePrice\"] = df[\"Adj Close\"]\n",
        "actual[\"Forecast\"] = np.nan\n",
        "actual.set_index(\"Date\", inplace = True)\n",
        "forecast = pd.DataFrame(dates_check, columns=[\"Date\"])\n",
        "forecast[\"Forecast\"] = predictions\n",
        "forecast[\"ClosePrice\"] = np.nan\n",
        "forecast.set_index(\"Date\", inplace = True)\n",
        "var = [actual, forecast]\n",
        "result = pd.concat(var)  #This is the final DataFrame"
      ]
    },
    {
      "cell_type": "code",
      "execution_count": 21,
      "id": "eae76977-3907-4fe8-afe9-a32d4d9408cb",
      "metadata": {
        "colab": {
          "base_uri": "https://localhost:8080/",
          "height": 671
        },
        "id": "eae76977-3907-4fe8-afe9-a32d4d9408cb",
        "outputId": "64ca4382-f39e-46d3-db36-b09b71f651ff"
      },
      "outputs": [
        {
          "output_type": "execute_result",
          "data": {
            "text/plain": [
              "Text(0, 0.5, 'Price')"
            ]
          },
          "metadata": {},
          "execution_count": 21
        },
        {
          "output_type": "display_data",
          "data": {
            "text/plain": [
              "<Figure size 1440x720 with 1 Axes>"
            ],
            "image/png": "[encoded data removed]"
          },
          "metadata": {}
        }
      ],
      "source": [
        "#Plot the final results\n",
        "result.plot(figsize=(20,10), linewidth=1.5)\n",
        "plt.legend(loc=2, prop={'size':20})\n",
        "plt.xlabel('Date')\n",
        "plt.ylabel('Price')"
      ]
    },
    {
      "cell_type": "markdown",
      "id": "b1ccc0eb-7344-4998-9a41-bef5acb03c95",
      "metadata": {
        "id": "b1ccc0eb-7344-4998-9a41-bef5acb03c95"
      },
      "source": [
        "## Deep Learning Prediction Using RNN"
      ]
    },
    {
      "cell_type": "code",
      "source": [
        "dataset_train = pd.read_csv('tesla.csv')\n",
        "dataset_train.head()"
      ],
      "metadata": {
        "colab": {
          "base_uri": "https://localhost:8080/",
          "height": 206
        },
        "id": "myOWu2e1-rsQ",
        "outputId": "d4b96361-d1d2-4119-d96c-a00af994f596"
      },
      "id": "myOWu2e1-rsQ",
      "execution_count": 22,
      "outputs": [
        {
          "output_type": "execute_result",
          "data": {
            "text/plain": [
              "        Date       Open   High        Low      Close    Volume  Adj Close\n",
              "0  6/29/2010  19.000000  25.00  17.540001  23.889999  18766300  23.889999\n",
              "1  6/30/2010  25.790001  30.42  23.299999  23.830000  17187100  23.830000\n",
              "2   7/1/2010  25.000000  25.92  20.270000  21.959999   8218800  21.959999\n",
              "3   7/2/2010  23.000000  23.10  18.709999  19.200001   5139800  19.200001\n",
              "4   7/6/2010  20.000000  20.00  15.830000  16.110001   6866900  16.110001"
            ],
            "text/html": [
              "\n",
              "  <div id=\"df-56558a42-2060-432b-b17a-766a9249e9c9\">\n",
              "    <div class=\"colab-df-container\">\n",
              "      <div>\n",
              "<style scoped>\n",
              "    .dataframe tbody tr th:only-of-type {\n",
              "        vertical-align: middle;\n",
              "    }\n",
              "\n",
              "    .dataframe tbody tr th {\n",
              "        vertical-align: top;\n",
              "    }\n",
              "\n",
              "    .dataframe thead th {\n",
              "        text-align: right;\n",
              "    }\n",
              "</style>\n",
              "<table border=\"1\" class=\"dataframe\">\n",
              "  <thead>\n",
              "    <tr style=\"text-align: right;\">\n",
              "      <th></th>\n",
              "      <th>Date</th>\n",
              "      <th>Open</th>\n",
              "      <th>High</th>\n",
              "      <th>Low</th>\n",
              "      <th>Close</th>\n",
              "      <th>Volume</th>\n",
              "      <th>Adj Close</th>\n",
              "    </tr>\n",
              "  </thead>\n",
              "  <tbody>\n",
              "    <tr>\n",
              "      <th>0</th>\n",
              "      <td>6/29/2010</td>\n",
              "      <td>19.000000</td>\n",
              "      <td>25.00</td>\n",
              "      <td>17.540001</td>\n",
              "      <td>23.889999</td>\n",
              "      <td>18766300</td>\n",
              "      <td>23.889999</td>\n",
              "    </tr>\n",
              "    <tr>\n",
              "      <th>1</th>\n",
              "      <td>6/30/2010</td>\n",
              "      <td>25.790001</td>\n",
              "      <td>30.42</td>\n",
              "      <td>23.299999</td>\n",
              "      <td>23.830000</td>\n",
              "      <td>17187100</td>\n",
              "      <td>23.830000</td>\n",
              "    </tr>\n",
              "    <tr>\n",
              "      <th>2</th>\n",
              "      <td>7/1/2010</td>\n",
              "      <td>25.000000</td>\n",
              "      <td>25.92</td>\n",
              "      <td>20.270000</td>\n",
              "      <td>21.959999</td>\n",
              "      <td>8218800</td>\n",
              "      <td>21.959999</td>\n",
              "    </tr>\n",
              "    <tr>\n",
              "      <th>3</th>\n",
              "      <td>7/2/2010</td>\n",
              "      <td>23.000000</td>\n",
              "      <td>23.10</td>\n",
              "      <td>18.709999</td>\n",
              "      <td>19.200001</td>\n",
              "      <td>5139800</td>\n",
              "      <td>19.200001</td>\n",
              "    </tr>\n",
              "    <tr>\n",
              "      <th>4</th>\n",
              "      <td>7/6/2010</td>\n",
              "      <td>20.000000</td>\n",
              "      <td>20.00</td>\n",
              "      <td>15.830000</td>\n",
              "      <td>16.110001</td>\n",
              "      <td>6866900</td>\n",
              "      <td>16.110001</td>\n",
              "    </tr>\n",
              "  </tbody>\n",
              "</table>\n",
              "</div>\n",
              "      <button class=\"colab-df-convert\" onclick=\"convertToInteractive('df-56558a42-2060-432b-b17a-766a9249e9c9')\"\n",
              "              title=\"Convert this dataframe to an interactive table.\"\n",
              "              style=\"display:none;\">\n",
              "        \n",
              "  <svg xmlns=\"http://www.w3.org/2000/svg\" height=\"24px\"viewBox=\"0 0 24 24\"\n",
              "       width=\"24px\">\n",
              "    <path d=\"M0 0h24v24H0V0z\" fill=\"none\"/>\n",
              "    <path d=\"M18.56 5.44l.94 2.06.94-2.06 2.06-.94-2.06-.94-.94-2.06-.94 2.06-2.06.94zm-11 1L8.5 8.5l.94-2.06 2.06-.94-2.06-.94L8.5 2.5l-.94 2.06-2.06.94zm10 10l.94 2.06.94-2.06 2.06-.94-2.06-.94-.94-2.06-.94 2.06-2.06.94z\"/><path d=\"M17.41 7.96l-1.37-1.37c-.4-.4-.92-.59-1.43-.59-.52 0-1.04.2-1.43.59L10.3 9.45l-7.72 7.72c-.78.78-.78 2.05 0 2.83L4 21.41c.39.39.9.59 1.41.59.51 0 1.02-.2 1.41-.59l7.78-7.78 2.81-2.81c.8-.78.8-2.07 0-2.86zM5.41 20L4 18.59l7.72-7.72 1.47 1.35L5.41 20z\"/>\n",
              "  </svg>\n",
              "      </button>\n",
              "      \n",
              "  <style>\n",
              "    .colab-df-container {\n",
              "      display:flex;\n",
              "      flex-wrap:wrap;\n",
              "      gap: 12px;\n",
              "    }\n",
              "\n",
              "    .colab-df-convert {\n",
              "      background-color: #E8F0FE;\n",
              "      border: none;\n",
              "      border-radius: 50%;\n",
              "      cursor: pointer;\n",
              "      display: none;\n",
              "      fill: #1967D2;\n",
              "      height: 32px;\n",
              "      padding: 0 0 0 0;\n",
              "      width: 32px;\n",
              "    }\n",
              "\n",
              "    .colab-df-convert:hover {\n",
              "      background-color: #E2EBFA;\n",
              "      box-shadow: 0px 1px 2px rgba(60, 64, 67, 0.3), 0px 1px 3px 1px rgba(60, 64, 67, 0.15);\n",
              "      fill: #174EA6;\n",
              "    }\n",
              "\n",
              "    [theme=dark] .colab-df-convert {\n",
              "      background-color: #3B4455;\n",
              "      fill: #D2E3FC;\n",
              "    }\n",
              "\n",
              "    [theme=dark] .colab-df-convert:hover {\n",
              "      background-color: #434B5C;\n",
              "      box-shadow: 0px 1px 3px 1px rgba(0, 0, 0, 0.15);\n",
              "      filter: drop-shadow(0px 1px 2px rgba(0, 0, 0, 0.3));\n",
              "      fill: #FFFFFF;\n",
              "    }\n",
              "  </style>\n",
              "\n",
              "      <script>\n",
              "        const buttonEl =\n",
              "          document.querySelector('#df-56558a42-2060-432b-b17a-766a9249e9c9 button.colab-df-convert');\n",
              "        buttonEl.style.display =\n",
              "          google.colab.kernel.accessAllowed ? 'block' : 'none';\n",
              "\n",
              "        async function convertToInteractive(key) {\n",
              "          const element = document.querySelector('#df-56558a42-2060-432b-b17a-766a9249e9c9');\n",
              "          const dataTable =\n",
              "            await google.colab.kernel.invokeFunction('convertToInteractive',\n",
              "                                                     [key], {});\n",
              "          if (!dataTable) return;\n",
              "\n",
              "          const docLinkHtml = 'Like what you see? Visit the ' +\n",
              "            '<a target=\"_blank\" href=https://colab.research.google.com/notebooks/data_table.ipynb>data table notebook</a>'\n",
              "            + ' to learn more about interactive tables.';\n",
              "          element.innerHTML = '';\n",
              "          dataTable['output_type'] = 'display_data';\n",
              "          await google.colab.output.renderOutput(dataTable, element);\n",
              "          const docLink = document.createElement('div');\n",
              "          docLink.innerHTML = docLinkHtml;\n",
              "          element.appendChild(docLink);\n",
              "        }\n",
              "      </script>\n",
              "    </div>\n",
              "  </div>\n",
              "  "
            ]
          },
          "metadata": {},
          "execution_count": 22
        }
      ]
    },
    {
      "cell_type": "code",
      "source": [
        "dataset_train.tail()"
      ],
      "metadata": {
        "colab": {
          "base_uri": "https://localhost:8080/",
          "height": 206
        },
        "id": "dJf6PMFNT4It",
        "outputId": "42fc1404-640a-458b-a91b-fe6a0538aaf6"
      },
      "id": "dJf6PMFNT4It",
      "execution_count": 23,
      "outputs": [
        {
          "output_type": "execute_result",
          "data": {
            "text/plain": [
              "           Date        Open        High         Low       Close   Volume  \\\n",
              "1687  3/13/2017  244.820007  246.850006  242.779999  246.169998  3010700   \n",
              "1688  3/14/2017  246.110001  258.119995  246.020004  258.000000  7575500   \n",
              "1689  3/15/2017  257.000000  261.000000  254.270004  255.729996  4816600   \n",
              "1690  3/16/2017  262.399994  265.750000  259.059998  262.049988  7100400   \n",
              "1691  3/17/2017  264.000000  265.329987  261.200012  261.500000  6475900   \n",
              "\n",
              "       Adj Close  \n",
              "1687  246.169998  \n",
              "1688  258.000000  \n",
              "1689  255.729996  \n",
              "1690  262.049988  \n",
              "1691  261.500000  "
            ],
            "text/html": [
              "\n",
              "  <div id=\"df-3851474f-a270-46bb-a2a3-9b5d29c2fb31\">\n",
              "    <div class=\"colab-df-container\">\n",
              "      <div>\n",
              "<style scoped>\n",
              "    .dataframe tbody tr th:only-of-type {\n",
              "        vertical-align: middle;\n",
              "    }\n",
              "\n",
              "    .dataframe tbody tr th {\n",
              "        vertical-align: top;\n",
              "    }\n",
              "\n",
              "    .dataframe thead th {\n",
              "        text-align: right;\n",
              "    }\n",
              "</style>\n",
              "<table border=\"1\" class=\"dataframe\">\n",
              "  <thead>\n",
              "    <tr style=\"text-align: right;\">\n",
              "      <th></th>\n",
              "      <th>Date</th>\n",
              "      <th>Open</th>\n",
              "      <th>High</th>\n",
              "      <th>Low</th>\n",
              "      <th>Close</th>\n",
              "      <th>Volume</th>\n",
              "      <th>Adj Close</th>\n",
              "    </tr>\n",
              "  </thead>\n",
              "  <tbody>\n",
              "    <tr>\n",
              "      <th>1687</th>\n",
              "      <td>3/13/2017</td>\n",
              "      <td>244.820007</td>\n",
              "      <td>246.850006</td>\n",
              "      <td>242.779999</td>\n",
              "      <td>246.169998</td>\n",
              "      <td>3010700</td>\n",
              "      <td>246.169998</td>\n",
              "    </tr>\n",
              "    <tr>\n",
              "      <th>1688</th>\n",
              "      <td>3/14/2017</td>\n",
              "      <td>246.110001</td>\n",
              "      <td>258.119995</td>\n",
              "      <td>246.020004</td>\n",
              "      <td>258.000000</td>\n",
              "      <td>7575500</td>\n",
              "      <td>258.000000</td>\n",
              "    </tr>\n",
              "    <tr>\n",
              "      <th>1689</th>\n",
              "      <td>3/15/2017</td>\n",
              "      <td>257.000000</td>\n",
              "      <td>261.000000</td>\n",
              "      <td>254.270004</td>\n",
              "      <td>255.729996</td>\n",
              "      <td>4816600</td>\n",
              "      <td>255.729996</td>\n",
              "    </tr>\n",
              "    <tr>\n",
              "      <th>1690</th>\n",
              "      <td>3/16/2017</td>\n",
              "      <td>262.399994</td>\n",
              "      <td>265.750000</td>\n",
              "      <td>259.059998</td>\n",
              "      <td>262.049988</td>\n",
              "      <td>7100400</td>\n",
              "      <td>262.049988</td>\n",
              "    </tr>\n",
              "    <tr>\n",
              "      <th>1691</th>\n",
              "      <td>3/17/2017</td>\n",
              "      <td>264.000000</td>\n",
              "      <td>265.329987</td>\n",
              "      <td>261.200012</td>\n",
              "      <td>261.500000</td>\n",
              "      <td>6475900</td>\n",
              "      <td>261.500000</td>\n",
              "    </tr>\n",
              "  </tbody>\n",
              "</table>\n",
              "</div>\n",
              "      <button class=\"colab-df-convert\" onclick=\"convertToInteractive('df-3851474f-a270-46bb-a2a3-9b5d29c2fb31')\"\n",
              "              title=\"Convert this dataframe to an interactive table.\"\n",
              "              style=\"display:none;\">\n",
              "        \n",
              "  <svg xmlns=\"http://www.w3.org/2000/svg\" height=\"24px\"viewBox=\"0 0 24 24\"\n",
              "       width=\"24px\">\n",
              "    <path d=\"M0 0h24v24H0V0z\" fill=\"none\"/>\n",
              "    <path d=\"M18.56 5.44l.94 2.06.94-2.06 2.06-.94-2.06-.94-.94-2.06-.94 2.06-2.06.94zm-11 1L8.5 8.5l.94-2.06 2.06-.94-2.06-.94L8.5 2.5l-.94 2.06-2.06.94zm10 10l.94 2.06.94-2.06 2.06-.94-2.06-.94-.94-2.06-.94 2.06-2.06.94z\"/><path d=\"M17.41 7.96l-1.37-1.37c-.4-.4-.92-.59-1.43-.59-.52 0-1.04.2-1.43.59L10.3 9.45l-7.72 7.72c-.78.78-.78 2.05 0 2.83L4 21.41c.39.39.9.59 1.41.59.51 0 1.02-.2 1.41-.59l7.78-7.78 2.81-2.81c.8-.78.8-2.07 0-2.86zM5.41 20L4 18.59l7.72-7.72 1.47 1.35L5.41 20z\"/>\n",
              "  </svg>\n",
              "      </button>\n",
              "      \n",
              "  <style>\n",
              "    .colab-df-container {\n",
              "      display:flex;\n",
              "      flex-wrap:wrap;\n",
              "      gap: 12px;\n",
              "    }\n",
              "\n",
              "    .colab-df-convert {\n",
              "      background-color: #E8F0FE;\n",
              "      border: none;\n",
              "      border-radius: 50%;\n",
              "      cursor: pointer;\n",
              "      display: none;\n",
              "      fill: #1967D2;\n",
              "      height: 32px;\n",
              "      padding: 0 0 0 0;\n",
              "      width: 32px;\n",
              "    }\n",
              "\n",
              "    .colab-df-convert:hover {\n",
              "      background-color: #E2EBFA;\n",
              "      box-shadow: 0px 1px 2px rgba(60, 64, 67, 0.3), 0px 1px 3px 1px rgba(60, 64, 67, 0.15);\n",
              "      fill: #174EA6;\n",
              "    }\n",
              "\n",
              "    [theme=dark] .colab-df-convert {\n",
              "      background-color: #3B4455;\n",
              "      fill: #D2E3FC;\n",
              "    }\n",
              "\n",
              "    [theme=dark] .colab-df-convert:hover {\n",
              "      background-color: #434B5C;\n",
              "      box-shadow: 0px 1px 3px 1px rgba(0, 0, 0, 0.15);\n",
              "      filter: drop-shadow(0px 1px 2px rgba(0, 0, 0, 0.3));\n",
              "      fill: #FFFFFF;\n",
              "    }\n",
              "  </style>\n",
              "\n",
              "      <script>\n",
              "        const buttonEl =\n",
              "          document.querySelector('#df-3851474f-a270-46bb-a2a3-9b5d29c2fb31 button.colab-df-convert');\n",
              "        buttonEl.style.display =\n",
              "          google.colab.kernel.accessAllowed ? 'block' : 'none';\n",
              "\n",
              "        async function convertToInteractive(key) {\n",
              "          const element = document.querySelector('#df-3851474f-a270-46bb-a2a3-9b5d29c2fb31');\n",
              "          const dataTable =\n",
              "            await google.colab.kernel.invokeFunction('convertToInteractive',\n",
              "                                                     [key], {});\n",
              "          if (!dataTable) return;\n",
              "\n",
              "          const docLinkHtml = 'Like what you see? Visit the ' +\n",
              "            '<a target=\"_blank\" href=https://colab.research.google.com/notebooks/data_table.ipynb>data table notebook</a>'\n",
              "            + ' to learn more about interactive tables.';\n",
              "          element.innerHTML = '';\n",
              "          dataTable['output_type'] = 'display_data';\n",
              "          await google.colab.output.renderOutput(dataTable, element);\n",
              "          const docLink = document.createElement('div');\n",
              "          docLink.innerHTML = docLinkHtml;\n",
              "          element.appendChild(docLink);\n",
              "        }\n",
              "      </script>\n",
              "    </div>\n",
              "  </div>\n",
              "  "
            ]
          },
          "metadata": {},
          "execution_count": 23
        }
      ]
    },
    {
      "cell_type": "code",
      "source": [
        "dataset_train.info()"
      ],
      "metadata": {
        "colab": {
          "base_uri": "https://localhost:8080/"
        },
        "id": "FZAfp-YBZv5c",
        "outputId": "839e1d74-80ad-483e-fdd0-f40dd31df42d"
      },
      "id": "FZAfp-YBZv5c",
      "execution_count": 24,
      "outputs": [
        {
          "output_type": "stream",
          "name": "stdout",
          "text": [
            "<class 'pandas.core.frame.DataFrame'>\n",
            "RangeIndex: 1692 entries, 0 to 1691\n",
            "Data columns (total 7 columns):\n",
            " #   Column     Non-Null Count  Dtype  \n",
            "---  ------     --------------  -----  \n",
            " 0   Date       1692 non-null   object \n",
            " 1   Open       1692 non-null   float64\n",
            " 2   High       1692 non-null   float64\n",
            " 3   Low        1692 non-null   float64\n",
            " 4   Close      1692 non-null   float64\n",
            " 5   Volume     1692 non-null   int64  \n",
            " 6   Adj Close  1692 non-null   float64\n",
            "dtypes: float64(5), int64(1), object(1)\n",
            "memory usage: 92.7+ KB\n"
          ]
        }
      ]
    },
    {
      "cell_type": "code",
      "source": [
        "dataset_train['Date'] = pd.to_datetime(dataset_train['Date'])\n",
        "dataset_train.set_index('Date',inplace=True)"
      ],
      "metadata": {
        "id": "lmqXgOzqZ3AT"
      },
      "id": "lmqXgOzqZ3AT",
      "execution_count": 25,
      "outputs": []
    },
    {
      "cell_type": "code",
      "source": [
        "dataset_train.shape"
      ],
      "metadata": {
        "colab": {
          "base_uri": "https://localhost:8080/"
        },
        "id": "-V7gw0tJZ3D4",
        "outputId": "e871bc3d-d9ee-4fee-e421-eefe4a2b86c1"
      },
      "id": "-V7gw0tJZ3D4",
      "execution_count": 26,
      "outputs": [
        {
          "output_type": "execute_result",
          "data": {
            "text/plain": [
              "(1692, 6)"
            ]
          },
          "metadata": {},
          "execution_count": 26
        }
      ]
    },
    {
      "cell_type": "code",
      "source": [
        "#plotting the data\n",
        "plt.figure(figsize=(16,8))\n",
        "plt.title('Close Price History')\n",
        "plt.plot(dataset_train['Close'], color='red')\n",
        "plt.xlabel('Date', fontsize=18)\n",
        "plt.ylabel('Close Price USD', fontsize = 18)\n",
        "plt.show()"
      ],
      "metadata": {
        "colab": {
          "base_uri": "https://localhost:8080/",
          "height": 558
        },
        "id": "xsfgF5qSaBmA",
        "outputId": "e2b0505e-c570-473b-a970-6b67afa2f748"
      },
      "id": "xsfgF5qSaBmA",
      "execution_count": 27,
      "outputs": [
        {
          "output_type": "display_data",
          "data": {
            "text/plain": [
              "<Figure size 1152x576 with 1 Axes>"
            ],
            "image/png": "[encoded data removed]"
          },
          "metadata": {}
        }
      ]
    },
    {
      "cell_type": "code",
      "source": [
        "# create a new data frame with only 'Close column'\n",
        "import math\n",
        "data = dataset_train.filter(['Close'])\n",
        "dataset = data.values #convert the data frame to a numpy array\n",
        "training_data_len = math.ceil(len(dataset)*.8)  # number of rows to train the model on\n",
        "training_data_len"
      ],
      "metadata": {
        "colab": {
          "base_uri": "https://localhost:8080/"
        },
        "id": "r9oz25ygaBp4",
        "outputId": "45740fa1-68cc-4547-ffb8-709ca552efeb"
      },
      "id": "r9oz25ygaBp4",
      "execution_count": 28,
      "outputs": [
        {
          "output_type": "execute_result",
          "data": {
            "text/plain": [
              "1354"
            ]
          },
          "metadata": {},
          "execution_count": 28
        }
      ]
    },
    {
      "cell_type": "code",
      "source": [
        "#scale the data\n",
        "from sklearn.preprocessing import MinMaxScaler\n",
        "scaler = MinMaxScaler(feature_range=(0,1))\n",
        "scaled_data = scaler.fit_transform(dataset)\n",
        "scaled_data"
      ],
      "metadata": {
        "colab": {
          "base_uri": "https://localhost:8080/"
        },
        "id": "UplAjCu7aBvH",
        "outputId": "9c608fce-d594-4f25-b8f6-bceb97f7f2f6"
      },
      "id": "UplAjCu7aBvH",
      "execution_count": 29,
      "outputs": [
        {
          "output_type": "execute_result",
          "data": {
            "text/plain": [
              "array([[0.02993635],\n",
              "       [0.02971433],\n",
              "       [0.02279455],\n",
              "       ...,\n",
              "       [0.88784039],\n",
              "       [0.91122698],\n",
              "       [0.9091918 ]])"
            ]
          },
          "metadata": {},
          "execution_count": 29
        }
      ]
    },
    {
      "cell_type": "code",
      "source": [
        "#create the training dataset\n",
        "#create the scaled training dataset\n",
        "\n",
        "train_data = scaled_data[0:training_data_len, :]\n",
        "#Split the data into x_train, y_train datasets\n",
        "x_train = []\n",
        "y_train = []\n",
        "for i in range(60,len(train_data)):\n",
        "    x_train.append(train_data[i-60:i, 0])\n",
        "    y_train.append(train_data[i,0])\n",
        "    if i<=60:\n",
        "        print(x_train)\n",
        "        print(y_train)\n",
        "        print()"
      ],
      "metadata": {
        "colab": {
          "base_uri": "https://localhost:8080/"
        },
        "id": "gcsqQqKwaZBg",
        "outputId": "5d6d1e84-3f5a-45e6-e255-b6fe7fa7f24c"
      },
      "id": "gcsqQqKwaZBg",
      "execution_count": 30,
      "outputs": [
        {
          "output_type": "stream",
          "name": "stdout",
          "text": [
            "[array([0.02993635, 0.02971433, 0.02279455, 0.01258141, 0.00114713,\n",
            "       0.        , 0.00614268, 0.00592066, 0.00462551, 0.00865897,\n",
            "       0.01494967, 0.01513469, 0.01791   , 0.02260953, 0.01665186,\n",
            "       0.01635583, 0.01924215, 0.02031528, 0.01905714, 0.01757696,\n",
            "       0.01820603, 0.01683689, 0.01531972, 0.01894612, 0.02275755,\n",
            "       0.02020426, 0.01720693, 0.01402457, 0.01406157, 0.01195234,\n",
            "       0.00777087, 0.00666075, 0.00932504, 0.01102724, 0.01239639,\n",
            "       0.01099023, 0.01106424, 0.01221137, 0.01602279, 0.01258141,\n",
            "       0.0151717 , 0.01461664, 0.01443162, 0.01506069, 0.01361752,\n",
            "       0.01720693, 0.01946418, 0.01942717, 0.01753997, 0.01887211,\n",
            "       0.01816903, 0.01617081, 0.01820603, 0.01968621, 0.02286856,\n",
            "       0.01902013, 0.01639284, 0.01946418, 0.01839106, 0.01506069])]\n",
            "[0.013913554154743983]\n",
            "\n"
          ]
        }
      ]
    },
    {
      "cell_type": "code",
      "source": [
        "#convert the x_train and y_train  to numpy array\n",
        "x_train,y_train = np.array(x_train), np.array(y_train)"
      ],
      "metadata": {
        "id": "MdwRt_8xaZEh"
      },
      "id": "MdwRt_8xaZEh",
      "execution_count": 31,
      "outputs": []
    },
    {
      "cell_type": "code",
      "source": [
        "#reshape the data\n",
        "x_train = np.reshape(x_train,(x_train.shape[0],x_train.shape[1],1))\n",
        "x_train.shape"
      ],
      "metadata": {
        "colab": {
          "base_uri": "https://localhost:8080/"
        },
        "id": "fptLTLhtaZHZ",
        "outputId": "490fb3fe-5d6b-41df-f092-6b37e7fcd108"
      },
      "id": "fptLTLhtaZHZ",
      "execution_count": 32,
      "outputs": [
        {
          "output_type": "execute_result",
          "data": {
            "text/plain": [
              "(1294, 60, 1)"
            ]
          },
          "metadata": {},
          "execution_count": 32
        }
      ]
    },
    {
      "cell_type": "code",
      "source": [
        "# Importing Libraries\n",
        "from keras.models import Sequential\n",
        "from keras.layers import Dense\n",
        "from keras.layers import LSTM\n",
        "from keras.layers import Dropout # This is essential to add some dropout regularization"
      ],
      "metadata": {
        "id": "EdcRbwNRbRB7"
      },
      "id": "EdcRbwNRbRB7",
      "execution_count": 38,
      "outputs": []
    },
    {
      "cell_type": "code",
      "source": [
        "#Build the LSTM model\n",
        "regressor = Sequential()\n",
        "regressor.add(LSTM(units = 50, return_sequences = True, input_shape = (x_train.shape[1], 1)))\n",
        "regressor.add(Dropout(0.2))\n",
        "regressor.add(LSTM(units = 50, return_sequences = True))\n",
        "regressor.add(Dropout(0.2))\n",
        "regressor.add(LSTM(units = 50, return_sequences = True))\n",
        "regressor.add(Dropout(0.2))\n",
        "regressor.add(LSTM(units = 50))\n",
        "regressor.add(Dropout(0.2))\n",
        "regressor.add(Dense(units = 1))"
      ],
      "metadata": {
        "id": "0Bulk0B9aZLB"
      },
      "id": "0Bulk0B9aZLB",
      "execution_count": 40,
      "outputs": []
    },
    {
      "cell_type": "code",
      "source": [
        "#Complie the model\n",
        "regressor.compile(optimizer='adam', loss='mean_squared_error')"
      ],
      "metadata": {
        "id": "zBFegdGoaZMT"
      },
      "id": "zBFegdGoaZMT",
      "execution_count": 41,
      "outputs": []
    },
    {
      "cell_type": "code",
      "source": [
        "#Train the model\n",
        "regressor.fit(x_train, y_train, epochs = 50, batch_size = 32)"
      ],
      "metadata": {
        "colab": {
          "base_uri": "https://localhost:8080/"
        },
        "id": "yScrjfd6Z3HL",
        "outputId": "34cbfff6-7c98-491b-c85f-b33453f03b55"
      },
      "id": "yScrjfd6Z3HL",
      "execution_count": 42,
      "outputs": [
        {
          "output_type": "stream",
          "name": "stdout",
          "text": [
            "Epoch 1/50\n",
            "41/41 [==============================] - 17s 150ms/step - loss: 0.0326\n",
            "Epoch 2/50\n",
            "41/41 [==============================] - 6s 135ms/step - loss: 0.0065\n",
            "Epoch 3/50\n",
            "41/41 [==============================] - 5s 134ms/step - loss: 0.0053\n",
            "Epoch 4/50\n",
            "41/41 [==============================] - 6s 159ms/step - loss: 0.0051\n",
            "Epoch 5/50\n",
            "41/41 [==============================] - 6s 136ms/step - loss: 0.0047\n",
            "Epoch 6/50\n",
            "41/41 [==============================] - 5s 133ms/step - loss: 0.0047\n",
            "Epoch 7/50\n",
            "41/41 [==============================] - 5s 134ms/step - loss: 0.0041\n",
            "Epoch 8/50\n",
            "41/41 [==============================] - 5s 133ms/step - loss: 0.0044\n",
            "Epoch 9/50\n",
            "41/41 [==============================] - 5s 133ms/step - loss: 0.0038\n",
            "Epoch 10/50\n",
            "41/41 [==============================] - 5s 133ms/step - loss: 0.0040\n",
            "Epoch 11/50\n",
            "41/41 [==============================] - 7s 160ms/step - loss: 0.0041\n",
            "Epoch 12/50\n",
            "41/41 [==============================] - 5s 133ms/step - loss: 0.0038\n",
            "Epoch 13/50\n",
            "41/41 [==============================] - 5s 131ms/step - loss: 0.0038\n",
            "Epoch 14/50\n",
            "41/41 [==============================] - 5s 132ms/step - loss: 0.0033\n",
            "Epoch 15/50\n",
            "41/41 [==============================] - 5s 131ms/step - loss: 0.0035\n",
            "Epoch 16/50\n",
            "41/41 [==============================] - 5s 133ms/step - loss: 0.0031\n",
            "Epoch 17/50\n",
            "41/41 [==============================] - 6s 135ms/step - loss: 0.0036\n",
            "Epoch 18/50\n",
            "41/41 [==============================] - 6s 136ms/step - loss: 0.0030\n",
            "Epoch 19/50\n",
            "41/41 [==============================] - 5s 131ms/step - loss: 0.0030\n",
            "Epoch 20/50\n",
            "41/41 [==============================] - 5s 133ms/step - loss: 0.0039\n",
            "Epoch 21/50\n",
            "41/41 [==============================] - 6s 134ms/step - loss: 0.0039\n",
            "Epoch 22/50\n",
            "41/41 [==============================] - 5s 133ms/step - loss: 0.0035\n",
            "Epoch 23/50\n",
            "41/41 [==============================] - 7s 159ms/step - loss: 0.0030\n",
            "Epoch 24/50\n",
            "41/41 [==============================] - 5s 133ms/step - loss: 0.0033\n",
            "Epoch 25/50\n",
            "41/41 [==============================] - 6s 134ms/step - loss: 0.0030\n",
            "Epoch 26/50\n",
            "41/41 [==============================] - 5s 132ms/step - loss: 0.0029\n",
            "Epoch 27/50\n",
            "41/41 [==============================] - 5s 133ms/step - loss: 0.0026\n",
            "Epoch 28/50\n",
            "41/41 [==============================] - 5s 133ms/step - loss: 0.0029\n",
            "Epoch 29/50\n",
            "41/41 [==============================] - 5s 133ms/step - loss: 0.0024\n",
            "Epoch 30/50\n",
            "41/41 [==============================] - 7s 170ms/step - loss: 0.0027\n",
            "Epoch 31/50\n",
            "41/41 [==============================] - 6s 135ms/step - loss: 0.0025\n",
            "Epoch 32/50\n",
            "41/41 [==============================] - 5s 130ms/step - loss: 0.0027\n",
            "Epoch 33/50\n",
            "41/41 [==============================] - 5s 132ms/step - loss: 0.0025\n",
            "Epoch 34/50\n",
            "41/41 [==============================] - 5s 133ms/step - loss: 0.0027\n",
            "Epoch 35/50\n",
            "41/41 [==============================] - 5s 130ms/step - loss: 0.0029\n",
            "Epoch 36/50\n",
            "41/41 [==============================] - 5s 132ms/step - loss: 0.0025\n",
            "Epoch 37/50\n",
            "41/41 [==============================] - 5s 131ms/step - loss: 0.0023\n",
            "Epoch 38/50\n",
            "41/41 [==============================] - 5s 132ms/step - loss: 0.0024\n",
            "Epoch 39/50\n",
            "41/41 [==============================] - 6s 149ms/step - loss: 0.0021\n",
            "Epoch 40/50\n",
            "41/41 [==============================] - 5s 133ms/step - loss: 0.0027\n",
            "Epoch 41/50\n",
            "41/41 [==============================] - 6s 134ms/step - loss: 0.0025\n",
            "Epoch 42/50\n",
            "41/41 [==============================] - 6s 159ms/step - loss: 0.0025\n",
            "Epoch 43/50\n",
            "41/41 [==============================] - 5s 132ms/step - loss: 0.0023\n",
            "Epoch 44/50\n",
            "41/41 [==============================] - 6s 150ms/step - loss: 0.0024\n",
            "Epoch 45/50\n",
            "41/41 [==============================] - 5s 133ms/step - loss: 0.0026\n",
            "Epoch 46/50\n",
            "41/41 [==============================] - 6s 136ms/step - loss: 0.0025\n",
            "Epoch 47/50\n",
            "41/41 [==============================] - 6s 135ms/step - loss: 0.0024\n",
            "Epoch 48/50\n",
            "41/41 [==============================] - 5s 133ms/step - loss: 0.0022\n",
            "Epoch 49/50\n",
            "41/41 [==============================] - 6s 135ms/step - loss: 0.0021\n",
            "Epoch 50/50\n",
            "41/41 [==============================] - 5s 133ms/step - loss: 0.0021\n"
          ]
        },
        {
          "output_type": "execute_result",
          "data": {
            "text/plain": [
              "<keras.callbacks.History at 0x7f58004c9d90>"
            ]
          },
          "metadata": {},
          "execution_count": 42
        }
      ]
    },
    {
      "cell_type": "code",
      "source": [
        "#create the testing data sets\n",
        "#create a new array containing scale values from index 1543 to 2003\n",
        "test_data= scaled_data[training_data_len-60:, :]\n",
        "#create the data sets x_test and y_test\n",
        "x_test = []\n",
        "y_test = dataset[training_data_len:,:]\n",
        "for i in range(60,len(test_data)):\n",
        "    x_test.append(test_data[i-60:i,0])"
      ],
      "metadata": {
        "id": "auvDEQllarFV"
      },
      "id": "auvDEQllarFV",
      "execution_count": 43,
      "outputs": []
    },
    {
      "cell_type": "code",
      "source": [
        "#convert the data to a numpy array\n",
        "x_test = np.array(x_test)"
      ],
      "metadata": {
        "id": "60ND3gpNarH8"
      },
      "id": "60ND3gpNarH8",
      "execution_count": 44,
      "outputs": []
    },
    {
      "cell_type": "code",
      "source": [
        "#reshape the data\n",
        "x_test = np.reshape(x_test, (x_test.shape[0], x_test.shape[1],1))\n",
        "x_test.shape"
      ],
      "metadata": {
        "colab": {
          "base_uri": "https://localhost:8080/"
        },
        "id": "-9FxVphqarKm",
        "outputId": "ae639f24-80cc-4c60-fa9b-097f4548c49c"
      },
      "id": "-9FxVphqarKm",
      "execution_count": 45,
      "outputs": [
        {
          "output_type": "execute_result",
          "data": {
            "text/plain": [
              "(338, 60, 1)"
            ]
          },
          "metadata": {},
          "execution_count": 45
        }
      ]
    },
    {
      "cell_type": "code",
      "source": [
        "#predicting the data\n",
        "predictions = model.predict(x_test)\n",
        "predictions = scaler.inverse_transform(predictions)"
      ],
      "metadata": {
        "id": "rGUz0hEIarNj"
      },
      "id": "rGUz0hEIarNj",
      "execution_count": 46,
      "outputs": []
    },
    {
      "cell_type": "code",
      "source": [
        "#get the root mean square error(RMSE)\n",
        "rmse = np.sqrt(np.mean(predictions - y_test)**2)\n",
        "rmse"
      ],
      "metadata": {
        "colab": {
          "base_uri": "https://localhost:8080/"
        },
        "id": "lCnS37z5a4DH",
        "outputId": "961fb92b-70d9-42e9-f402-c06b394986cd"
      },
      "id": "lCnS37z5a4DH",
      "execution_count": 47,
      "outputs": [
        {
          "output_type": "execute_result",
          "data": {
            "text/plain": [
              "4.241089863555729"
            ]
          },
          "metadata": {},
          "execution_count": 47
        }
      ]
    },
    {
      "cell_type": "code",
      "source": [
        "#plot the data\n",
        "train = data[:training_data_len]\n",
        "valid = data[training_data_len:]\n",
        "valid['Predictions'] = predictions\n",
        "#Visialization the data\n",
        "plt.figure(figsize=(16,8))\n",
        "plt.title('Model')\n",
        "plt.xlabel('Date', fontsize=18)\n",
        "plt.ylabel('Close Price' ,fontsize=18)\n",
        "plt.plot(train['Close'],linewidth=3.5)\n",
        "plt.plot(valid[['Close','Predictions']],linewidth=3.5)\n",
        "plt.legend(['Train','Valid','Predictions'], loc='upper_center')"
      ],
      "metadata": {
        "colab": {
          "base_uri": "https://localhost:8080/",
          "height": 923
        },
        "id": "K4UNAiHda4Gc",
        "outputId": "c6b220b6-f9d3-4646-ff21-a82db0e8f637"
      },
      "id": "K4UNAiHda4Gc",
      "execution_count": 48,
      "outputs": [
        {
          "output_type": "stream",
          "name": "stderr",
          "text": [
            "/usr/local/lib/python3.7/dist-packages/ipykernel_launcher.py:4: SettingWithCopyWarning: \n",
            "A value is trying to be set on a copy of a slice from a DataFrame.\n",
            "Try using .loc[row_indexer,col_indexer] = value instead\n",
            "\n",
            "See the caveats in the documentation: https://pandas.pydata.org/pandas-docs/stable/user_guide/indexing.html#returning-a-view-versus-a-copy\n",
            "  after removing the cwd from sys.path.\n",
            "/usr/local/lib/python3.7/dist-packages/ipykernel_launcher.py:12: MatplotlibDeprecationWarning: Unrecognized location 'upper_center'. Falling back on 'best'; valid locations are\n",
            "\tbest\n",
            "\tupper right\n",
            "\tupper left\n",
            "\tlower left\n",
            "\tlower right\n",
            "\tright\n",
            "\tcenter left\n",
            "\tcenter right\n",
            "\tlower center\n",
            "\tupper center\n",
            "\tcenter\n",
            "This will raise an exception in 3.3.\n",
            "  if sys.path[0] == '':\n"
          ]
        },
        {
          "output_type": "execute_result",
          "data": {
            "text/plain": [
              "<matplotlib.legend.Legend at 0x7f580365a9d0>"
            ]
          },
          "metadata": {},
          "execution_count": 48
        },
        {
          "output_type": "display_data",
          "data": {
            "text/plain": [
              "<Figure size 1152x576 with 1 Axes>"
            ],
            "image/png": "[encoded data removed]"
          },
          "metadata": {}
        }
      ]
    },
    {
      "cell_type": "code",
      "source": [
        "#show the valid and predicted price\n",
        "valid"
      ],
      "metadata": {
        "colab": {
          "base_uri": "https://localhost:8080/",
          "height": 455
        },
        "id": "Yk42yRMQa8KA",
        "outputId": "d4667329-8011-45f7-e72e-a01babff031c"
      },
      "id": "Yk42yRMQa8KA",
      "execution_count": 49,
      "outputs": [
        {
          "output_type": "execute_result",
          "data": {
            "text/plain": [
              "                 Close  Predictions\n",
              "Date                               \n",
              "2015-11-12  212.940002   214.463638\n",
              "2015-11-13  207.190002   209.973068\n",
              "2015-11-16  214.309998   204.910034\n",
              "2015-11-17  214.000000   210.361267\n",
              "2015-11-18  221.070007   210.825836\n",
              "...                ...          ...\n",
              "2017-03-13  246.169998   238.520340\n",
              "2017-03-14  258.000000   240.631882\n",
              "2017-03-15  255.729996   251.069702\n",
              "2017-03-16  262.049988   249.372742\n",
              "2017-03-17  261.500000   254.482803\n",
              "\n",
              "[338 rows x 2 columns]"
            ],
            "text/html": [
              "\n",
              "  <div id=\"df-5d32790a-84d7-4bc9-aca6-30d87e544e42\">\n",
              "    <div class=\"colab-df-container\">\n",
              "      <div>\n",
              "<style scoped>\n",
              "    .dataframe tbody tr th:only-of-type {\n",
              "        vertical-align: middle;\n",
              "    }\n",
              "\n",
              "    .dataframe tbody tr th {\n",
              "        vertical-align: top;\n",
              "    }\n",
              "\n",
              "    .dataframe thead th {\n",
              "        text-align: right;\n",
              "    }\n",
              "</style>\n",
              "<table border=\"1\" class=\"dataframe\">\n",
              "  <thead>\n",
              "    <tr style=\"text-align: right;\">\n",
              "      <th></th>\n",
              "      <th>Close</th>\n",
              "      <th>Predictions</th>\n",
              "    </tr>\n",
              "    <tr>\n",
              "      <th>Date</th>\n",
              "      <th></th>\n",
              "      <th></th>\n",
              "    </tr>\n",
              "  </thead>\n",
              "  <tbody>\n",
              "    <tr>\n",
              "      <th>2015-11-12</th>\n",
              "      <td>212.940002</td>\n",
              "      <td>214.463638</td>\n",
              "    </tr>\n",
              "    <tr>\n",
              "      <th>2015-11-13</th>\n",
              "      <td>207.190002</td>\n",
              "      <td>209.973068</td>\n",
              "    </tr>\n",
              "    <tr>\n",
              "      <th>2015-11-16</th>\n",
              "      <td>214.309998</td>\n",
              "      <td>204.910034</td>\n",
              "    </tr>\n",
              "    <tr>\n",
              "      <th>2015-11-17</th>\n",
              "      <td>214.000000</td>\n",
              "      <td>210.361267</td>\n",
              "    </tr>\n",
              "    <tr>\n",
              "      <th>2015-11-18</th>\n",
              "      <td>221.070007</td>\n",
              "      <td>210.825836</td>\n",
              "    </tr>\n",
              "    <tr>\n",
              "      <th>...</th>\n",
              "      <td>...</td>\n",
              "      <td>...</td>\n",
              "    </tr>\n",
              "    <tr>\n",
              "      <th>2017-03-13</th>\n",
              "      <td>246.169998</td>\n",
              "      <td>238.520340</td>\n",
              "    </tr>\n",
              "    <tr>\n",
              "      <th>2017-03-14</th>\n",
              "      <td>258.000000</td>\n",
              "      <td>240.631882</td>\n",
              "    </tr>\n",
              "    <tr>\n",
              "      <th>2017-03-15</th>\n",
              "      <td>255.729996</td>\n",
              "      <td>251.069702</td>\n",
              "    </tr>\n",
              "    <tr>\n",
              "      <th>2017-03-16</th>\n",
              "      <td>262.049988</td>\n",
              "      <td>249.372742</td>\n",
              "    </tr>\n",
              "    <tr>\n",
              "      <th>2017-03-17</th>\n",
              "      <td>261.500000</td>\n",
              "      <td>254.482803</td>\n",
              "    </tr>\n",
              "  </tbody>\n",
              "</table>\n",
              "<p>338 rows × 2 columns</p>\n",
              "</div>\n",
              "      <button class=\"colab-df-convert\" onclick=\"convertToInteractive('df-5d32790a-84d7-4bc9-aca6-30d87e544e42')\"\n",
              "              title=\"Convert this dataframe to an interactive table.\"\n",
              "              style=\"display:none;\">\n",
              "        \n",
              "  <svg xmlns=\"http://www.w3.org/2000/svg\" height=\"24px\"viewBox=\"0 0 24 24\"\n",
              "       width=\"24px\">\n",
              "    <path d=\"M0 0h24v24H0V0z\" fill=\"none\"/>\n",
              "    <path d=\"M18.56 5.44l.94 2.06.94-2.06 2.06-.94-2.06-.94-.94-2.06-.94 2.06-2.06.94zm-11 1L8.5 8.5l.94-2.06 2.06-.94-2.06-.94L8.5 2.5l-.94 2.06-2.06.94zm10 10l.94 2.06.94-2.06 2.06-.94-2.06-.94-.94-2.06-.94 2.06-2.06.94z\"/><path d=\"M17.41 7.96l-1.37-1.37c-.4-.4-.92-.59-1.43-.59-.52 0-1.04.2-1.43.59L10.3 9.45l-7.72 7.72c-.78.78-.78 2.05 0 2.83L4 21.41c.39.39.9.59 1.41.59.51 0 1.02-.2 1.41-.59l7.78-7.78 2.81-2.81c.8-.78.8-2.07 0-2.86zM5.41 20L4 18.59l7.72-7.72 1.47 1.35L5.41 20z\"/>\n",
              "  </svg>\n",
              "      </button>\n",
              "      \n",
              "  <style>\n",
              "    .colab-df-container {\n",
              "      display:flex;\n",
              "      flex-wrap:wrap;\n",
              "      gap: 12px;\n",
              "    }\n",
              "\n",
              "    .colab-df-convert {\n",
              "      background-color: #E8F0FE;\n",
              "      border: none;\n",
              "      border-radius: 50%;\n",
              "      cursor: pointer;\n",
              "      display: none;\n",
              "      fill: #1967D2;\n",
              "      height: 32px;\n",
              "      padding: 0 0 0 0;\n",
              "      width: 32px;\n",
              "    }\n",
              "\n",
              "    .colab-df-convert:hover {\n",
              "      background-color: #E2EBFA;\n",
              "      box-shadow: 0px 1px 2px rgba(60, 64, 67, 0.3), 0px 1px 3px 1px rgba(60, 64, 67, 0.15);\n",
              "      fill: #174EA6;\n",
              "    }\n",
              "\n",
              "    [theme=dark] .colab-df-convert {\n",
              "      background-color: #3B4455;\n",
              "      fill: #D2E3FC;\n",
              "    }\n",
              "\n",
              "    [theme=dark] .colab-df-convert:hover {\n",
              "      background-color: #434B5C;\n",
              "      box-shadow: 0px 1px 3px 1px rgba(0, 0, 0, 0.15);\n",
              "      filter: drop-shadow(0px 1px 2px rgba(0, 0, 0, 0.3));\n",
              "      fill: #FFFFFF;\n",
              "    }\n",
              "  </style>\n",
              "\n",
              "      <script>\n",
              "        const buttonEl =\n",
              "          document.querySelector('#df-5d32790a-84d7-4bc9-aca6-30d87e544e42 button.colab-df-convert');\n",
              "        buttonEl.style.display =\n",
              "          google.colab.kernel.accessAllowed ? 'block' : 'none';\n",
              "\n",
              "        async function convertToInteractive(key) {\n",
              "          const element = document.querySelector('#df-5d32790a-84d7-4bc9-aca6-30d87e544e42');\n",
              "          const dataTable =\n",
              "            await google.colab.kernel.invokeFunction('convertToInteractive',\n",
              "                                                     [key], {});\n",
              "          if (!dataTable) return;\n",
              "\n",
              "          const docLinkHtml = 'Like what you see? Visit the ' +\n",
              "            '<a target=\"_blank\" href=https://colab.research.google.com/notebooks/data_table.ipynb>data table notebook</a>'\n",
              "            + ' to learn more about interactive tables.';\n",
              "          element.innerHTML = '';\n",
              "          dataTable['output_type'] = 'display_data';\n",
              "          await google.colab.output.renderOutput(dataTable, element);\n",
              "          const docLink = document.createElement('div');\n",
              "          docLink.innerHTML = docLinkHtml;\n",
              "          element.appendChild(docLink);\n",
              "        }\n",
              "      </script>\n",
              "    </div>\n",
              "  </div>\n",
              "  "
            ]
          },
          "metadata": {},
          "execution_count": 49
        }
      ]
    }
  ],
  "metadata": {
    "kernelspec": {
      "display_name": "Python 3 (ipykernel)",
      "language": "python",
      "name": "python3"
    },
    "language_info": {
      "codemirror_mode": {
        "name": "ipython",
        "version": 3
      },
      "file_extension": ".py",
      "mimetype": "text/x-python",
      "name": "python",
      "nbconvert_exporter": "python",
      "pygments_lexer": "ipython3",
      "version": "3.9.7"
    },
    "colab": {
      "name": "Tesla Stock Price Prediction.ipynb",
      "provenance": []
    }
  },
  "nbformat": 4,
  "nbformat_minor": 5
}